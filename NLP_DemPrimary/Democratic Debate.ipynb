{
 "cells": [
  {
   "cell_type": "markdown",
   "metadata": {},
   "source": [
    "### Imports"
   ]
  },
  {
   "cell_type": "code",
   "execution_count": 1,
   "metadata": {},
   "outputs": [
    {
     "name": "stderr",
     "output_type": "stream",
     "text": [
      "[nltk_data] Downloading package stopwords to /home/anna/nltk_data...\n",
      "[nltk_data]   Package stopwords is already up-to-date!\n"
     ]
    }
   ],
   "source": [
    "%matplotlib inline\n",
    "import matplotlib.pyplot as plt\n",
    "import seaborn as sns\n",
    "import pandas as pd\n",
    "import numpy as np\n",
    "import re\n",
    "from pprint import pprint\n",
    "sns.set()\n",
    "\n",
    "# Natural Language Toolkit\n",
    "import nltk\n",
    "nltk.download('stopwords')\n",
    "\n",
    "# A package to process word contractions\n",
    "from pycontractions import Contractions\n",
    "import gensim.downloader as api\n",
    "\n",
    "\n",
    "import gensim\n",
    "import gensim.corpora as corpora\n",
    "from gensim.utils import simple_preprocess\n",
    "from gensim.models import CoherenceModel\n",
    "import spacy\n",
    "\n",
    "# plotting tools\n",
    "import pyLDAvis\n",
    "import pyLDAvis.gensim\n",
    "\n",
    "import warnings\n",
    "warnings.filterwarnings('ignore')"
   ]
  },
  {
   "cell_type": "code",
   "execution_count": 2,
   "metadata": {},
   "outputs": [],
   "source": [
    "# load the data\n",
    "df = pd.read_csv('debate_transcripts_v2_2020-02-23.csv',encoding='cp1252')"
   ]
  },
  {
   "cell_type": "markdown",
   "metadata": {},
   "source": [
    "I'd like to answer the question, who spent the most time talking about each subject during the democratic primary debates."
   ]
  },
  {
   "cell_type": "markdown",
   "metadata": {},
   "source": [
    "### Exploring the Data"
   ]
  },
  {
   "cell_type": "code",
   "execution_count": 3,
   "metadata": {},
   "outputs": [
    {
     "data": {
      "text/plain": [
       "(5333, 5)"
      ]
     },
     "execution_count": 3,
     "metadata": {},
     "output_type": "execute_result"
    }
   ],
   "source": [
    "df.shape"
   ]
  },
  {
   "cell_type": "code",
   "execution_count": 4,
   "metadata": {},
   "outputs": [
    {
     "data": {
      "text/html": [
       "<div>\n",
       "<style scoped>\n",
       "    .dataframe tbody tr th:only-of-type {\n",
       "        vertical-align: middle;\n",
       "    }\n",
       "\n",
       "    .dataframe tbody tr th {\n",
       "        vertical-align: top;\n",
       "    }\n",
       "\n",
       "    .dataframe thead th {\n",
       "        text-align: right;\n",
       "    }\n",
       "</style>\n",
       "<table border=\"1\" class=\"dataframe\">\n",
       "  <thead>\n",
       "    <tr style=\"text-align: right;\">\n",
       "      <th></th>\n",
       "      <th>debate_name</th>\n",
       "      <th>debate_section</th>\n",
       "      <th>speaker</th>\n",
       "      <th>speech</th>\n",
       "      <th>speaking_time_seconds</th>\n",
       "    </tr>\n",
       "  </thead>\n",
       "  <tbody>\n",
       "    <tr>\n",
       "      <th>0</th>\n",
       "      <td>New Hampshire Democratic Debate Transcript</td>\n",
       "      <td>Part 1</td>\n",
       "      <td>George S.</td>\n",
       "      <td>Candidates, welcome. Vice President Biden, the...</td>\n",
       "      <td>18.0</td>\n",
       "    </tr>\n",
       "    <tr>\n",
       "      <th>1</th>\n",
       "      <td>New Hampshire Democratic Debate Transcript</td>\n",
       "      <td>Part 1</td>\n",
       "      <td>Joe Biden</td>\n",
       "      <td>Oh, they didn’t miss anything. It’s a long rac...</td>\n",
       "      <td>36.0</td>\n",
       "    </tr>\n",
       "    <tr>\n",
       "      <th>2</th>\n",
       "      <td>New Hampshire Democratic Debate Transcript</td>\n",
       "      <td>Part 1</td>\n",
       "      <td>George S.</td>\n",
       "      <td>Why are Senator Sanders and Mayor Buttigieg to...</td>\n",
       "      <td>4.0</td>\n",
       "    </tr>\n",
       "    <tr>\n",
       "      <th>3</th>\n",
       "      <td>New Hampshire Democratic Debate Transcript</td>\n",
       "      <td>Part 1</td>\n",
       "      <td>Joe Biden</td>\n",
       "      <td>Well, you know that with regard to Senator San...</td>\n",
       "      <td>41.0</td>\n",
       "    </tr>\n",
       "    <tr>\n",
       "      <th>4</th>\n",
       "      <td>New Hampshire Democratic Debate Transcript</td>\n",
       "      <td>Part 1</td>\n",
       "      <td>George S.</td>\n",
       "      <td>Senator Sanders, let me give you the chance to...</td>\n",
       "      <td>21.0</td>\n",
       "    </tr>\n",
       "    <tr>\n",
       "      <th>5</th>\n",
       "      <td>New Hampshire Democratic Debate Transcript</td>\n",
       "      <td>Part 1</td>\n",
       "      <td>Bernie Sanders</td>\n",
       "      <td>Because Donald Trump lies all the time. It doe...</td>\n",
       "      <td>41.0</td>\n",
       "    </tr>\n",
       "    <tr>\n",
       "      <th>6</th>\n",
       "      <td>New Hampshire Democratic Debate Transcript</td>\n",
       "      <td>Part 1</td>\n",
       "      <td>Bernie Sanders</td>\n",
       "      <td>I believe that the way we beat Trump is by hav...</td>\n",
       "      <td>39.0</td>\n",
       "    </tr>\n",
       "    <tr>\n",
       "      <th>7</th>\n",
       "      <td>New Hampshire Democratic Debate Transcript</td>\n",
       "      <td>Part 1</td>\n",
       "      <td>George S.</td>\n",
       "      <td>But Senator, let me follow up there and then w...</td>\n",
       "      <td>12.0</td>\n",
       "    </tr>\n",
       "    <tr>\n",
       "      <th>8</th>\n",
       "      <td>New Hampshire Democratic Debate Transcript</td>\n",
       "      <td>Part 1</td>\n",
       "      <td>Bernie Sanders</td>\n",
       "      <td>That’s true. And that’s the disappointment and...</td>\n",
       "      <td>23.0</td>\n",
       "    </tr>\n",
       "    <tr>\n",
       "      <th>9</th>\n",
       "      <td>New Hampshire Democratic Debate Transcript</td>\n",
       "      <td>Part 1</td>\n",
       "      <td>George S.</td>\n",
       "      <td>Before I move on to Mayor Buttigieg, let me ju...</td>\n",
       "      <td>11.0</td>\n",
       "    </tr>\n",
       "  </tbody>\n",
       "</table>\n",
       "</div>"
      ],
      "text/plain": [
       "                                  debate_name debate_section         speaker  \\\n",
       "0  New Hampshire Democratic Debate Transcript         Part 1       George S.   \n",
       "1  New Hampshire Democratic Debate Transcript         Part 1       Joe Biden   \n",
       "2  New Hampshire Democratic Debate Transcript         Part 1       George S.   \n",
       "3  New Hampshire Democratic Debate Transcript         Part 1       Joe Biden   \n",
       "4  New Hampshire Democratic Debate Transcript         Part 1       George S.   \n",
       "5  New Hampshire Democratic Debate Transcript         Part 1  Bernie Sanders   \n",
       "6  New Hampshire Democratic Debate Transcript         Part 1  Bernie Sanders   \n",
       "7  New Hampshire Democratic Debate Transcript         Part 1       George S.   \n",
       "8  New Hampshire Democratic Debate Transcript         Part 1  Bernie Sanders   \n",
       "9  New Hampshire Democratic Debate Transcript         Part 1       George S.   \n",
       "\n",
       "                                              speech  speaking_time_seconds  \n",
       "0  Candidates, welcome. Vice President Biden, the...                   18.0  \n",
       "1  Oh, they didn’t miss anything. It’s a long rac...                   36.0  \n",
       "2  Why are Senator Sanders and Mayor Buttigieg to...                    4.0  \n",
       "3  Well, you know that with regard to Senator San...                   41.0  \n",
       "4  Senator Sanders, let me give you the chance to...                   21.0  \n",
       "5  Because Donald Trump lies all the time. It doe...                   41.0  \n",
       "6  I believe that the way we beat Trump is by hav...                   39.0  \n",
       "7  But Senator, let me follow up there and then w...                   12.0  \n",
       "8  That’s true. And that’s the disappointment and...                   23.0  \n",
       "9  Before I move on to Mayor Buttigieg, let me ju...                   11.0  "
      ]
     },
     "execution_count": 4,
     "metadata": {},
     "output_type": "execute_result"
    }
   ],
   "source": [
    "# prints top 10 entries\n",
    "df.head(10)"
   ]
  },
  {
   "cell_type": "markdown",
   "metadata": {},
   "source": [
    "Here we look for missing entries. Since I'm asking the question, who spent the most time on what topics, it is necessary that speaking_time is filled in."
   ]
  },
  {
   "cell_type": "code",
   "execution_count": 5,
   "metadata": {},
   "outputs": [
    {
     "data": {
      "text/plain": [
       "debate_name                0\n",
       "debate_section             0\n",
       "speaker                    0\n",
       "speech                     0\n",
       "speaking_time_seconds    513\n",
       "dtype: int64"
      ]
     },
     "execution_count": 5,
     "metadata": {},
     "output_type": "execute_result"
    }
   ],
   "source": [
    "# now to look for missing entries\n",
    "df.isna().sum(axis=0)"
   ]
  },
  {
   "cell_type": "markdown",
   "metadata": {},
   "source": [
    "There are 513 missing values. Since I want to ask which candidate spent the most time talking about which topics, I cannot use these rows and they should be removed. Now let's take a look at the remaining distribution."
   ]
  },
  {
   "cell_type": "code",
   "execution_count": 6,
   "metadata": {},
   "outputs": [
    {
     "data": {
      "text/plain": [
       "<matplotlib.axes._subplots.AxesSubplot at 0x7faccc3b6150>"
      ]
     },
     "execution_count": 6,
     "metadata": {},
     "output_type": "execute_result"
    },
    {
     "data": {
      "image/png": "[encoded data removed]",
      "text/plain": [
       "<Figure size 432x288 with 1 Axes>"
      ]
     },
     "metadata": {},
     "output_type": "display_data"
    }
   ],
   "source": [
    "df[df.isna().any(axis=1)]['speaker'].value_counts().plot(kind='bar')"
   ]
  },
  {
   "cell_type": "markdown",
   "metadata": {},
   "source": [
    "A significant fraction of these entries come from moderators/anchors: Chuck Todd, Lester Holt, Rachel Maddow, etc. Removing these entries should have little effect on the data, except in the cases of Elizabeth Warren and Tulsi Gabbard.\n",
    "\n",
    "The next question to answer is why don't these entries have speaking time.\n"
   ]
  },
  {
   "cell_type": "code",
   "execution_count": 7,
   "metadata": {},
   "outputs": [
    {
     "data": {
      "text/plain": [
       "153     We have much more today coming up, but we have...\n",
       "322     Candidates. Thank you. Thanks for a great deba...\n",
       "669     Candidates, thank you very, very much. That co...\n",
       "826     We’re going to take a short break and we will be…\n",
       "1030    We are going to take a very short break. That ...\n",
       "                              ...                        \n",
       "4807    But I got my chance. It was a 50 dollar a seme...\n",
       "4808    We would like to thank all of the candidates t...\n",
       "4809    We certainly hope you will join us then. But f...\n",
       "5075                      Mayor Buttigieg, your thoughts.\n",
       "5332    For now, for all of us at NBC News, I’m Lester...\n",
       "Name: speech, Length: 513, dtype: object"
      ]
     },
     "execution_count": 7,
     "metadata": {},
     "output_type": "execute_result"
    }
   ],
   "source": [
    "# selects data frame where NaN speaking time and chuck todd is the speaker .speaker.isin(['Chuck Todd'])\n",
    "df[df.isna().any(axis=1)]['speech']"
   ]
  },
  {
   "cell_type": "markdown",
   "metadata": {},
   "source": [
    "It appears that a significant portion of these entries are due to commercial breaks and are safe to remove."
   ]
  },
  {
   "cell_type": "code",
   "execution_count": 8,
   "metadata": {},
   "outputs": [],
   "source": [
    "# drop the NaN entries\n",
    "df.dropna(inplace=True)"
   ]
  },
  {
   "cell_type": "code",
   "execution_count": 9,
   "metadata": {},
   "outputs": [
    {
     "data": {
      "text/plain": [
       "debate_name              0\n",
       "debate_section           0\n",
       "speaker                  0\n",
       "speech                   0\n",
       "speaking_time_seconds    0\n",
       "dtype: int64"
      ]
     },
     "execution_count": 9,
     "metadata": {},
     "output_type": "execute_result"
    }
   ],
   "source": [
    "df.isna().sum() # all clear!"
   ]
  },
  {
   "cell_type": "markdown",
   "metadata": {},
   "source": [
    "The next question is what do we do with the moderator questions?\n",
    "For simplicity, I'm going to throw out everyone I don't care about. Here, I'm going to focus on candidates who made it to the first primary vote:\n",
    "\n",
    "Bernie Sanders, Elizabeth Warren, Amy Klobuchar,Pete Buttigieg, \n",
    "Joe Biden, Tulsi Gabbard, Michael Bloomberg"
   ]
  },
  {
   "cell_type": "code",
   "execution_count": 10,
   "metadata": {},
   "outputs": [
    {
     "name": "stdout",
     "output_type": "stream",
     "text": [
      "['A. Cooper', 'Abby Phillips', 'Adam Sexton', 'Amna Nawaz', 'Amy Klobuchar', 'Amy Walter', 'Anderson Cooper', 'Andrea Mitchell', 'Andrew Yang', 'Announcer', 'Ashley Parker', 'Audience', 'B. Pfannenstiel', 'Bennett', 'Bernie Sanders', 'Beto O’Rourke', 'Bill de Blasio', 'Brianne P.', 'Chuck Todd', 'Cory Booker', 'Crowd', 'Dana Bash', 'David Muir', 'Devin Dwyer', 'Diana', 'Don Lemon', 'Elizabeth Warren', 'Eric Stalwell', 'Eric Swalwell', 'Erin Burnett', 'Female', 'George S.', 'Hallie Jackson', 'Helen', 'J. Hickenlooper', 'Jake Tapper', 'Jay Inslee', 'Joe Biden', 'John Delaney', 'John H.', 'John Hickenloop', 'John King', 'Jon Ralston', 'Jorge Ramos', 'Jose D.B.', 'Judy Woodruff', 'Julian Castro', 'Kamala Harris', 'Kirseten Gillibrand', 'Kirsten Gillibrand', 'Kristen Welker', 'Lester Holt', 'Linsey Davis', 'Male', 'Marc Lacey', 'Marianne Williamson', 'Michael Bennet', 'Michael Bloomberg', 'Moderator', 'Moderator 1', 'Moderator 2', 'Moderator 4', 'Monica Hernandez', 'N. Henderson', 'Pete Buttigieg', 'Rachel Maddow', 'Rachel Scott', 'Savanagh G.', 'Sec. Castro', 'Speaker 1', 'Speaker 12', 'Speaker 13', 'Speaker 2', 'Speaker 3', 'Speaker 4', 'Speaker 5', 'Speaker 6', 'Speaker 7', 'Speaker 8', 'Speaker 9', 'Stephanie Sy', 'Steve Bullock', 'Steve Kornacki', 'Tim Alberta', 'Tim Ryan', 'Tom Steyer', 'Tulsi Gabbard', 'Vanessa Hauc', 'Voiceover', 'Wolf Blitzer', 'Yamiche A.']\n"
     ]
    }
   ],
   "source": [
    "print(sorted(set(df['speaker'])))"
   ]
  },
  {
   "cell_type": "code",
   "execution_count": 11,
   "metadata": {},
   "outputs": [],
   "source": [
    "# select for the people we want\n",
    "speakers = ['Amy Klobuchar','Bernie Sanders', 'Elizabeth Warren','Joe Biden','Michael Bloomberg','Pete Buttigieg','Tulsi Gabbard']"
   ]
  },
  {
   "cell_type": "code",
   "execution_count": 12,
   "metadata": {},
   "outputs": [],
   "source": [
    "df = df[df.speaker.isin(speakers)] # only keep the relevant candidates"
   ]
  },
  {
   "cell_type": "code",
   "execution_count": 13,
   "metadata": {},
   "outputs": [],
   "source": [
    "df.reset_index(inplace=True,drop=True) # resets the index now that we've dropped columns"
   ]
  },
  {
   "cell_type": "code",
   "execution_count": 14,
   "metadata": {},
   "outputs": [
    {
     "data": {
      "text/html": [
       "<div>\n",
       "<style scoped>\n",
       "    .dataframe tbody tr th:only-of-type {\n",
       "        vertical-align: middle;\n",
       "    }\n",
       "\n",
       "    .dataframe tbody tr th {\n",
       "        vertical-align: top;\n",
       "    }\n",
       "\n",
       "    .dataframe thead th {\n",
       "        text-align: right;\n",
       "    }\n",
       "</style>\n",
       "<table border=\"1\" class=\"dataframe\">\n",
       "  <thead>\n",
       "    <tr style=\"text-align: right;\">\n",
       "      <th></th>\n",
       "      <th>debate_name</th>\n",
       "      <th>debate_section</th>\n",
       "      <th>speaker</th>\n",
       "      <th>speech</th>\n",
       "      <th>speaking_time_seconds</th>\n",
       "    </tr>\n",
       "  </thead>\n",
       "  <tbody>\n",
       "    <tr>\n",
       "      <th>0</th>\n",
       "      <td>New Hampshire Democratic Debate Transcript</td>\n",
       "      <td>Part 1</td>\n",
       "      <td>Joe Biden</td>\n",
       "      <td>Oh, they didn’t miss anything. It’s a long rac...</td>\n",
       "      <td>36.0</td>\n",
       "    </tr>\n",
       "    <tr>\n",
       "      <th>1</th>\n",
       "      <td>New Hampshire Democratic Debate Transcript</td>\n",
       "      <td>Part 1</td>\n",
       "      <td>Joe Biden</td>\n",
       "      <td>Well, you know that with regard to Senator San...</td>\n",
       "      <td>41.0</td>\n",
       "    </tr>\n",
       "    <tr>\n",
       "      <th>2</th>\n",
       "      <td>New Hampshire Democratic Debate Transcript</td>\n",
       "      <td>Part 1</td>\n",
       "      <td>Bernie Sanders</td>\n",
       "      <td>Because Donald Trump lies all the time. It doe...</td>\n",
       "      <td>41.0</td>\n",
       "    </tr>\n",
       "    <tr>\n",
       "      <th>3</th>\n",
       "      <td>New Hampshire Democratic Debate Transcript</td>\n",
       "      <td>Part 1</td>\n",
       "      <td>Bernie Sanders</td>\n",
       "      <td>I believe that the way we beat Trump is by hav...</td>\n",
       "      <td>39.0</td>\n",
       "    </tr>\n",
       "    <tr>\n",
       "      <th>4</th>\n",
       "      <td>New Hampshire Democratic Debate Transcript</td>\n",
       "      <td>Part 1</td>\n",
       "      <td>Bernie Sanders</td>\n",
       "      <td>That’s true. And that’s the disappointment and...</td>\n",
       "      <td>23.0</td>\n",
       "    </tr>\n",
       "  </tbody>\n",
       "</table>\n",
       "</div>"
      ],
      "text/plain": [
       "                                  debate_name debate_section         speaker  \\\n",
       "0  New Hampshire Democratic Debate Transcript         Part 1       Joe Biden   \n",
       "1  New Hampshire Democratic Debate Transcript         Part 1       Joe Biden   \n",
       "2  New Hampshire Democratic Debate Transcript         Part 1  Bernie Sanders   \n",
       "3  New Hampshire Democratic Debate Transcript         Part 1  Bernie Sanders   \n",
       "4  New Hampshire Democratic Debate Transcript         Part 1  Bernie Sanders   \n",
       "\n",
       "                                              speech  speaking_time_seconds  \n",
       "0  Oh, they didn’t miss anything. It’s a long rac...                   36.0  \n",
       "1  Well, you know that with regard to Senator San...                   41.0  \n",
       "2  Because Donald Trump lies all the time. It doe...                   41.0  \n",
       "3  I believe that the way we beat Trump is by hav...                   39.0  \n",
       "4  That’s true. And that’s the disappointment and...                   23.0  "
      ]
     },
     "execution_count": 14,
     "metadata": {},
     "output_type": "execute_result"
    }
   ],
   "source": [
    "df.head()"
   ]
  },
  {
   "cell_type": "markdown",
   "metadata": {},
   "source": [
    "Now that we have our chosen candidates, I want to ensure that I use data from candidates who have enough time to actually say something. Candidates can and do get interupted by both moderators and other candidates."
   ]
  },
  {
   "cell_type": "code",
   "execution_count": 15,
   "metadata": {},
   "outputs": [
    {
     "data": {
      "text/plain": [
       "<matplotlib.axes._subplots.AxesSubplot at 0x7faccc318590>"
      ]
     },
     "execution_count": 15,
     "metadata": {},
     "output_type": "execute_result"
    },
    {
     "data": {
      "image/png": "[encoded data removed]",
      "text/plain": [
       "<Figure size 432x288 with 1 Axes>"
      ]
     },
     "metadata": {},
     "output_type": "display_data"
    }
   ],
   "source": [
    "df['speaking_time_seconds'].hist()"
   ]
  },
  {
   "cell_type": "markdown",
   "metadata": {},
   "source": [
    "There are a lot of entries with < 10 seconds. Now let's look at those entries to see when topics start appearing. I start with a lower threshold of 2 seconds, and an upper threshold of 5 seconds. I realized that many of these entries ended with a dash '-', indicating that the speaker got cutoff or interrupted."
   ]
  },
  {
   "cell_type": "code",
   "execution_count": 16,
   "metadata": {},
   "outputs": [
    {
     "data": {
      "text/plain": [
       "717                             I want to give a reality-\n",
       "773     What we owe to those survivors is to actually ...\n",
       "783     We’ve got to attack the corruption and repeal ...\n",
       "793           That is why we need a political revolution-\n",
       "805     I’d like to ask our other candidates this ques...\n",
       "812        … why it is that we have had laws on the book-\n",
       "850     You’ve got to take on the greed and the profit...\n",
       "867     … had to fight against people in his own admin...\n",
       "1177    And it’s not nearly enough. [crosstalk 00:16:1...\n",
       "1215    Donald Trump wants to use these people as poli...\n",
       "1230                 And when 90% of Americans to happen-\n",
       "1282    And I truly believe that if we’re going to mov...\n",
       "1323    Four little girls in Birmingham, Alabama lost ...\n",
       "1474    I reject the premise that there’s only one or ...\n",
       "1476    We need a political revolution. People have go...\n",
       "1486    If the government wants to do that, if people ...\n",
       "1532                        That’s just not true. People-\n",
       "1599    It just takes us a long time. Unfortunately or...\n",
       "1742    But you’re still raising those taxes and when ...\n",
       "1761    We don’t want someone that looks at just plans...\n",
       "1784    I would add one more thing, I have been in the...\n",
       "1796    Well I would say for anybody who ran for presi...\n",
       "1806                                       Everybody can-\n",
       "1834                  I’m running because so many people-\n",
       "Name: speech, dtype: object"
      ]
     },
     "execution_count": 16,
     "metadata": {},
     "output_type": "execute_result"
    }
   ],
   "source": [
    "selector = (df['speaking_time_seconds']<5) & (df['speaking_time_seconds']>2)\n",
    "df[selector]['speech'][df[selector]['speech'].str.endswith(\"-\")]"
   ]
  },
  {
   "cell_type": "markdown",
   "metadata": {},
   "source": [
    "Exploring this data, we can see a good example of a speaker getting interrupted, Pete Buttigieg. The indicies are 773-775, and it is just him talking while getting interrupted. The person who interrupted him got removed by dropping the NaN values.\n",
    "\n",
    "The key to linking statements should be if the same speaker is speaking in adjacent indicies (or maybe) every other, and the previous statement ends with '-' and the next statement starts with '...', stitch them together."
   ]
  },
  {
   "cell_type": "code",
   "execution_count": 17,
   "metadata": {},
   "outputs": [
    {
     "name": "stdout",
     "output_type": "stream",
     "text": [
      "What we owe to those survivors is to actually deliver a solution. I’m glad you offered up-\n",
      "… that analogy to healthcare because this is really important. We are at the cusp of building a new American majority, to actually do things that congressmen and senators have been talking about with almost no impact for my entire-\n",
      "… adult life. No, this is really important, okay? On guns, we are this close to an assault weapons ban. That would be huge.\n"
     ]
    }
   ],
   "source": [
    "print(df.loc[773]['speech'])\n",
    "print(df.loc[774]['speech'])\n",
    "print(df.loc[775]['speech'])"
   ]
  },
  {
   "cell_type": "markdown",
   "metadata": {},
   "source": [
    "Define a merge function. Which would merge statements like above."
   ]
  },
  {
   "cell_type": "code",
   "execution_count": 18,
   "metadata": {},
   "outputs": [],
   "source": [
    "def merge_speaking(df,indicies):\n",
    "    '''\n",
    "    df: a copy of the supplied dataframe \n",
    "    indicies: a list of that want to add together, accesible by iloc\n",
    "    '''\n",
    "    clean_strs = ''\n",
    "    total_time = 0\n",
    "    \n",
    "    for i in indicies:\n",
    "\n",
    "        # clean the strings\n",
    "        tmp = (re.sub('-$','',df.loc[i]['speech']))\n",
    "        tmp = re.sub('^\\u2026','',tmp)\n",
    "        total_time = total_time + df.loc[i]['speaking_time_seconds']\n",
    "        clean_strs = clean_strs + tmp\n",
    "    \n",
    "    # drop the extra rows\n",
    "    df = df.drop(indicies[1:])\n",
    "    df.loc[indicies[0],'speech'] = clean_strs\n",
    "    df.loc[indicies[0],'speaking_time_seconds'] = total_time\n",
    "    return df\n",
    "        "
   ]
  },
  {
   "cell_type": "code",
   "execution_count": 19,
   "metadata": {},
   "outputs": [
    {
     "name": "stdout",
     "output_type": "stream",
     "text": [
      "What we owe to those survivors is to actually deliver a solution. I’m glad you offered up that analogy to healthcare because this is really important. We are at the cusp of building a new American majority, to actually do things that congressmen and senators have been talking about with almost no impact for my entire adult life. No, this is really important, okay? On guns, we are this close to an assault weapons ban. That would be huge.\n"
     ]
    }
   ],
   "source": [
    "# Test case\n",
    "merge = [773,774,775]\n",
    "p = merge_speaking(df,merge)\n",
    "print(p.loc[773]['speech']) #it worked!"
   ]
  },
  {
   "cell_type": "markdown",
   "metadata": {},
   "source": [
    "Define a function to identify which indicies need to be merged."
   ]
  },
  {
   "cell_type": "code",
   "execution_count": 20,
   "metadata": {},
   "outputs": [],
   "source": [
    "def get_merge_indicies(df,speaker):\n",
    "    indices = []\n",
    "    tmp = []\n",
    "    interrupted = False\n",
    "    for i,row in df[df['speaker']==speaker].iterrows():\n",
    "        if (not interrupted) and (row['speech'].endswith('-')):\n",
    "            interrupted = True\n",
    "            tmp.append(i)\n",
    "\n",
    "        elif interrupted and row['speech'].startswith('\\u2026'):\n",
    "            tmp.append(i)\n",
    "            if not row['speech'].endswith('-'):\n",
    "                indices.append(tmp)\n",
    "                tmp = []\n",
    "                interrupted = False\n",
    "        else:\n",
    "            interrupted = False\n",
    "            if len(tmp) > 0:\n",
    "                if len(tmp) > 1:\n",
    "                    indices.append(tmp)\n",
    "                tmp = []\n",
    "    \n",
    "    return indices"
   ]
  },
  {
   "cell_type": "code",
   "execution_count": 21,
   "metadata": {},
   "outputs": [],
   "source": [
    "# get the indices which need appending\n",
    "all_indices = []\n",
    "for speaker in speakers:\n",
    "    speaker_indices = get_merge_indicies(df,speaker)\n",
    "    all_indices.append(speaker_indices)"
   ]
  },
  {
   "cell_type": "code",
   "execution_count": 22,
   "metadata": {},
   "outputs": [],
   "source": [
    "for idxs in all_indices:\n",
    "    for merge in idxs:\n",
    "        df = merge_speaking(df,merge)\n",
    "        #print(p.loc[merge[0]]['speech'])"
   ]
  },
  {
   "cell_type": "markdown",
   "metadata": {},
   "source": [
    "Let's look at whether anything of substance is said in less than one second now that the interrupting segments are merged."
   ]
  },
  {
   "cell_type": "code",
   "execution_count": 23,
   "metadata": {},
   "outputs": [
    {
     "data": {
      "text/plain": [
       "27                                 70 is the new 50.\n",
       "30                            George, George, can I…\n",
       "53                                    Let’s do that.\n",
       "66                                              Yes.\n",
       "95                          Let’s get that straight.\n",
       "                            ...                     \n",
       "1758                                  May I respond?\n",
       "1766    Can I respond to the Vice President, please?\n",
       "1789                                           Just-\n",
       "1797                             You know what Pete?\n",
       "1824                                      Thank you.\n",
       "Name: speech, Length: 113, dtype: object"
      ]
     },
     "execution_count": 23,
     "metadata": {},
     "output_type": "execute_result"
    }
   ],
   "source": [
    "selector = df['speaking_time_seconds'] < 1\n",
    "df[selector]['speech']"
   ]
  },
  {
   "cell_type": "markdown",
   "metadata": {},
   "source": [
    "Looks like anything left are short, cute sentences that don't have much content. These can be safely removed as they aren't long enough for topics."
   ]
  },
  {
   "cell_type": "code",
   "execution_count": 24,
   "metadata": {},
   "outputs": [],
   "source": [
    "df = df[~selector]"
   ]
  },
  {
   "cell_type": "markdown",
   "metadata": {},
   "source": [
    "Now, two seconds..."
   ]
  },
  {
   "cell_type": "code",
   "execution_count": 25,
   "metadata": {},
   "outputs": [
    {
     "data": {
      "text/plain": [
       "5                                                I’m not.\n",
       "41                   I wasn’t able to hear that question.\n",
       "50                                           There we go.\n",
       "93           We ought to be able to sue the gun industry.\n",
       "113                     I don’t think that’s quite right.\n",
       "                              ...                        \n",
       "1811                                   Play by the rules.\n",
       "1813                   Not necessarily. Not till there’s-\n",
       "1814                                Let the process work.\n",
       "1817                                                 Yes.\n",
       "1818    … who has the most votes should become the nom...\n",
       "Name: speech, Length: 138, dtype: object"
      ]
     },
     "execution_count": 25,
     "metadata": {},
     "output_type": "execute_result"
    }
   ],
   "source": [
    "selector = (df['speaking_time_seconds'] <2)\n",
    "df[selector]['speech']"
   ]
  },
  {
   "cell_type": "markdown",
   "metadata": {},
   "source": [
    "Seems like it's okay to remove these too. I see one passage talking about election policy, but I'm looking for larger political topics."
   ]
  },
  {
   "cell_type": "code",
   "execution_count": 26,
   "metadata": {},
   "outputs": [],
   "source": [
    "df = df[~selector]"
   ]
  },
  {
   "cell_type": "code",
   "execution_count": 27,
   "metadata": {},
   "outputs": [],
   "source": [
    "df.reset_index(inplace=True,drop=True) # resets the index now that we've dropped columns"
   ]
  },
  {
   "cell_type": "code",
   "execution_count": 28,
   "metadata": {},
   "outputs": [
    {
     "data": {
      "text/html": [
       "<div>\n",
       "<style scoped>\n",
       "    .dataframe tbody tr th:only-of-type {\n",
       "        vertical-align: middle;\n",
       "    }\n",
       "\n",
       "    .dataframe tbody tr th {\n",
       "        vertical-align: top;\n",
       "    }\n",
       "\n",
       "    .dataframe thead th {\n",
       "        text-align: right;\n",
       "    }\n",
       "</style>\n",
       "<table border=\"1\" class=\"dataframe\">\n",
       "  <thead>\n",
       "    <tr style=\"text-align: right;\">\n",
       "      <th></th>\n",
       "      <th>debate_name</th>\n",
       "      <th>debate_section</th>\n",
       "      <th>speaker</th>\n",
       "      <th>speech</th>\n",
       "      <th>speaking_time_seconds</th>\n",
       "    </tr>\n",
       "  </thead>\n",
       "  <tbody>\n",
       "    <tr>\n",
       "      <th>0</th>\n",
       "      <td>New Hampshire Democratic Debate Transcript</td>\n",
       "      <td>Part 1</td>\n",
       "      <td>Joe Biden</td>\n",
       "      <td>Oh, they didn’t miss anything. It’s a long rac...</td>\n",
       "      <td>36.0</td>\n",
       "    </tr>\n",
       "    <tr>\n",
       "      <th>1</th>\n",
       "      <td>New Hampshire Democratic Debate Transcript</td>\n",
       "      <td>Part 1</td>\n",
       "      <td>Joe Biden</td>\n",
       "      <td>Well, you know that with regard to Senator San...</td>\n",
       "      <td>41.0</td>\n",
       "    </tr>\n",
       "    <tr>\n",
       "      <th>2</th>\n",
       "      <td>New Hampshire Democratic Debate Transcript</td>\n",
       "      <td>Part 1</td>\n",
       "      <td>Bernie Sanders</td>\n",
       "      <td>Because Donald Trump lies all the time. It doe...</td>\n",
       "      <td>41.0</td>\n",
       "    </tr>\n",
       "    <tr>\n",
       "      <th>3</th>\n",
       "      <td>New Hampshire Democratic Debate Transcript</td>\n",
       "      <td>Part 1</td>\n",
       "      <td>Bernie Sanders</td>\n",
       "      <td>I believe that the way we beat Trump is by hav...</td>\n",
       "      <td>39.0</td>\n",
       "    </tr>\n",
       "    <tr>\n",
       "      <th>4</th>\n",
       "      <td>New Hampshire Democratic Debate Transcript</td>\n",
       "      <td>Part 1</td>\n",
       "      <td>Bernie Sanders</td>\n",
       "      <td>That’s true. And that’s the disappointment and...</td>\n",
       "      <td>23.0</td>\n",
       "    </tr>\n",
       "    <tr>\n",
       "      <th>...</th>\n",
       "      <td>...</td>\n",
       "      <td>...</td>\n",
       "      <td>...</td>\n",
       "      <td>...</td>\n",
       "      <td>...</td>\n",
       "    </tr>\n",
       "    <tr>\n",
       "      <th>1520</th>\n",
       "      <td>Democratic Debate Transcript: Las Vegas, Nevad...</td>\n",
       "      <td>Part 2</td>\n",
       "      <td>Joe Biden</td>\n",
       "      <td>Lastly, I think it’s important that on day one...</td>\n",
       "      <td>13.0</td>\n",
       "    </tr>\n",
       "    <tr>\n",
       "      <th>1521</th>\n",
       "      <td>Democratic Debate Transcript: Las Vegas, Nevad...</td>\n",
       "      <td>Part 2</td>\n",
       "      <td>Joe Biden</td>\n",
       "      <td>Had, in fact, that immigration bill passed the...</td>\n",
       "      <td>5.0</td>\n",
       "    </tr>\n",
       "    <tr>\n",
       "      <th>1522</th>\n",
       "      <td>Democratic Debate Transcript: Las Vegas, Nevad...</td>\n",
       "      <td>Part 2</td>\n",
       "      <td>Bernie Sanders</td>\n",
       "      <td>Unfortunately Rulac, among other groups, Latin...</td>\n",
       "      <td>17.0</td>\n",
       "    </tr>\n",
       "    <tr>\n",
       "      <th>1523</th>\n",
       "      <td>Democratic Debate Transcript: Las Vegas, Nevad...</td>\n",
       "      <td>Part 2</td>\n",
       "      <td>Bernie Sanders</td>\n",
       "      <td>But where we don’t agree, I think, is why we a...</td>\n",
       "      <td>24.0</td>\n",
       "    </tr>\n",
       "    <tr>\n",
       "      <th>1524</th>\n",
       "      <td>Democratic Debate Transcript: Las Vegas, Nevad...</td>\n",
       "      <td>Part 2</td>\n",
       "      <td>Bernie Sanders</td>\n",
       "      <td>Bottom line here, real change never takes plac...</td>\n",
       "      <td>19.0</td>\n",
       "    </tr>\n",
       "  </tbody>\n",
       "</table>\n",
       "<p>1525 rows × 5 columns</p>\n",
       "</div>"
      ],
      "text/plain": [
       "                                            debate_name debate_section  \\\n",
       "0            New Hampshire Democratic Debate Transcript         Part 1   \n",
       "1            New Hampshire Democratic Debate Transcript         Part 1   \n",
       "2            New Hampshire Democratic Debate Transcript         Part 1   \n",
       "3            New Hampshire Democratic Debate Transcript         Part 1   \n",
       "4            New Hampshire Democratic Debate Transcript         Part 1   \n",
       "...                                                 ...            ...   \n",
       "1520  Democratic Debate Transcript: Las Vegas, Nevad...         Part 2   \n",
       "1521  Democratic Debate Transcript: Las Vegas, Nevad...         Part 2   \n",
       "1522  Democratic Debate Transcript: Las Vegas, Nevad...         Part 2   \n",
       "1523  Democratic Debate Transcript: Las Vegas, Nevad...         Part 2   \n",
       "1524  Democratic Debate Transcript: Las Vegas, Nevad...         Part 2   \n",
       "\n",
       "             speaker                                             speech  \\\n",
       "0          Joe Biden  Oh, they didn’t miss anything. It’s a long rac...   \n",
       "1          Joe Biden  Well, you know that with regard to Senator San...   \n",
       "2     Bernie Sanders  Because Donald Trump lies all the time. It doe...   \n",
       "3     Bernie Sanders  I believe that the way we beat Trump is by hav...   \n",
       "4     Bernie Sanders  That’s true. And that’s the disappointment and...   \n",
       "...              ...                                                ...   \n",
       "1520       Joe Biden  Lastly, I think it’s important that on day one...   \n",
       "1521       Joe Biden  Had, in fact, that immigration bill passed the...   \n",
       "1522  Bernie Sanders  Unfortunately Rulac, among other groups, Latin...   \n",
       "1523  Bernie Sanders  But where we don’t agree, I think, is why we a...   \n",
       "1524  Bernie Sanders  Bottom line here, real change never takes plac...   \n",
       "\n",
       "      speaking_time_seconds  \n",
       "0                      36.0  \n",
       "1                      41.0  \n",
       "2                      41.0  \n",
       "3                      39.0  \n",
       "4                      23.0  \n",
       "...                     ...  \n",
       "1520                   13.0  \n",
       "1521                    5.0  \n",
       "1522                   17.0  \n",
       "1523                   24.0  \n",
       "1524                   19.0  \n",
       "\n",
       "[1525 rows x 5 columns]"
      ]
     },
     "execution_count": 28,
     "metadata": {},
     "output_type": "execute_result"
    }
   ],
   "source": [
    "df"
   ]
  },
  {
   "cell_type": "code",
   "execution_count": 29,
   "metadata": {},
   "outputs": [
    {
     "data": {
      "text/plain": [
       "'… getting rid of the oil giveaways …'"
      ]
     },
     "execution_count": 29,
     "metadata": {},
     "output_type": "execute_result"
    }
   ],
   "source": [
    "selector = df['speaking_time_seconds']<3\n",
    "df[selector]['speech'].iloc[10]"
   ]
  },
  {
   "cell_type": "markdown",
   "metadata": {},
   "source": [
    "I'm starting to see words like 'oil' and 'immigration'. These statements need to be kept."
   ]
  },
  {
   "cell_type": "markdown",
   "metadata": {},
   "source": [
    "### Topic Modeling\n",
    "\n",
    "Topic Modeling is a technique to extract hidden topics from a large body of text. The challenge presents itself with how to extract a good number of topics. Ones which are distinct and meaningful.\n",
    "\n",
    "There are a couple topic modelling algorithms, but I will focus this work on Latent Dirichlet Allocation (LDA).LDA interprets a document as a collection of topics at some proportion. The topics are considered a collection of dominant keywords at some proportion."
   ]
  },
  {
   "cell_type": "markdown",
   "metadata": {},
   "source": [
    "### Preprocessing the Data\n",
    "\n",
    "The preprocessing of data involves:\n",
    "\n",
    "#### Tokenization: \n",
    "Sentences are split into individual lists of words.\n",
    "\n",
    "#### Removeal of Stopwords:\n",
    "Stopwords are words which have no meaning by themselves. They are words like 'of', 'is', 'the', etc. There is no common database for all stopwords. When testing topic modelling, stopwords can also include words which yield low quality topics.\n",
    "\n",
    "#### Lemmatization:\n",
    "Converts words into their root form, or lemma. It converts the words 'runs' and 'running' to their lemma, 'run'. It also handles tense. Words like 'went', 'goes', and 'gone' will be converted to their lemma, 'go'.\n",
    "\n",
    "#### Bigrams and Trigrams:\n",
    "Bigrams and trigrams. These are series of two or three words which appear next to each other."
   ]
  },
  {
   "cell_type": "markdown",
   "metadata": {},
   "source": [
    "#### Choosing Stopwords\n",
    "\n",
    "I am using a list provided by the natural language processing toolkit (nltk).\n",
    "\n",
    "Extended stop words are words I've chosen to remove, in addition to the standard dictionary I'm using. These words are chosen in order to create higher quality topics."
   ]
  },
  {
   "cell_type": "code",
   "execution_count": 30,
   "metadata": {},
   "outputs": [],
   "source": [
    "# stopwords filter out words which make the topics have low quality\n",
    "from nltk.corpus import stopwords"
   ]
  },
  {
   "cell_type": "code",
   "execution_count": 31,
   "metadata": {},
   "outputs": [],
   "source": [
    "# load the stopwords and add some of my own\n",
    "stop_words = stopwords.words('english')\n",
    "stop_words.extend(['from', 'subject', 're', 'edu', 'use','question','time','things','thing','com'])"
   ]
  },
  {
   "cell_type": "markdown",
   "metadata": {},
   "source": [
    "#### Tokenization\n",
    "Here I need to break up the setences into a list of individual words. This means I need to expand contractions, remove puncuation, and remove weird characters in the text."
   ]
  },
  {
   "cell_type": "code",
   "execution_count": 32,
   "metadata": {},
   "outputs": [],
   "source": [
    "data = df.speech.tolist()\n",
    "# remove ellipses\n",
    "data = [re.sub('\\u2026', '', response) for response in data]   "
   ]
  },
  {
   "cell_type": "markdown",
   "metadata": {},
   "source": [
    "Next we need to remove things like '[crosstalk ##:##:##]' or '[inaudible ##:##:##]'"
   ]
  },
  {
   "cell_type": "code",
   "execution_count": 33,
   "metadata": {},
   "outputs": [],
   "source": [
    "data = [re.sub('.crosstalk [0-9][0-9]:[0-9][0-9]:[0-9][0-9]..','',response) for response in data]\n",
    "data = [re.sub('.inaudible [0-9][0-9]:[0-9][0-9]:[0-9][0-9]..','',response) for response in data]"
   ]
  },
  {
   "cell_type": "code",
   "execution_count": 34,
   "metadata": {},
   "outputs": [],
   "source": [
    "# cp1252 to unicode encoding for the apostrophe\n",
    "data = [re.sub(\"\\u2019\",\"\\u0027\",response) for response in data]"
   ]
  },
  {
   "cell_type": "markdown",
   "metadata": {},
   "source": [
    "##### Expand contractions\n",
    "\n",
    "Words like 'don't' will be converted into its uncontracted form: 'do' and 'not'\n",
    "\n",
    "Here I am using a package called pycontractions."
   ]
  },
  {
   "cell_type": "code",
   "execution_count": 35,
   "metadata": {},
   "outputs": [],
   "source": [
    "# model for contractions function\n",
    "# not from disk, takes awhile to load\n",
    "model = api.load(\"word2vec-google-news-300\")"
   ]
  },
  {
   "cell_type": "code",
   "execution_count": 36,
   "metadata": {},
   "outputs": [],
   "source": [
    "cont = Contractions(kv_model=model)"
   ]
  },
  {
   "cell_type": "code",
   "execution_count": 37,
   "metadata": {},
   "outputs": [],
   "source": [
    "# prevents loading on first expand_texts call\n",
    "cont.load_models()"
   ]
  },
  {
   "cell_type": "code",
   "execution_count": 38,
   "metadata": {},
   "outputs": [],
   "source": [
    "# expand contractions, takes awhile\n",
    "data = list(cont.expand_texts(data,precise=True))"
   ]
  },
  {
   "cell_type": "markdown",
   "metadata": {},
   "source": [
    "#### Tokenize"
   ]
  },
  {
   "cell_type": "code",
   "execution_count": 39,
   "metadata": {},
   "outputs": [],
   "source": [
    "def tokenize(sentences):\n",
    "    for sentence in sentences:\n",
    "        yield(gensim.utils.simple_preprocess(str(sentence), deacc=True))  # deacc=True removes punctuations"
   ]
  },
  {
   "cell_type": "code",
   "execution_count": 40,
   "metadata": {},
   "outputs": [],
   "source": [
    "token_sentences = list(tokenize(data))"
   ]
  },
  {
   "cell_type": "markdown",
   "metadata": {},
   "source": [
    "#### Building Bigrams and Trigrams"
   ]
  },
  {
   "cell_type": "code",
   "execution_count": 41,
   "metadata": {},
   "outputs": [],
   "source": [
    "bigram = gensim.models.Phrases(token_sentences, min_count=5,threshold=100)\n",
    "trigram = gensim.models.Phrases(bigram[token_sentences],threshold=100)"
   ]
  },
  {
   "cell_type": "code",
   "execution_count": 42,
   "metadata": {},
   "outputs": [],
   "source": [
    "bigram_mod = gensim.models.phrases.Phraser(bigram)\n",
    "trigram_mod = gensim.models.phrases.Phraser(trigram)"
   ]
  },
  {
   "cell_type": "code",
   "execution_count": 43,
   "metadata": {},
   "outputs": [],
   "source": [
    "# necessary functions -- borrowed functions\n",
    "\n",
    "def remove_stopwords(texts):\n",
    "    return [[word for word in simple_preprocess(str(doc)) if word not in stop_words] for doc in texts]\n",
    "\n",
    "def make_bigrams(texts):\n",
    "    return [bigram_mod[doc] for doc in texts]\n",
    "\n",
    "def make_trigrams(texts):\n",
    "    return [trigram_mod[bigram_mod[doc]] for doc in texts]\n",
    "\n",
    "def lemmatization(texts,allowed_postags=['NOUN', 'ADJ', 'PROPN']):\n",
    "        texts_out = []\n",
    "        for sent in texts:\n",
    "            doc = nlp(\" \".join(sent)) \n",
    "            texts_out.append([token.lemma_ for token in doc if token.pos_ in allowed_postags])\n",
    "        return texts_out  "
   ]
  },
  {
   "cell_type": "code",
   "execution_count": 44,
   "metadata": {},
   "outputs": [],
   "source": [
    "# remove stopwords\n",
    "nostops = remove_stopwords(token_sentences)"
   ]
  },
  {
   "cell_type": "code",
   "execution_count": 45,
   "metadata": {},
   "outputs": [],
   "source": [
    "# make bigrams and trigrams\n",
    "bigrams = make_bigrams(nostops)\n",
    "trigrams = make_trigrams(nostops)"
   ]
  },
  {
   "cell_type": "code",
   "execution_count": 46,
   "metadata": {},
   "outputs": [],
   "source": [
    "# loads spaCy model by name\n",
    "nlp = spacy.load('en', disable=['parser','ner'])"
   ]
  },
  {
   "cell_type": "markdown",
   "metadata": {},
   "source": [
    "Here I use spaCy package for lemmatization. I also remove words which are not nouns, adjectives, and pronouns."
   ]
  },
  {
   "cell_type": "code",
   "execution_count": 47,
   "metadata": {},
   "outputs": [],
   "source": [
    "# lemmatize\n",
    "lemmatized = lemmatization(trigrams)"
   ]
  },
  {
   "cell_type": "code",
   "execution_count": 48,
   "metadata": {},
   "outputs": [],
   "source": [
    "# Create Dictionary\n",
    "id2word = corpora.Dictionary(lemmatized)\n",
    "\n",
    "# Create Corpus\n",
    "texts = lemmatized\n",
    "corpus = [id2word.doc2bow(text) for text in texts]\n",
    "\n",
    "# mapping (word_id, word_frequency)"
   ]
  },
  {
   "cell_type": "code",
   "execution_count": 49,
   "metadata": {},
   "outputs": [
    {
     "data": {
      "text/plain": [
       "'bernie'"
      ]
     },
     "execution_count": 49,
     "metadata": {},
     "output_type": "execute_result"
    }
   ],
   "source": [
    "id2word[0] # dictionary usage"
   ]
  },
  {
   "cell_type": "markdown",
   "metadata": {},
   "source": [
    "### Train the Model\n",
    "\n",
    "Training the LDA model. The model parameters were tuned based on a balance between maximizing the coherence, and eyeballing topics such that they make sense."
   ]
  },
  {
   "cell_type": "code",
   "execution_count": 50,
   "metadata": {},
   "outputs": [],
   "source": [
    "lda_model = gensim.models.ldamodel.LdaModel(corpus=corpus,\n",
    "                                           id2word=id2word,\n",
    "                                           num_topics=6,\n",
    "                                           random_state=200,\n",
    "                                           update_every=1,\n",
    "                                           chunksize=100,\n",
    "                                           passes=15,\n",
    "                                           eta = 1,\n",
    "                                           alpha='auto',\n",
    "                                           per_word_topics=True)"
   ]
  },
  {
   "cell_type": "code",
   "execution_count": 51,
   "metadata": {},
   "outputs": [
    {
     "name": "stdout",
     "output_type": "stream",
     "text": [
      "[(0,\n",
      "  '0.012*\"world\" + 0.008*\"war\" + 0.006*\"china\" + 0.005*\"afghanistan\" + '\n",
      "  '0.005*\"agreement\" + 0.004*\"iraq\" + 0.004*\"military\" + 0.003*\"troop\" + '\n",
      "  '0.003*\"energy\" + 0.003*\"ally\"'),\n",
      " (1,\n",
      "  '0.007*\"nra\" + 0.004*\"delegate\" + 0.003*\"gun\" + 0.002*\"hide\" + '\n",
      "  '0.002*\"corridor\" + 0.002*\"loophole\" + 0.002*\"weapon\" + 0.002*\"ban\" + '\n",
      "  '0.001*\"assault_weapon\" + 0.001*\"universal_background_check\"'),\n",
      " (2,\n",
      "  '0.002*\"setback\" + 0.001*\"professional\" + 0.001*\"advancement\" + '\n",
      "  '0.001*\"unclear\" + 0.001*\"forgetfulness\" + 0.001*\"lopez\" + 0.001*\"greeting\" '\n",
      "  '+ 0.001*\"obrador\" + 0.001*\"momentary\" + 0.001*\"knesset\"'),\n",
      " (3,\n",
      "  '0.016*\"healthcare\" + 0.013*\"plan\" + 0.011*\"year\" + 0.010*\"tax\" + '\n",
      "  '0.010*\"medicare\" + 0.009*\"cost\" + 0.008*\"people\" + 0.007*\"family\" + '\n",
      "  '0.006*\"taxis\" + 0.006*\"education\"'),\n",
      " (4,\n",
      "  '0.002*\"court\" + 0.001*\"supreme_court\" + 0.001*\"justice\" + 0.001*\"judge\" + '\n",
      "  '0.001*\"body\" + 0.001*\"litmus_test\" + 0.001*\"shelter\" + 0.001*\"hawaii\" + '\n",
      "  '0.001*\"roe_wade\" + 0.001*\"reproductive\"'),\n",
      " (5,\n",
      "  '0.031*\"people\" + 0.017*\"country\" + 0.016*\"president\" + 0.010*\"way\" + '\n",
      "  '0.008*\"american\" + 0.008*\"america\" + 0.008*\"right\" + 0.007*\"fact\" + '\n",
      "  '0.007*\"year\" + 0.007*\"job\"')]\n"
     ]
    }
   ],
   "source": [
    "# print the topics and 10 most associated words\n",
    "pprint(lda_model.print_topics())"
   ]
  },
  {
   "cell_type": "markdown",
   "metadata": {},
   "source": [
    "##### Topic 0: War\n",
    "world, war, chine, afghanistan, agreement, iraq, military, troop, ally, energy\n",
    "\n",
    "##### Topic 1: Guns\n",
    "nra, delegate, hide,corridor, gun, loophole, ban, weapon, universal background check, sale\n",
    "\n",
    "##### Topic 2: Common words used when describing an unaccomplished goal\n",
    "setback, professional, advancement, unclear, greeting, forgetfulness, momentary, lopez, obrador, knesset\n",
    "\n",
    "##### Topic 3: Healthcare\n",
    "healthcare, plan, year, tax, medicare, cost, people, family taxis, education\n",
    "\n",
    "##### Topic 4: Judicial System\n",
    "court, supreme court, justice, litmus test, shelter, body, hawaii judge, roe wade, reproductive\n",
    "\n",
    "##### Topic 5: America/ The American people\n",
    "people, country, president, way, american, america, right, fact, year, job"
   ]
  },
  {
   "cell_type": "markdown",
   "metadata": {},
   "source": [
    "### Metrics\n",
    "Here I compute two metrics, perplexity and coherence, in order to get an idea of how good the topic model is.\n",
    "\n",
    "Perplexity is a measure for how surprised a model is of new data. It is defined as $2^{H(\\tilde{p},q)}$, where $H(\\tilde{p},q)$ is the cross-entropy between, our sampled distribution, $\\tilde{p}$, and our model, $q$. Using perplexity as the sole metric does not necessarily lead to human-interprettable results.\n",
    "\n",
    "Topic coherence attempts to incorporate human judgement. It measures the degree of semantic similarity between words in a topic. In other words, 'how much of word A has to do with word B?'."
   ]
  },
  {
   "cell_type": "code",
   "execution_count": 52,
   "metadata": {},
   "outputs": [
    {
     "name": "stdout",
     "output_type": "stream",
     "text": [
      "Perplexity:  -7.383722798407684\n"
     ]
    }
   ],
   "source": [
    "# Compute Perplexity\n",
    "# Function outputs cross entropy and perplexity is written to file\n",
    "print('Perplexity: ', lda_model.log_perplexity(corpus))"
   ]
  },
  {
   "cell_type": "code",
   "execution_count": 53,
   "metadata": {},
   "outputs": [
    {
     "name": "stdout",
     "output_type": "stream",
     "text": [
      "Coherence Score:  0.36535677086477447\n"
     ]
    }
   ],
   "source": [
    "# Compute Coherence\n",
    "coherence_model = CoherenceModel(model=lda_model, texts=lemmatized, dictionary=id2word,coherence='c_v')\n",
    "coherence_lda = coherence_model.get_coherence()\n",
    "print('Coherence Score: ', coherence_lda)"
   ]
  },
  {
   "cell_type": "markdown",
   "metadata": {},
   "source": [
    "#### Visualization\n",
    "\n",
    "This is a visualization tool for LDA. It displays a two-dimensional principle component analysis (PCA) plot of the topics. I used this to prevent topics from having severe overlap. This method has its limitations as projecting a high dimensional space onto two dimensions can make separated topics appear to heavily over lap.\n",
    "\n",
    "This tool pops open a new interactive window and does not display in this notebook."
   ]
  },
  {
   "cell_type": "code",
   "execution_count": 54,
   "metadata": {},
   "outputs": [],
   "source": [
    "pyLDAvis.enable_notebook()"
   ]
  },
  {
   "cell_type": "code",
   "execution_count": 55,
   "metadata": {},
   "outputs": [],
   "source": [
    "vis = pyLDAvis.gensim.prepare(lda_model, corpus, id2word)"
   ]
  },
  {
   "cell_type": "code",
   "execution_count": 56,
   "metadata": {},
   "outputs": [
    {
     "name": "stdout",
     "output_type": "stream",
     "text": [
      "\n",
      "Note: if you're in the IPython notebook, pyLDAvis.show() is not the best command\n",
      "      to use. Consider using pyLDAvis.display(), or pyLDAvis.enable_notebook().\n",
      "      See more information at http://pyLDAvis.github.io/quickstart.html .\n",
      "\n",
      "You must interrupt the kernel to end this command\n",
      "\n",
      "Serving to http://127.0.0.1:8891/    [Ctrl-C to exit]\n"
     ]
    },
    {
     "name": "stderr",
     "output_type": "stream",
     "text": [
      "127.0.0.1 - - [15/Mar/2020 21:04:48] \"GET / HTTP/1.1\" 200 -\n",
      "127.0.0.1 - - [15/Mar/2020 21:04:48] \"GET /LDAvis.css HTTP/1.1\" 200 -\n",
      "127.0.0.1 - - [15/Mar/2020 21:04:48] \"GET /d3.js HTTP/1.1\" 200 -\n",
      "127.0.0.1 - - [15/Mar/2020 21:04:49] \"GET /LDAvis.js HTTP/1.1\" 200 -\n"
     ]
    },
    {
     "name": "stdout",
     "output_type": "stream",
     "text": [
      "\n",
      "stopping Server...\n"
     ]
    }
   ],
   "source": [
    "viz = pyLDAvis.show(vis)"
   ]
  },
  {
   "cell_type": "markdown",
   "metadata": {},
   "source": [
    "Now we turn back to evaluating speakers. What speaker talks the most about which topic? To determine this, I will use the ldamodel to find a probability distribution for each response. I will label the document by a single topic, the one which has the highest probability. This, of course, is a simplified view of what is going on, as each response can contain one or more of these topics. "
   ]
  },
  {
   "cell_type": "code",
   "execution_count": 57,
   "metadata": {},
   "outputs": [],
   "source": [
    "# Define a function to get the associated topic probabilities\n",
    "def get_doc_topics(bow,lda_model):\n",
    "    '''\n",
    "    Takes doc text in bag-of-words form and a trained lda_model\n",
    "    to return the probabilities that each document belongs to a\n",
    "    specific topic.\n",
    "    '''\n",
    "    doc_topics = []\n",
    "    for doc in bow:\n",
    "        doc_topics.append(np.array(lda_model.get_document_topics(doc)))\n",
    "    return doc_topics"
   ]
  },
  {
   "cell_type": "code",
   "execution_count": 58,
   "metadata": {},
   "outputs": [],
   "source": [
    "doc_topics = get_doc_topics(corpus,lda_model)"
   ]
  },
  {
   "cell_type": "code",
   "execution_count": 59,
   "metadata": {},
   "outputs": [],
   "source": [
    "highest_prob = []\n",
    "for doc in doc_topics:    \n",
    "    highest_prob.append(doc[np.argmax(doc[:,1])][0])"
   ]
  },
  {
   "cell_type": "code",
   "execution_count": 60,
   "metadata": {},
   "outputs": [
    {
     "name": "stdout",
     "output_type": "stream",
     "text": [
      "[array([[5.        , 0.99029559]]), array([[5.        , 0.99342817]]), array([[5.        , 0.98760659]]), array([[5.        , 0.99141699]]), array([[5.        , 0.98884153]])]\n"
     ]
    },
    {
     "data": {
      "text/plain": [
       "[5.0, 5.0, 5.0, 5.0, 5.0]"
      ]
     },
     "execution_count": 60,
     "metadata": {},
     "output_type": "execute_result"
    }
   ],
   "source": [
    "print(doc_topics[:5])\n",
    "highest_prob[:5]"
   ]
  },
  {
   "cell_type": "code",
   "execution_count": 61,
   "metadata": {},
   "outputs": [],
   "source": [
    "df['Topic'] = highest_prob"
   ]
  },
  {
   "cell_type": "code",
   "execution_count": 62,
   "metadata": {},
   "outputs": [],
   "source": [
    "# creating sub dataframes\n",
    "biden = df[df['speaker'] == 'Joe Biden']\n",
    "sanders = df[df['speaker'] == 'Bernie Sanders']\n",
    "klobuchar = df[df['speaker'] == 'Amy Klobuchar']\n",
    "warren = df[df['speaker'] == 'Elizabeth Warren']\n",
    "buttigieg = df[df['speaker'] == 'Pete Buttigieg']\n",
    "gabbard = df[df['speaker'] == 'Tulsi Gabbard']\n",
    "bloomberg = df[df['speaker'] == 'Michael Bloomberg']"
   ]
  },
  {
   "cell_type": "code",
   "execution_count": 63,
   "metadata": {
    "scrolled": true
   },
   "outputs": [
    {
     "data": {
      "text/plain": [
       "array([[<matplotlib.axes._subplots.AxesSubplot object at 0x7faba7f75a50>]],\n",
       "      dtype=object)"
      ]
     },
     "execution_count": 63,
     "metadata": {},
     "output_type": "execute_result"
    },
    {
     "data": {
      "image/png": "[encoded data removed]",
      "text/plain": [
       "<Figure size 432x288 with 1 Axes>"
      ]
     },
     "metadata": {},
     "output_type": "display_data"
    }
   ],
   "source": [
    "biden.hist(column='Topic',bins=6,range=(-0.5,5.5),density=True)"
   ]
  },
  {
   "cell_type": "code",
   "execution_count": 64,
   "metadata": {},
   "outputs": [
    {
     "data": {
      "text/plain": [
       "array([[<matplotlib.axes._subplots.AxesSubplot object at 0x7fabac0568d0>]],\n",
       "      dtype=object)"
      ]
     },
     "execution_count": 64,
     "metadata": {},
     "output_type": "execute_result"
    },
    {
     "data": {
      "image/png": "[encoded data removed]",
      "text/plain": [
       "<Figure size 432x288 with 1 Axes>"
      ]
     },
     "metadata": {},
     "output_type": "display_data"
    }
   ],
   "source": [
    "sanders.hist(column='Topic',bins=6,range=(-0.5,5.5),density=True)"
   ]
  },
  {
   "cell_type": "code",
   "execution_count": 65,
   "metadata": {},
   "outputs": [
    {
     "data": {
      "text/plain": [
       "array([[<matplotlib.axes._subplots.AxesSubplot object at 0x7faba7f38cd0>]],\n",
       "      dtype=object)"
      ]
     },
     "execution_count": 65,
     "metadata": {},
     "output_type": "execute_result"
    },
    {
     "data": {
      "image/png": "[encoded data removed]",
      "text/plain": [
       "<Figure size 432x288 with 1 Axes>"
      ]
     },
     "metadata": {},
     "output_type": "display_data"
    }
   ],
   "source": [
    "klobuchar.hist(column='Topic',bins=6,range=(-0.5,5.5),density=True)"
   ]
  },
  {
   "cell_type": "code",
   "execution_count": 66,
   "metadata": {},
   "outputs": [
    {
     "data": {
      "text/plain": [
       "array([[<matplotlib.axes._subplots.AxesSubplot object at 0x7faba65579d0>]],\n",
       "      dtype=object)"
      ]
     },
     "execution_count": 66,
     "metadata": {},
     "output_type": "execute_result"
    },
    {
     "data": {
      "image/png": "[encoded data removed]",
      "text/plain": [
       "<Figure size 432x288 with 1 Axes>"
      ]
     },
     "metadata": {},
     "output_type": "display_data"
    }
   ],
   "source": [
    "warren.hist(column='Topic',bins=6,range=(-0.5,5.5),density=True)"
   ]
  },
  {
   "cell_type": "code",
   "execution_count": 67,
   "metadata": {},
   "outputs": [
    {
     "data": {
      "text/plain": [
       "array([[<matplotlib.axes._subplots.AxesSubplot object at 0x7faba7ecc1d0>]],\n",
       "      dtype=object)"
      ]
     },
     "execution_count": 67,
     "metadata": {},
     "output_type": "execute_result"
    },
    {
     "data": {
      "image/png": "[encoded data removed]",
      "text/plain": [
       "<Figure size 432x288 with 1 Axes>"
      ]
     },
     "metadata": {},
     "output_type": "display_data"
    }
   ],
   "source": [
    "buttigieg.hist(column='Topic',bins=6,range=(-0.5,5.5),density=True)"
   ]
  },
  {
   "cell_type": "code",
   "execution_count": 68,
   "metadata": {},
   "outputs": [
    {
     "data": {
      "text/plain": [
       "array([[<matplotlib.axes._subplots.AxesSubplot object at 0x7faba6496150>]],\n",
       "      dtype=object)"
      ]
     },
     "execution_count": 68,
     "metadata": {},
     "output_type": "execute_result"
    },
    {
     "data": {
      "image/png": "[encoded data removed]",
      "text/plain": [
       "<Figure size 432x288 with 1 Axes>"
      ]
     },
     "metadata": {},
     "output_type": "display_data"
    }
   ],
   "source": [
    "gabbard.hist(column='Topic',bins=6,range=(-0.5,5.5),density=True)"
   ]
  },
  {
   "cell_type": "code",
   "execution_count": 69,
   "metadata": {},
   "outputs": [
    {
     "data": {
      "text/plain": [
       "array([[<matplotlib.axes._subplots.AxesSubplot object at 0x7faba7fb0ad0>]],\n",
       "      dtype=object)"
      ]
     },
     "execution_count": 69,
     "metadata": {},
     "output_type": "execute_result"
    },
    {
     "data": {
      "image/png": "[encoded data removed]",
      "text/plain": [
       "<Figure size 432x288 with 1 Axes>"
      ]
     },
     "metadata": {},
     "output_type": "display_data"
    }
   ],
   "source": [
    "bloomberg.hist(column='Topic',bins=6,range=(-0.5,5.5),density=True)"
   ]
  },
  {
   "cell_type": "markdown",
   "metadata": {},
   "source": [
    "It is clear that most candidates loop in discussion about the American people or the country. This makes sense. They are, after all, attempting to run to be president of the United States.\n",
    "\n",
    "We can also see, that both Warren and Bernie spend a large portion of their responses talking about health care than the other candidates. Tulsi Gabbard's main focus appears to be guns."
   ]
  },
  {
   "cell_type": "markdown",
   "metadata": {},
   "source": [
    "### TO DOs\n",
    "\n",
    "- Loop in time\n",
    "- Finish explanation of LDA and the parameters"
   ]
  },
  {
   "cell_type": "markdown",
   "metadata": {},
   "source": [
    "### Things that could be improved\n",
    "\n",
    "I went into this project knowing virtually nothing about NLP, so I'm sure there's a lot which could be improved beyond what I list here.\n",
    "\n",
    "- If I wanted to keep more of the data, I could potentially analyze the number of works spoken for those missing speaking_time entries and estimate how much times is taken up by those sections using the average words spoken.\n",
    "\n",
    "- I removed short segments based on eye-balling the topics. I could have looked at the distribution of words for all time segments, after removing stop words, and see when words related to policy show up.\n",
    "\n",
    "- Keep moderator questions. If I kept moderator questions, I could ask more questions about whether the candidate avoided the question.\n",
    "\n",
    "- Allow for multiple topic statements."
   ]
  }
 ],
 "metadata": {
  "kernelspec": {
   "display_name": "Python 3",
   "language": "python",
   "name": "python3"
  },
  "language_info": {
   "codemirror_mode": {
    "name": "ipython",
    "version": 3
   },
   "file_extension": ".py",
   "mimetype": "text/x-python",
   "name": "python",
   "nbconvert_exporter": "python",
   "pygments_lexer": "ipython3",
   "version": "3.7.6"
  }
 },
 "nbformat": 4,
 "nbformat_minor": 4
}
