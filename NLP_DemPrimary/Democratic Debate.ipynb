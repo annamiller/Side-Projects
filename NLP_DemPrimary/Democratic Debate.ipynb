{
 "cells": [
  {
   "cell_type": "code",
   "execution_count": 1,
   "metadata": {},
   "outputs": [],
   "source": [
    "%matplotlib inline\n",
    "import matplotlib.pyplot as plt\n",
    "import seaborn as sns\n",
    "import pandas as pd\n",
    "import numpy as np\n",
    "import re\n",
    "from pprint import pprint\n",
    "sns.set()"
   ]
  },
  {
   "cell_type": "code",
   "execution_count": 2,
   "metadata": {},
   "outputs": [],
   "source": [
    "# load the data\n",
    "df = pd.read_csv('debate_transcripts_v2_2020-02-23.csv',encoding='cp1252')"
   ]
  },
  {
   "cell_type": "markdown",
   "metadata": {},
   "source": [
    "I'd like to answer the question, who spent the most time talking about each subject during the democratic primary debates."
   ]
  },
  {
   "cell_type": "markdown",
   "metadata": {},
   "source": [
    "### Exploring the Data"
   ]
  },
  {
   "cell_type": "code",
   "execution_count": 3,
   "metadata": {},
   "outputs": [
    {
     "data": {
      "text/plain": [
       "(5333, 5)"
      ]
     },
     "execution_count": 3,
     "metadata": {},
     "output_type": "execute_result"
    }
   ],
   "source": [
    "df.shape"
   ]
  },
  {
   "cell_type": "code",
   "execution_count": 3,
   "metadata": {},
   "outputs": [
    {
     "data": {
      "text/html": [
       "<div>\n",
       "<style scoped>\n",
       "    .dataframe tbody tr th:only-of-type {\n",
       "        vertical-align: middle;\n",
       "    }\n",
       "\n",
       "    .dataframe tbody tr th {\n",
       "        vertical-align: top;\n",
       "    }\n",
       "\n",
       "    .dataframe thead th {\n",
       "        text-align: right;\n",
       "    }\n",
       "</style>\n",
       "<table border=\"1\" class=\"dataframe\">\n",
       "  <thead>\n",
       "    <tr style=\"text-align: right;\">\n",
       "      <th></th>\n",
       "      <th>debate_name</th>\n",
       "      <th>debate_section</th>\n",
       "      <th>speaker</th>\n",
       "      <th>speech</th>\n",
       "      <th>speaking_time_seconds</th>\n",
       "    </tr>\n",
       "  </thead>\n",
       "  <tbody>\n",
       "    <tr>\n",
       "      <th>0</th>\n",
       "      <td>New Hampshire Democratic Debate Transcript</td>\n",
       "      <td>Part 1</td>\n",
       "      <td>George S.</td>\n",
       "      <td>Candidates, welcome. Vice President Biden, the...</td>\n",
       "      <td>18.0</td>\n",
       "    </tr>\n",
       "    <tr>\n",
       "      <th>1</th>\n",
       "      <td>New Hampshire Democratic Debate Transcript</td>\n",
       "      <td>Part 1</td>\n",
       "      <td>Joe Biden</td>\n",
       "      <td>Oh, they didn’t miss anything. It’s a long rac...</td>\n",
       "      <td>36.0</td>\n",
       "    </tr>\n",
       "    <tr>\n",
       "      <th>2</th>\n",
       "      <td>New Hampshire Democratic Debate Transcript</td>\n",
       "      <td>Part 1</td>\n",
       "      <td>George S.</td>\n",
       "      <td>Why are Senator Sanders and Mayor Buttigieg to...</td>\n",
       "      <td>4.0</td>\n",
       "    </tr>\n",
       "    <tr>\n",
       "      <th>3</th>\n",
       "      <td>New Hampshire Democratic Debate Transcript</td>\n",
       "      <td>Part 1</td>\n",
       "      <td>Joe Biden</td>\n",
       "      <td>Well, you know that with regard to Senator San...</td>\n",
       "      <td>41.0</td>\n",
       "    </tr>\n",
       "    <tr>\n",
       "      <th>4</th>\n",
       "      <td>New Hampshire Democratic Debate Transcript</td>\n",
       "      <td>Part 1</td>\n",
       "      <td>George S.</td>\n",
       "      <td>Senator Sanders, let me give you the chance to...</td>\n",
       "      <td>21.0</td>\n",
       "    </tr>\n",
       "    <tr>\n",
       "      <th>5</th>\n",
       "      <td>New Hampshire Democratic Debate Transcript</td>\n",
       "      <td>Part 1</td>\n",
       "      <td>Bernie Sanders</td>\n",
       "      <td>Because Donald Trump lies all the time. It doe...</td>\n",
       "      <td>41.0</td>\n",
       "    </tr>\n",
       "    <tr>\n",
       "      <th>6</th>\n",
       "      <td>New Hampshire Democratic Debate Transcript</td>\n",
       "      <td>Part 1</td>\n",
       "      <td>Bernie Sanders</td>\n",
       "      <td>I believe that the way we beat Trump is by hav...</td>\n",
       "      <td>39.0</td>\n",
       "    </tr>\n",
       "    <tr>\n",
       "      <th>7</th>\n",
       "      <td>New Hampshire Democratic Debate Transcript</td>\n",
       "      <td>Part 1</td>\n",
       "      <td>George S.</td>\n",
       "      <td>But Senator, let me follow up there and then w...</td>\n",
       "      <td>12.0</td>\n",
       "    </tr>\n",
       "    <tr>\n",
       "      <th>8</th>\n",
       "      <td>New Hampshire Democratic Debate Transcript</td>\n",
       "      <td>Part 1</td>\n",
       "      <td>Bernie Sanders</td>\n",
       "      <td>That’s true. And that’s the disappointment and...</td>\n",
       "      <td>23.0</td>\n",
       "    </tr>\n",
       "    <tr>\n",
       "      <th>9</th>\n",
       "      <td>New Hampshire Democratic Debate Transcript</td>\n",
       "      <td>Part 1</td>\n",
       "      <td>George S.</td>\n",
       "      <td>Before I move on to Mayor Buttigieg, let me ju...</td>\n",
       "      <td>11.0</td>\n",
       "    </tr>\n",
       "  </tbody>\n",
       "</table>\n",
       "</div>"
      ],
      "text/plain": [
       "                                  debate_name debate_section         speaker  \\\n",
       "0  New Hampshire Democratic Debate Transcript         Part 1       George S.   \n",
       "1  New Hampshire Democratic Debate Transcript         Part 1       Joe Biden   \n",
       "2  New Hampshire Democratic Debate Transcript         Part 1       George S.   \n",
       "3  New Hampshire Democratic Debate Transcript         Part 1       Joe Biden   \n",
       "4  New Hampshire Democratic Debate Transcript         Part 1       George S.   \n",
       "5  New Hampshire Democratic Debate Transcript         Part 1  Bernie Sanders   \n",
       "6  New Hampshire Democratic Debate Transcript         Part 1  Bernie Sanders   \n",
       "7  New Hampshire Democratic Debate Transcript         Part 1       George S.   \n",
       "8  New Hampshire Democratic Debate Transcript         Part 1  Bernie Sanders   \n",
       "9  New Hampshire Democratic Debate Transcript         Part 1       George S.   \n",
       "\n",
       "                                              speech  speaking_time_seconds  \n",
       "0  Candidates, welcome. Vice President Biden, the...                   18.0  \n",
       "1  Oh, they didn’t miss anything. It’s a long rac...                   36.0  \n",
       "2  Why are Senator Sanders and Mayor Buttigieg to...                    4.0  \n",
       "3  Well, you know that with regard to Senator San...                   41.0  \n",
       "4  Senator Sanders, let me give you the chance to...                   21.0  \n",
       "5  Because Donald Trump lies all the time. It doe...                   41.0  \n",
       "6  I believe that the way we beat Trump is by hav...                   39.0  \n",
       "7  But Senator, let me follow up there and then w...                   12.0  \n",
       "8  That’s true. And that’s the disappointment and...                   23.0  \n",
       "9  Before I move on to Mayor Buttigieg, let me ju...                   11.0  "
      ]
     },
     "execution_count": 3,
     "metadata": {},
     "output_type": "execute_result"
    }
   ],
   "source": [
    "# prints top 10 entries\n",
    "df.head(10)"
   ]
  },
  {
   "cell_type": "markdown",
   "metadata": {},
   "source": [
    "Here we look for missing entries. Since I'm asking the question, who spent the most time on what topics, it is necessary that speaking_time is filled in."
   ]
  },
  {
   "cell_type": "code",
   "execution_count": 4,
   "metadata": {},
   "outputs": [
    {
     "data": {
      "text/plain": [
       "debate_name                0\n",
       "debate_section             0\n",
       "speaker                    0\n",
       "speech                     0\n",
       "speaking_time_seconds    513\n",
       "dtype: int64"
      ]
     },
     "execution_count": 4,
     "metadata": {},
     "output_type": "execute_result"
    }
   ],
   "source": [
    "# now to look for missing entries\n",
    "df.isna().sum(axis=0)"
   ]
  },
  {
   "cell_type": "markdown",
   "metadata": {},
   "source": [
    "There are 513 missing values. Since I want to ask which candidate spent the most time talking about which topics, I cannot use these rows and they should be removed. Now let's take a look at the remaining distribution."
   ]
  },
  {
   "cell_type": "code",
   "execution_count": 5,
   "metadata": {},
   "outputs": [
    {
     "data": {
      "text/plain": [
       "<matplotlib.axes._subplots.AxesSubplot at 0x7fd93b2e2dd0>"
      ]
     },
     "execution_count": 5,
     "metadata": {},
     "output_type": "execute_result"
    },
    {
     "data": {
      "image/png": "[encoded data removed]",
      "text/plain": [
       "<Figure size 432x288 with 1 Axes>"
      ]
     },
     "metadata": {},
     "output_type": "display_data"
    }
   ],
   "source": [
    "# There are 513 values, it seems like there's also something going on\n",
    "# with breaks, I see the phrase 'short break', a lot.\n",
    "# hist() with categorical data didn't work well, so use value_counts\n",
    "# instead and use a bar plot\n",
    "df[df.isna().any(axis=1)]['speaker'].value_counts().plot(kind='bar')"
   ]
  },
  {
   "cell_type": "markdown",
   "metadata": {},
   "source": [
    "A significant fraction of these entries come from moderators/anchors: Chuck Todd, Lester Holt, Rachel Maddow, etc. Removing these entries should have little effect on the data, except in the cases of Elizabeth Warren and Tulsi Gabbard.\n",
    "\n",
    "The next question to answer is why don't these entries have speaking time.\n"
   ]
  },
  {
   "cell_type": "code",
   "execution_count": 7,
   "metadata": {},
   "outputs": [
    {
     "data": {
      "text/plain": [
       "153     We have much more today coming up, but we have...\n",
       "322     Candidates. Thank you. Thanks for a great deba...\n",
       "669     Candidates, thank you very, very much. That co...\n",
       "826     We’re going to take a short break and we will be…\n",
       "1030    We are going to take a very short break. That ...\n",
       "                              ...                        \n",
       "4807    But I got my chance. It was a 50 dollar a seme...\n",
       "4808    We would like to thank all of the candidates t...\n",
       "4809    We certainly hope you will join us then. But f...\n",
       "5075                      Mayor Buttigieg, your thoughts.\n",
       "5332    For now, for all of us at NBC News, I’m Lester...\n",
       "Name: speech, Length: 513, dtype: object"
      ]
     },
     "execution_count": 7,
     "metadata": {},
     "output_type": "execute_result"
    }
   ],
   "source": [
    "# selects data frame where NaN speaking time and chuck todd is the speaker .speaker.isin(['Chuck Todd'])\n",
    "df[df.isna().any(axis=1)]['speech']"
   ]
  },
  {
   "cell_type": "markdown",
   "metadata": {},
   "source": [
    "It appears that a significant portion of these entries are due to commercial breaks and are safe to remove."
   ]
  },
  {
   "cell_type": "code",
   "execution_count": 1108,
   "metadata": {},
   "outputs": [],
   "source": [
    "# drop the NaN entries\n",
    "df.dropna(inplace=True)"
   ]
  },
  {
   "cell_type": "code",
   "execution_count": 1109,
   "metadata": {},
   "outputs": [
    {
     "data": {
      "text/plain": [
       "level_0                  0\n",
       "index                    0\n",
       "debate_name              0\n",
       "debate_section           0\n",
       "speaker                  0\n",
       "speech                   0\n",
       "speaking_time_seconds    0\n",
       "dtype: int64"
      ]
     },
     "execution_count": 1109,
     "metadata": {},
     "output_type": "execute_result"
    }
   ],
   "source": [
    "df.isna().sum() # all clear!"
   ]
  },
  {
   "cell_type": "markdown",
   "metadata": {},
   "source": [
    "The next question is what do we do with the moderator questions?\n",
    "For simplicity, I'm going to throw out everyone I don't care about. Here, I'm going to focus on candidates who made it to the first primary vote:\n",
    "\n",
    "Bernie Sanders, Elizabeth Warren, Amy Klobuchar,Pete Buttigieg, \n",
    "Joe Biden, Tulsi Gabbard, Michael Bloomberg"
   ]
  },
  {
   "cell_type": "code",
   "execution_count": 13,
   "metadata": {},
   "outputs": [
    {
     "name": "stdout",
     "output_type": "stream",
     "text": [
      "['A. Cooper', 'Abby Phillips', 'Adam Sexton', 'Amna Nawaz', 'Amy Klobuchar', 'Amy Walter', 'Anderson Cooper', 'Andrea Mitchell', 'Andrew Yang', 'Announcer', 'Ashley Parker', 'Audience', 'B. Pfannenstiel', 'Bennett', 'Bernie Sanders', 'Beto O’Rourke', 'Bill de Blasio', 'Brianne P.', 'Chuck Todd', 'Cory Booker', 'Crowd', 'Dana Bash', 'David Muir', 'Devin Dwyer', 'Diana', 'Don Lemon', 'Elizabeth Warren', 'Eric Stalwell', 'Eric Swalwell', 'Erin Burnett', 'Female', 'George S.', 'Hallie Jackson', 'Helen', 'J. Hickenlooper', 'Jake Tapper', 'Jay Inslee', 'Joe Biden', 'John Delaney', 'John H.', 'John Hickenloop', 'John King', 'Jon Ralston', 'Jorge Ramos', 'Jose D.B.', 'Judy Woodruff', 'Julian Castro', 'Kamala Harris', 'Kirseten Gillibrand', 'Kirsten Gillibrand', 'Kristen Welker', 'Lester Holt', 'Linsey Davis', 'Male', 'Marc Lacey', 'Marianne Williamson', 'Michael Bennet', 'Michael Bloomberg', 'Moderator', 'Moderator 1', 'Moderator 2', 'Moderator 4', 'Monica Hernandez', 'N. Henderson', 'Pete Buttigieg', 'Rachel Maddow', 'Rachel Scott', 'Savanagh G.', 'Sec. Castro', 'Speaker 1', 'Speaker 12', 'Speaker 13', 'Speaker 2', 'Speaker 3', 'Speaker 4', 'Speaker 5', 'Speaker 6', 'Speaker 7', 'Speaker 8', 'Speaker 9', 'Stephanie Sy', 'Steve Bullock', 'Steve Kornacki', 'Tim Alberta', 'Tim Ryan', 'Tom Steyer', 'Tulsi Gabbard', 'Vanessa Hauc', 'Voiceover', 'Wolf Blitzer', 'Yamiche A.']\n"
     ]
    }
   ],
   "source": [
    "print(sorted(set(df['speaker'])))"
   ]
  },
  {
   "cell_type": "code",
   "execution_count": 14,
   "metadata": {},
   "outputs": [],
   "source": [
    "# select for the people we want\n",
    "selector = ['Amy Klobuchar','Bernie Sanders', 'Elizabeth Warren','Joe Biden','Michael Bloomberg','Pete Buttigieg','Tulsi Gabbard']"
   ]
  },
  {
   "cell_type": "code",
   "execution_count": 15,
   "metadata": {},
   "outputs": [],
   "source": [
    "df = df[df.speaker.isin(selector)] # only keep the relevant candidates"
   ]
  },
  {
   "cell_type": "code",
   "execution_count": null,
   "metadata": {},
   "outputs": [],
   "source": [
    "df.reset_index(inplace=True) # resets the index now that we've dropped columns"
   ]
  },
  {
   "cell_type": "code",
   "execution_count": 1111,
   "metadata": {},
   "outputs": [
    {
     "data": {
      "text/html": [
       "<div>\n",
       "<style scoped>\n",
       "    .dataframe tbody tr th:only-of-type {\n",
       "        vertical-align: middle;\n",
       "    }\n",
       "\n",
       "    .dataframe tbody tr th {\n",
       "        vertical-align: top;\n",
       "    }\n",
       "\n",
       "    .dataframe thead th {\n",
       "        text-align: right;\n",
       "    }\n",
       "</style>\n",
       "<table border=\"1\" class=\"dataframe\">\n",
       "  <thead>\n",
       "    <tr style=\"text-align: right;\">\n",
       "      <th></th>\n",
       "      <th>level_0</th>\n",
       "      <th>index</th>\n",
       "      <th>debate_name</th>\n",
       "      <th>debate_section</th>\n",
       "      <th>speaker</th>\n",
       "      <th>speech</th>\n",
       "      <th>speaking_time_seconds</th>\n",
       "    </tr>\n",
       "  </thead>\n",
       "  <tbody>\n",
       "    <tr>\n",
       "      <th>0</th>\n",
       "      <td>0</td>\n",
       "      <td>1</td>\n",
       "      <td>New Hampshire Democratic Debate Transcript</td>\n",
       "      <td>Part 1</td>\n",
       "      <td>Joe Biden</td>\n",
       "      <td>Oh, they didn’t miss anything. It’s a long rac...</td>\n",
       "      <td>36.0</td>\n",
       "    </tr>\n",
       "    <tr>\n",
       "      <th>1</th>\n",
       "      <td>1</td>\n",
       "      <td>3</td>\n",
       "      <td>New Hampshire Democratic Debate Transcript</td>\n",
       "      <td>Part 1</td>\n",
       "      <td>Joe Biden</td>\n",
       "      <td>Well, you know that with regard to Senator San...</td>\n",
       "      <td>41.0</td>\n",
       "    </tr>\n",
       "    <tr>\n",
       "      <th>2</th>\n",
       "      <td>2</td>\n",
       "      <td>5</td>\n",
       "      <td>New Hampshire Democratic Debate Transcript</td>\n",
       "      <td>Part 1</td>\n",
       "      <td>Bernie Sanders</td>\n",
       "      <td>Because Donald Trump lies all the time. It doe...</td>\n",
       "      <td>41.0</td>\n",
       "    </tr>\n",
       "    <tr>\n",
       "      <th>3</th>\n",
       "      <td>3</td>\n",
       "      <td>6</td>\n",
       "      <td>New Hampshire Democratic Debate Transcript</td>\n",
       "      <td>Part 1</td>\n",
       "      <td>Bernie Sanders</td>\n",
       "      <td>I believe that the way we beat Trump is by hav...</td>\n",
       "      <td>39.0</td>\n",
       "    </tr>\n",
       "    <tr>\n",
       "      <th>4</th>\n",
       "      <td>4</td>\n",
       "      <td>8</td>\n",
       "      <td>New Hampshire Democratic Debate Transcript</td>\n",
       "      <td>Part 1</td>\n",
       "      <td>Bernie Sanders</td>\n",
       "      <td>That’s true. And that’s the disappointment and...</td>\n",
       "      <td>23.0</td>\n",
       "    </tr>\n",
       "  </tbody>\n",
       "</table>\n",
       "</div>"
      ],
      "text/plain": [
       "   level_0  index                                 debate_name debate_section  \\\n",
       "0        0      1  New Hampshire Democratic Debate Transcript         Part 1   \n",
       "1        1      3  New Hampshire Democratic Debate Transcript         Part 1   \n",
       "2        2      5  New Hampshire Democratic Debate Transcript         Part 1   \n",
       "3        3      6  New Hampshire Democratic Debate Transcript         Part 1   \n",
       "4        4      8  New Hampshire Democratic Debate Transcript         Part 1   \n",
       "\n",
       "          speaker                                             speech  \\\n",
       "0       Joe Biden  Oh, they didn’t miss anything. It’s a long rac...   \n",
       "1       Joe Biden  Well, you know that with regard to Senator San...   \n",
       "2  Bernie Sanders  Because Donald Trump lies all the time. It doe...   \n",
       "3  Bernie Sanders  I believe that the way we beat Trump is by hav...   \n",
       "4  Bernie Sanders  That’s true. And that’s the disappointment and...   \n",
       "\n",
       "   speaking_time_seconds  \n",
       "0                   36.0  \n",
       "1                   41.0  \n",
       "2                   41.0  \n",
       "3                   39.0  \n",
       "4                   23.0  "
      ]
     },
     "execution_count": 1111,
     "metadata": {},
     "output_type": "execute_result"
    }
   ],
   "source": [
    "df.head()"
   ]
  },
  {
   "cell_type": "markdown",
   "metadata": {},
   "source": [
    "Now that we have our chosen candidates, I want to ensure that I use data from candidates who have enough time to actually say something. Candidates can and do get interupted by both moderators and other candidates."
   ]
  },
  {
   "cell_type": "code",
   "execution_count": 18,
   "metadata": {},
   "outputs": [
    {
     "data": {
      "text/plain": [
       "<matplotlib.axes._subplots.AxesSubplot at 0x7fd93b12a410>"
      ]
     },
     "execution_count": 18,
     "metadata": {},
     "output_type": "execute_result"
    },
    {
     "data": {
      "image/png": "[encoded data removed]",
      "text/plain": [
       "<Figure size 432x288 with 1 Axes>"
      ]
     },
     "metadata": {},
     "output_type": "display_data"
    }
   ],
   "source": [
    "df['speaking_time_seconds'].hist()"
   ]
  },
  {
   "cell_type": "markdown",
   "metadata": {},
   "source": [
    "There are a lot of entries with < 10 seconds. Now let's look at those entries to see when topics start appearing. I start with a lower threshold of 2 seconds, and an upper threshold of 5 seconds. I realized that many of these entries ended with a dash '-', indicating that the speaker got cutoff or interrupted. I then selected for this."
   ]
  },
  {
   "cell_type": "code",
   "execution_count": 19,
   "metadata": {},
   "outputs": [
    {
     "data": {
      "text/plain": [
       "1561                            I want to give a reality-\n",
       "1727    What we owe to those survivors is to actually ...\n",
       "1755    We’ve got to attack the corruption and repeal ...\n",
       "1796          That is why we need a political revolution-\n",
       "1817    I’d like to ask our other candidates this ques...\n",
       "1858       … why it is that we have had laws on the book-\n",
       "1948    You’ve got to take on the greed and the profit...\n",
       "1976    … had to fight against people in his own admin...\n",
       "3134    And it’s not nearly enough. [crosstalk 00:16:1...\n",
       "3242    Donald Trump wants to use these people as poli...\n",
       "3281                 And when 90% of Americans to happen-\n",
       "3454    And I truly believe that if we’re going to mov...\n",
       "3587    Four little girls in Birmingham, Alabama lost ...\n",
       "4170    I reject the premise that there’s only one or ...\n",
       "4174    We need a political revolution. People have go...\n",
       "4220    If the government wants to do that, if people ...\n",
       "4850                        That’s just not true. People-\n",
       "4959    It just takes us a long time. Unfortunately or...\n",
       "5161    But you’re still raising those taxes and when ...\n",
       "5187    We don’t want someone that looks at just plans...\n",
       "5222    I would add one more thing, I have been in the...\n",
       "5235    Well I would say for anybody who ran for presi...\n",
       "5250                                       Everybody can-\n",
       "5305                  I’m running because so many people-\n",
       "Name: speech, dtype: object"
      ]
     },
     "execution_count": 19,
     "metadata": {},
     "output_type": "execute_result"
    }
   ],
   "source": [
    "# Looking for who is interrupting!\n",
    "selector = (df['speaking_time_seconds']<5) & (df['speaking_time_seconds']>2)\n",
    "df[selector]['speech'][df[selector]['speech'].str.endswith(\"-\")]"
   ]
  },
  {
   "cell_type": "markdown",
   "metadata": {},
   "source": [
    "Exploring this data, we can see a good example of a speaker getting interrupted, Pete Buttigieg. The indicies are 773-775, and it is just him talking while getting interrupted. The person who interrupted him got removed by dropping the NaN values.\n",
    "\n",
    "The key to linking statements should be if the same speaker is speaking in adjacent indicies (or maybe) every other, and the previous statement ends with '-' and the next statement starts with '...', stitch them together."
   ]
  },
  {
   "cell_type": "code",
   "execution_count": 1112,
   "metadata": {},
   "outputs": [
    {
     "name": "stdout",
     "output_type": "stream",
     "text": [
      "But I think at the end of the day what I appreciate is that we have got to end the hatred that Trump is fostering on our people, the divisiveness, trying to divide us up by the color of our skin or where we were born or our sexual orientation or our religion, and there is no job that I would undertake with more passion than bringing our people together around an agenda that works for every man, woman, and child in this country rather than the corporate elite and the 1%. A progressive agenda that stands for all is the way that we transform this country.\n",
      "You asked about a surprising friend. For me, it would be Charles Fried. 27 years ago when I was under consideration for a job, he was someone who had been George Bush, the first solicitor general, a deeply principled Republican. And we didn’t agree on much. I was far more liberal than he was, but he also was willing to listen to my work about what’s happening to America’s middle class. And Charles engaged with it over and over and ultimately is the person who made sure I got the job. I grew up out in Oklahoma, I have three older brothers. They all served in the military. Two of the three are still Republicans. I love all three of my brothers and there are a lot of things that we’re divided on there are core things that we believe in together. We want to see all of our children get a good start in life.\n",
      "We don’t want to see any of our friends or neighbors not get covered by healthcare. We’re willing to get out there for the things we believe in. Look, people across this country, whether they’re Democrats, independents, or Republicans, they know what’s broken. They know that we have an America that’s working better and better and better for a thinner and thinner and thinner slice at the top and leaving everyone else behind. People across this country, regardless of party, are ready to say no more. We want an America that works for everyone. 2020 is our moment in history. It is a deep honor to be here, to be in this fight. I know what’s broken, I know how to fix it and we are building a grassroots movement to get it done. That includes everyone.\n"
     ]
    }
   ],
   "source": [
    "print(df.loc[773]['speech'])\n",
    "print(df.loc[774]['speech'])\n",
    "print(df.loc[775]['speech'])"
   ]
  },
  {
   "cell_type": "markdown",
   "metadata": {},
   "source": [
    "Define a merge function."
   ]
  },
  {
   "cell_type": "code",
   "execution_count": 1113,
   "metadata": {},
   "outputs": [],
   "source": [
    "def merge_speaking(df,indicies):\n",
    "    '''\n",
    "    df: a copy of the supplied dataframe \n",
    "    indicies: a list of that want to add together, accesible by iloc\n",
    "    '''\n",
    "    clean_strs = ''\n",
    "    total_time = 0\n",
    "    \n",
    "    for i in indicies:\n",
    "\n",
    "        # clean the strings\n",
    "        tmp = (re.sub('-$','',df.loc[i]['speech']))\n",
    "        tmp = re.sub('^\\u2026','',tmp)\n",
    "        total_time = total_time + df.loc[i]['speaking_time_seconds']\n",
    "        clean_strs = clean_strs + tmp\n",
    "    \n",
    "    # drop the extra rows\n",
    "    df = df.drop(indicies[1:])\n",
    "    df.loc[indicies[0],'speech'] = clean_strs\n",
    "    df.loc[indicies[0],'speaking_time_seconds'] = total_time\n",
    "    return df\n",
    "        "
   ]
  },
  {
   "cell_type": "code",
   "execution_count": 1114,
   "metadata": {},
   "outputs": [
    {
     "name": "stdout",
     "output_type": "stream",
     "text": [
      "But I think at the end of the day what I appreciate is that we have got to end the hatred that Trump is fostering on our people, the divisiveness, trying to divide us up by the color of our skin or where we were born or our sexual orientation or our religion, and there is no job that I would undertake with more passion than bringing our people together around an agenda that works for every man, woman, and child in this country rather than the corporate elite and the 1%. A progressive agenda that stands for all is the way that we transform this country.You asked about a surprising friend. For me, it would be Charles Fried. 27 years ago when I was under consideration for a job, he was someone who had been George Bush, the first solicitor general, a deeply principled Republican. And we didn’t agree on much. I was far more liberal than he was, but he also was willing to listen to my work about what’s happening to America’s middle class. And Charles engaged with it over and over and ultimately is the person who made sure I got the job. I grew up out in Oklahoma, I have three older brothers. They all served in the military. Two of the three are still Republicans. I love all three of my brothers and there are a lot of things that we’re divided on there are core things that we believe in together. We want to see all of our children get a good start in life.We don’t want to see any of our friends or neighbors not get covered by healthcare. We’re willing to get out there for the things we believe in. Look, people across this country, whether they’re Democrats, independents, or Republicans, they know what’s broken. They know that we have an America that’s working better and better and better for a thinner and thinner and thinner slice at the top and leaving everyone else behind. People across this country, regardless of party, are ready to say no more. We want an America that works for everyone. 2020 is our moment in history. It is a deep honor to be here, to be in this fight. I know what’s broken, I know how to fix it and we are building a grassroots movement to get it done. That includes everyone.\n"
     ]
    }
   ],
   "source": [
    "# Test case\n",
    "merge = [773,774,775]\n",
    "p = merge_speaking(df,merge)\n",
    "print(p.loc[773]['speech'])"
   ]
  },
  {
   "cell_type": "markdown",
   "metadata": {},
   "source": [
    "Define a function to get the indices whuch need to be merged"
   ]
  },
  {
   "cell_type": "code",
   "execution_count": 32,
   "metadata": {},
   "outputs": [],
   "source": [
    "def get_merge_indicies(df,speaker):\n",
    "    indices = []\n",
    "    tmp = []\n",
    "    interrupted = False\n",
    "    for i,row in df[df['speaker']==speaker].iterrows():\n",
    "        if (not interrupted) and (row['speech'].endswith('-')):\n",
    "            interrupted = True\n",
    "            tmp.append(i)\n",
    "\n",
    "        elif interrupted and row['speech'].startswith('\\u2026'):\n",
    "            tmp.append(i)\n",
    "            if not row['speech'].endswith('-'):\n",
    "                indices.append(tmp)\n",
    "                tmp = []\n",
    "                interrupted = False\n",
    "        else:\n",
    "            interrupted = False\n",
    "            if len(tmp) > 0:\n",
    "                if len(tmp) > 1:\n",
    "                    indices.append(tmp)\n",
    "                tmp = []\n",
    "    \n",
    "    return indices"
   ]
  },
  {
   "cell_type": "code",
   "execution_count": 33,
   "metadata": {},
   "outputs": [
    {
     "name": "stdout",
     "output_type": "stream",
     "text": [
      "[[137, 138], [793, 794], [843, 844], [850, 852], [888, 889], [1022, 1023], [1218, 1219], [1270, 1271], [1318, 1319], [1815, 1816]]\n"
     ]
    }
   ],
   "source": [
    "# get the indices which need appending\n",
    "speakers = ['Amy Klobuchar','Bernie Sanders', 'Elizabeth Warren','Joe Biden','Michael Bloomberg','Pete Buttigieg','Tulsi Gabbard']\n",
    "all_indices = []\n",
    "for speaker in speakers:\n",
    "    speaker_indices = get_merge_indicies(df,speaker)\n",
    "    all_indices.append(speaker_indices)"
   ]
  },
  {
   "cell_type": "code",
   "execution_count": 34,
   "metadata": {},
   "outputs": [
    {
     "name": "stdout",
     "output_type": "stream",
     "text": [
      "[[769, 770], [823, 824, 825], [881, 882], [1215, 1216], [1282, 1283, 1284], [1315, 1316], [1323, 1324], [1784, 1785, 1787], [1791, 1793, 1795], [1821, 1822]]\n",
      "[[137, 138], [793, 794], [843, 844], [850, 852], [888, 889], [1022, 1023], [1218, 1219], [1270, 1271], [1318, 1319], [1815, 1816]]\n",
      "[[738, 739], [740, 741], [781, 782], [783, 784], [811, 812, 813], [819, 820], [857, 858, 859], [866, 867, 869, 870], [1181, 1182], [1223, 1224], [1264, 1265, 1266], [1267, 1268], [1336, 1337, 1338], [1628, 1630], [1773, 1775], [1808, 1809]]\n",
      "[[1122, 1123], [1491, 1492], [1840, 1841, 1842, 1843]]\n",
      "[[1804, 1805]]\n",
      "[[330, 331], [752, 753], [756, 757], [773, 774, 775], [776, 777], [834, 835], [875, 876], [1006, 1007], [1230, 1231, 1233], [1277, 1278], [1288, 1289], [1330, 1331], [1790, 1792, 1794], [1796, 1798], [1829, 1830]]\n",
      "[[805, 806]]\n"
     ]
    }
   ],
   "source": [
    "for idxs in all_indices:\n",
    "    print(idxs)\n",
    "    for merge in idxs:\n",
    "        df = merge_speaking(df,merge)\n",
    "        #print(p.loc[merge[0]]['speech'])"
   ]
  },
  {
   "cell_type": "markdown",
   "metadata": {},
   "source": [
    "Let's look at whether anything of substance is said in less than one second..."
   ]
  },
  {
   "cell_type": "code",
   "execution_count": 35,
   "metadata": {},
   "outputs": [
    {
     "data": {
      "text/plain": [
       "27                                 70 is the new 50.\n",
       "30                            George, George, can I…\n",
       "53                                    Let’s do that.\n",
       "66                                              Yes.\n",
       "95                          Let’s get that straight.\n",
       "                            ...                     \n",
       "1758                                  May I respond?\n",
       "1766    Can I respond to the Vice President, please?\n",
       "1789                                           Just-\n",
       "1797                             You know what Pete?\n",
       "1824                                      Thank you.\n",
       "Name: speech, Length: 113, dtype: object"
      ]
     },
     "execution_count": 35,
     "metadata": {},
     "output_type": "execute_result"
    }
   ],
   "source": [
    "selector = df['speaking_time_seconds'] < 1\n",
    "df[selector]['speech']"
   ]
  },
  {
   "cell_type": "code",
   "execution_count": 36,
   "metadata": {},
   "outputs": [],
   "source": [
    "df = df[~selector]"
   ]
  },
  {
   "cell_type": "markdown",
   "metadata": {},
   "source": [
    "Looks like anything left are short, cute sentences that don't have much content. These can be safely removed as they aren't long enough for topics."
   ]
  },
  {
   "cell_type": "code",
   "execution_count": 37,
   "metadata": {},
   "outputs": [
    {
     "data": {
      "text/plain": [
       "5                                                I’m not.\n",
       "41                   I wasn’t able to hear that question.\n",
       "50                                           There we go.\n",
       "93           We ought to be able to sue the gun industry.\n",
       "113                     I don’t think that’s quite right.\n",
       "                              ...                        \n",
       "1811                                   Play by the rules.\n",
       "1813                   Not necessarily. Not till there’s-\n",
       "1814                                Let the process work.\n",
       "1817                                                 Yes.\n",
       "1818    … who has the most votes should become the nom...\n",
       "Name: speech, Length: 138, dtype: object"
      ]
     },
     "execution_count": 37,
     "metadata": {},
     "output_type": "execute_result"
    }
   ],
   "source": [
    "selector = (df['speaking_time_seconds'] <2)\n",
    "df[selector]['speech']"
   ]
  },
  {
   "cell_type": "markdown",
   "metadata": {},
   "source": [
    "Seems like it's okay to remove these too."
   ]
  },
  {
   "cell_type": "code",
   "execution_count": 38,
   "metadata": {},
   "outputs": [],
   "source": [
    "df = df[~selector]"
   ]
  },
  {
   "cell_type": "code",
   "execution_count": 39,
   "metadata": {},
   "outputs": [],
   "source": [
    "df.reset_index(inplace=True) # resets the index now that we've dropped columns"
   ]
  },
  {
   "cell_type": "code",
   "execution_count": 40,
   "metadata": {},
   "outputs": [
    {
     "data": {
      "text/html": [
       "<div>\n",
       "<style scoped>\n",
       "    .dataframe tbody tr th:only-of-type {\n",
       "        vertical-align: middle;\n",
       "    }\n",
       "\n",
       "    .dataframe tbody tr th {\n",
       "        vertical-align: top;\n",
       "    }\n",
       "\n",
       "    .dataframe thead th {\n",
       "        text-align: right;\n",
       "    }\n",
       "</style>\n",
       "<table border=\"1\" class=\"dataframe\">\n",
       "  <thead>\n",
       "    <tr style=\"text-align: right;\">\n",
       "      <th></th>\n",
       "      <th>level_0</th>\n",
       "      <th>index</th>\n",
       "      <th>debate_name</th>\n",
       "      <th>debate_section</th>\n",
       "      <th>speaker</th>\n",
       "      <th>speech</th>\n",
       "      <th>speaking_time_seconds</th>\n",
       "    </tr>\n",
       "  </thead>\n",
       "  <tbody>\n",
       "    <tr>\n",
       "      <th>0</th>\n",
       "      <td>0</td>\n",
       "      <td>1</td>\n",
       "      <td>New Hampshire Democratic Debate Transcript</td>\n",
       "      <td>Part 1</td>\n",
       "      <td>Joe Biden</td>\n",
       "      <td>Oh, they didn’t miss anything. It’s a long rac...</td>\n",
       "      <td>36.0</td>\n",
       "    </tr>\n",
       "    <tr>\n",
       "      <th>1</th>\n",
       "      <td>1</td>\n",
       "      <td>3</td>\n",
       "      <td>New Hampshire Democratic Debate Transcript</td>\n",
       "      <td>Part 1</td>\n",
       "      <td>Joe Biden</td>\n",
       "      <td>Well, you know that with regard to Senator San...</td>\n",
       "      <td>41.0</td>\n",
       "    </tr>\n",
       "    <tr>\n",
       "      <th>2</th>\n",
       "      <td>2</td>\n",
       "      <td>5</td>\n",
       "      <td>New Hampshire Democratic Debate Transcript</td>\n",
       "      <td>Part 1</td>\n",
       "      <td>Bernie Sanders</td>\n",
       "      <td>Because Donald Trump lies all the time. It doe...</td>\n",
       "      <td>41.0</td>\n",
       "    </tr>\n",
       "    <tr>\n",
       "      <th>3</th>\n",
       "      <td>3</td>\n",
       "      <td>6</td>\n",
       "      <td>New Hampshire Democratic Debate Transcript</td>\n",
       "      <td>Part 1</td>\n",
       "      <td>Bernie Sanders</td>\n",
       "      <td>I believe that the way we beat Trump is by hav...</td>\n",
       "      <td>39.0</td>\n",
       "    </tr>\n",
       "    <tr>\n",
       "      <th>4</th>\n",
       "      <td>4</td>\n",
       "      <td>8</td>\n",
       "      <td>New Hampshire Democratic Debate Transcript</td>\n",
       "      <td>Part 1</td>\n",
       "      <td>Bernie Sanders</td>\n",
       "      <td>That’s true. And that’s the disappointment and...</td>\n",
       "      <td>23.0</td>\n",
       "    </tr>\n",
       "    <tr>\n",
       "      <th>...</th>\n",
       "      <td>...</td>\n",
       "      <td>...</td>\n",
       "      <td>...</td>\n",
       "      <td>...</td>\n",
       "      <td>...</td>\n",
       "      <td>...</td>\n",
       "      <td>...</td>\n",
       "    </tr>\n",
       "    <tr>\n",
       "      <th>1520</th>\n",
       "      <td>1839</td>\n",
       "      <td>5317</td>\n",
       "      <td>Democratic Debate Transcript: Las Vegas, Nevad...</td>\n",
       "      <td>Part 2</td>\n",
       "      <td>Joe Biden</td>\n",
       "      <td>Lastly, I think it’s important that on day one...</td>\n",
       "      <td>13.0</td>\n",
       "    </tr>\n",
       "    <tr>\n",
       "      <th>1521</th>\n",
       "      <td>1840</td>\n",
       "      <td>5320</td>\n",
       "      <td>Democratic Debate Transcript: Las Vegas, Nevad...</td>\n",
       "      <td>Part 2</td>\n",
       "      <td>Joe Biden</td>\n",
       "      <td>Had, in fact, that immigration bill passed the...</td>\n",
       "      <td>5.0</td>\n",
       "    </tr>\n",
       "    <tr>\n",
       "      <th>1522</th>\n",
       "      <td>1844</td>\n",
       "      <td>5328</td>\n",
       "      <td>Democratic Debate Transcript: Las Vegas, Nevad...</td>\n",
       "      <td>Part 2</td>\n",
       "      <td>Bernie Sanders</td>\n",
       "      <td>Unfortunately Rulac, among other groups, Latin...</td>\n",
       "      <td>17.0</td>\n",
       "    </tr>\n",
       "    <tr>\n",
       "      <th>1523</th>\n",
       "      <td>1845</td>\n",
       "      <td>5329</td>\n",
       "      <td>Democratic Debate Transcript: Las Vegas, Nevad...</td>\n",
       "      <td>Part 2</td>\n",
       "      <td>Bernie Sanders</td>\n",
       "      <td>But where we don’t agree, I think, is why we a...</td>\n",
       "      <td>24.0</td>\n",
       "    </tr>\n",
       "    <tr>\n",
       "      <th>1524</th>\n",
       "      <td>1846</td>\n",
       "      <td>5330</td>\n",
       "      <td>Democratic Debate Transcript: Las Vegas, Nevad...</td>\n",
       "      <td>Part 2</td>\n",
       "      <td>Bernie Sanders</td>\n",
       "      <td>Bottom line here, real change never takes plac...</td>\n",
       "      <td>19.0</td>\n",
       "    </tr>\n",
       "  </tbody>\n",
       "</table>\n",
       "<p>1525 rows × 7 columns</p>\n",
       "</div>"
      ],
      "text/plain": [
       "      level_0  index                                        debate_name  \\\n",
       "0           0      1         New Hampshire Democratic Debate Transcript   \n",
       "1           1      3         New Hampshire Democratic Debate Transcript   \n",
       "2           2      5         New Hampshire Democratic Debate Transcript   \n",
       "3           3      6         New Hampshire Democratic Debate Transcript   \n",
       "4           4      8         New Hampshire Democratic Debate Transcript   \n",
       "...       ...    ...                                                ...   \n",
       "1520     1839   5317  Democratic Debate Transcript: Las Vegas, Nevad...   \n",
       "1521     1840   5320  Democratic Debate Transcript: Las Vegas, Nevad...   \n",
       "1522     1844   5328  Democratic Debate Transcript: Las Vegas, Nevad...   \n",
       "1523     1845   5329  Democratic Debate Transcript: Las Vegas, Nevad...   \n",
       "1524     1846   5330  Democratic Debate Transcript: Las Vegas, Nevad...   \n",
       "\n",
       "     debate_section         speaker  \\\n",
       "0            Part 1       Joe Biden   \n",
       "1            Part 1       Joe Biden   \n",
       "2            Part 1  Bernie Sanders   \n",
       "3            Part 1  Bernie Sanders   \n",
       "4            Part 1  Bernie Sanders   \n",
       "...             ...             ...   \n",
       "1520         Part 2       Joe Biden   \n",
       "1521         Part 2       Joe Biden   \n",
       "1522         Part 2  Bernie Sanders   \n",
       "1523         Part 2  Bernie Sanders   \n",
       "1524         Part 2  Bernie Sanders   \n",
       "\n",
       "                                                 speech  speaking_time_seconds  \n",
       "0     Oh, they didn’t miss anything. It’s a long rac...                   36.0  \n",
       "1     Well, you know that with regard to Senator San...                   41.0  \n",
       "2     Because Donald Trump lies all the time. It doe...                   41.0  \n",
       "3     I believe that the way we beat Trump is by hav...                   39.0  \n",
       "4     That’s true. And that’s the disappointment and...                   23.0  \n",
       "...                                                 ...                    ...  \n",
       "1520  Lastly, I think it’s important that on day one...                   13.0  \n",
       "1521  Had, in fact, that immigration bill passed the...                    5.0  \n",
       "1522  Unfortunately Rulac, among other groups, Latin...                   17.0  \n",
       "1523  But where we don’t agree, I think, is why we a...                   24.0  \n",
       "1524  Bottom line here, real change never takes plac...                   19.0  \n",
       "\n",
       "[1525 rows x 7 columns]"
      ]
     },
     "execution_count": 40,
     "metadata": {},
     "output_type": "execute_result"
    }
   ],
   "source": [
    "#pandas reset index seems to keep level_0?\n",
    "df"
   ]
  },
  {
   "cell_type": "code",
   "execution_count": 41,
   "metadata": {},
   "outputs": [
    {
     "data": {
      "text/plain": [
       "'… getting rid of the oil giveaways …'"
      ]
     },
     "execution_count": 41,
     "metadata": {},
     "output_type": "execute_result"
    }
   ],
   "source": [
    "selector = df['speaking_time_seconds']<3\n",
    "df[selector]['speech'].iloc[10]"
   ]
  },
  {
   "cell_type": "markdown",
   "metadata": {},
   "source": [
    "I'm starting to see words like 'oil' and 'immigration'. These statements need to be kept."
   ]
  },
  {
   "cell_type": "code",
   "execution_count": null,
   "metadata": {},
   "outputs": [],
   "source": [
    "# creating sub dataframes\n",
    "biden = df[df['speaker'] == 'Joe Biden']\n",
    "sanders = df[df['speaker'] == 'Bernie Sanders']\n",
    "klobuchar = df[df['speaker'] == 'Amy Klobuchar']\n",
    "warren = df[df['speaker'] == 'Elizabeth Warren']\n",
    "buttigieg = df[df['speaker'] == 'Pete Buttigieg']\n",
    "gabbard = df[df['speaker'] == 'Tulsi Gabbard']\n",
    "bloomberg = df[df['speaker'] == 'Michael Bloomberg']"
   ]
  },
  {
   "cell_type": "markdown",
   "metadata": {},
   "source": [
    "Topic Modelling is a technique to extract hidden topics from a large body of text. The challenge presents itself with how to extract a good number of topics. Ones which are distinct and meaningful.\n",
    "\n",
    "There are a couple topic modelling algorithms:\n",
    "\n",
    "LDA - Latent Dirichlet Allocation. This interprets a document as a collection of topics at some proportion. The topics are considered a collection of dominant keywords at some proportion."
   ]
  },
  {
   "cell_type": "markdown",
   "metadata": {},
   "source": [
    "### Preprocessing the Data\n",
    "\n",
    "Remove Stopwords, tokenize, lemmitize, make bigrams and trigrams"
   ]
  },
  {
   "cell_type": "code",
   "execution_count": 287,
   "metadata": {},
   "outputs": [
    {
     "name": "stderr",
     "output_type": "stream",
     "text": [
      "[nltk_data] Downloading package stopwords to /home/anna/nltk_data...\n",
      "[nltk_data]   Package stopwords is already up-to-date!\n"
     ]
    },
    {
     "data": {
      "text/plain": [
       "True"
      ]
     },
     "execution_count": 287,
     "metadata": {},
     "output_type": "execute_result"
    }
   ],
   "source": [
    "import nltk\n",
    "nltk.download('stopwords')"
   ]
  },
  {
   "cell_type": "code",
   "execution_count": 44,
   "metadata": {},
   "outputs": [],
   "source": [
    "import gensim\n",
    "import gensim.corpora as corpora\n",
    "from gensim.utils import simple_preprocess\n",
    "from gensim.models import CoherenceModel"
   ]
  },
  {
   "cell_type": "code",
   "execution_count": 302,
   "metadata": {},
   "outputs": [],
   "source": [
    "import spacy"
   ]
  },
  {
   "cell_type": "code",
   "execution_count": 46,
   "metadata": {},
   "outputs": [],
   "source": [
    "# plotting tools\n",
    "import pyLDAvis\n",
    "import pyLDAvis.gensim"
   ]
  },
  {
   "cell_type": "markdown",
   "metadata": {},
   "source": [
    "#### Remove Stopwords\n",
    "\n",
    "Stopwords are words which have no meaning. These words are removed from the list of words we use for analysis. There are standard lists of stopwords. I am using a list provided by the natural language processing toolkit (nltk).\n",
    "\n",
    "Extended stop words are words I've chosen to remove, in addition to the standard dictionary I'm using. These words are chosen in order to create higher quality topics."
   ]
  },
  {
   "cell_type": "code",
   "execution_count": null,
   "metadata": {},
   "outputs": [],
   "source": [
    "# stopwords filter out words which make the topics have low quality\n",
    "from nltk.corpus import stopwords"
   ]
  },
  {
   "cell_type": "code",
   "execution_count": 1082,
   "metadata": {},
   "outputs": [],
   "source": [
    "# load the stopwords and add some of my own\n",
    "stop_words = stopwords.words('english')\n",
    "stop_words.extend(['from', 'subject', 're', 'edu', 'use','question','time','things','thing'])"
   ]
  },
  {
   "cell_type": "markdown",
   "metadata": {},
   "source": [
    "#### Tokenization\n",
    "Here I need to break up the setences into a list of individual words. This means I need to expand contractions, remove puncuation, and remove weird characters in the text."
   ]
  },
  {
   "cell_type": "code",
   "execution_count": 50,
   "metadata": {},
   "outputs": [],
   "source": [
    "data = df.speech.tolist()\n",
    "# remove ellipses\n",
    "data = [re.sub('\\u2026', '', sentence) for sentence in data]   "
   ]
  },
  {
   "cell_type": "markdown",
   "metadata": {},
   "source": [
    "Next we need to remove things like '[crosstalk ##:##:##]' or '[inaudible ##:##:##]'"
   ]
  },
  {
   "cell_type": "code",
   "execution_count": 51,
   "metadata": {},
   "outputs": [],
   "source": [
    "data = [re.sub('.crosstalk [0-9][0-9]:[0-9][0-9]:[0-9][0-9]..','',sentence) for sentence in data]\n",
    "data = [re.sub('.inaudible [0-9][0-9]:[0-9][0-9]:[0-9][0-9]..','',sentence) for sentence in data]"
   ]
  },
  {
   "cell_type": "code",
   "execution_count": 261,
   "metadata": {},
   "outputs": [],
   "source": [
    "# cp1252 to unicode encoding for the apostrophe\n",
    "data = [re.sub(\"\\u2019\",\"\\u0027\",sentence) for sentence in data]"
   ]
  },
  {
   "cell_type": "markdown",
   "metadata": {},
   "source": [
    "##### Expand contractions"
   ]
  },
  {
   "cell_type": "code",
   "execution_count": 53,
   "metadata": {},
   "outputs": [],
   "source": [
    "from pycontractions import Contractions\n",
    "import gensim.downloader as api"
   ]
  },
  {
   "cell_type": "code",
   "execution_count": 109,
   "metadata": {},
   "outputs": [
    {
     "ename": "KeyboardInterrupt",
     "evalue": "",
     "output_type": "error",
     "traceback": [
      "\u001b[0;31m---------------------------------------------------------------------------\u001b[0m",
      "\u001b[0;31mKeyboardInterrupt\u001b[0m                         Traceback (most recent call last)",
      "\u001b[0;32m<ipython-input-109-797563c8f6bd>\u001b[0m in \u001b[0;36m<module>\u001b[0;34m\u001b[0m\n\u001b[1;32m      1\u001b[0m \u001b[0;31m# model for contractions function\u001b[0m\u001b[0;34m\u001b[0m\u001b[0;34m\u001b[0m\u001b[0;34m\u001b[0m\u001b[0m\n\u001b[0;32m----> 2\u001b[0;31m \u001b[0mmodel\u001b[0m \u001b[0;34m=\u001b[0m \u001b[0mapi\u001b[0m\u001b[0;34m.\u001b[0m\u001b[0mload\u001b[0m\u001b[0;34m(\u001b[0m\u001b[0;34m\"word2vec-google-news-300\"\u001b[0m\u001b[0;34m)\u001b[0m\u001b[0;34m\u001b[0m\u001b[0;34m\u001b[0m\u001b[0m\n\u001b[0m",
      "\u001b[0;32m~/anaconda3/lib/python3.7/site-packages/gensim/downloader.py\u001b[0m in \u001b[0;36mload\u001b[0;34m(name, return_path)\u001b[0m\n\u001b[1;32m    500\u001b[0m         \u001b[0msys\u001b[0m\u001b[0;34m.\u001b[0m\u001b[0mpath\u001b[0m\u001b[0;34m.\u001b[0m\u001b[0minsert\u001b[0m\u001b[0;34m(\u001b[0m\u001b[0;36m0\u001b[0m\u001b[0;34m,\u001b[0m \u001b[0mBASE_DIR\u001b[0m\u001b[0;34m)\u001b[0m\u001b[0;34m\u001b[0m\u001b[0;34m\u001b[0m\u001b[0m\n\u001b[1;32m    501\u001b[0m         \u001b[0mmodule\u001b[0m \u001b[0;34m=\u001b[0m \u001b[0m__import__\u001b[0m\u001b[0;34m(\u001b[0m\u001b[0mname\u001b[0m\u001b[0;34m)\u001b[0m\u001b[0;34m\u001b[0m\u001b[0;34m\u001b[0m\u001b[0m\n\u001b[0;32m--> 502\u001b[0;31m         \u001b[0;32mreturn\u001b[0m \u001b[0mmodule\u001b[0m\u001b[0;34m.\u001b[0m\u001b[0mload_data\u001b[0m\u001b[0;34m(\u001b[0m\u001b[0;34m)\u001b[0m\u001b[0;34m\u001b[0m\u001b[0;34m\u001b[0m\u001b[0m\n\u001b[0m\u001b[1;32m    503\u001b[0m \u001b[0;34m\u001b[0m\u001b[0m\n\u001b[1;32m    504\u001b[0m \u001b[0;34m\u001b[0m\u001b[0m\n",
      "\u001b[0;32m~/gensim-data/word2vec-google-news-300/__init__.py\u001b[0m in \u001b[0;36mload_data\u001b[0;34m()\u001b[0m\n\u001b[1;32m      6\u001b[0m \u001b[0;32mdef\u001b[0m \u001b[0mload_data\u001b[0m\u001b[0;34m(\u001b[0m\u001b[0;34m)\u001b[0m\u001b[0;34m:\u001b[0m\u001b[0;34m\u001b[0m\u001b[0;34m\u001b[0m\u001b[0m\n\u001b[1;32m      7\u001b[0m     \u001b[0mpath\u001b[0m \u001b[0;34m=\u001b[0m \u001b[0mos\u001b[0m\u001b[0;34m.\u001b[0m\u001b[0mpath\u001b[0m\u001b[0;34m.\u001b[0m\u001b[0mjoin\u001b[0m\u001b[0;34m(\u001b[0m\u001b[0mbase_dir\u001b[0m\u001b[0;34m,\u001b[0m \u001b[0;34m'word2vec-google-news-300'\u001b[0m\u001b[0;34m,\u001b[0m \u001b[0;34m\"word2vec-google-news-300.gz\"\u001b[0m\u001b[0;34m)\u001b[0m\u001b[0;34m\u001b[0m\u001b[0;34m\u001b[0m\u001b[0m\n\u001b[0;32m----> 8\u001b[0;31m     \u001b[0mmodel\u001b[0m \u001b[0;34m=\u001b[0m \u001b[0mKeyedVectors\u001b[0m\u001b[0;34m.\u001b[0m\u001b[0mload_word2vec_format\u001b[0m\u001b[0;34m(\u001b[0m\u001b[0mpath\u001b[0m\u001b[0;34m,\u001b[0m \u001b[0mbinary\u001b[0m\u001b[0;34m=\u001b[0m\u001b[0;32mTrue\u001b[0m\u001b[0;34m)\u001b[0m\u001b[0;34m\u001b[0m\u001b[0;34m\u001b[0m\u001b[0m\n\u001b[0m\u001b[1;32m      9\u001b[0m     \u001b[0;32mreturn\u001b[0m \u001b[0mmodel\u001b[0m\u001b[0;34m\u001b[0m\u001b[0;34m\u001b[0m\u001b[0m\n",
      "\u001b[0;32m~/anaconda3/lib/python3.7/site-packages/gensim/models/keyedvectors.py\u001b[0m in \u001b[0;36mload_word2vec_format\u001b[0;34m(cls, fname, fvocab, binary, encoding, unicode_errors, limit, datatype)\u001b[0m\n\u001b[1;32m   1496\u001b[0m         return _load_word2vec_format(\n\u001b[1;32m   1497\u001b[0m             \u001b[0mcls\u001b[0m\u001b[0;34m,\u001b[0m \u001b[0mfname\u001b[0m\u001b[0;34m,\u001b[0m \u001b[0mfvocab\u001b[0m\u001b[0;34m=\u001b[0m\u001b[0mfvocab\u001b[0m\u001b[0;34m,\u001b[0m \u001b[0mbinary\u001b[0m\u001b[0;34m=\u001b[0m\u001b[0mbinary\u001b[0m\u001b[0;34m,\u001b[0m \u001b[0mencoding\u001b[0m\u001b[0;34m=\u001b[0m\u001b[0mencoding\u001b[0m\u001b[0;34m,\u001b[0m \u001b[0municode_errors\u001b[0m\u001b[0;34m=\u001b[0m\u001b[0municode_errors\u001b[0m\u001b[0;34m,\u001b[0m\u001b[0;34m\u001b[0m\u001b[0;34m\u001b[0m\u001b[0m\n\u001b[0;32m-> 1498\u001b[0;31m             limit=limit, datatype=datatype)\n\u001b[0m\u001b[1;32m   1499\u001b[0m \u001b[0;34m\u001b[0m\u001b[0m\n\u001b[1;32m   1500\u001b[0m     \u001b[0;32mdef\u001b[0m \u001b[0mget_keras_embedding\u001b[0m\u001b[0;34m(\u001b[0m\u001b[0mself\u001b[0m\u001b[0;34m,\u001b[0m \u001b[0mtrain_embeddings\u001b[0m\u001b[0;34m=\u001b[0m\u001b[0;32mFalse\u001b[0m\u001b[0;34m)\u001b[0m\u001b[0;34m:\u001b[0m\u001b[0;34m\u001b[0m\u001b[0;34m\u001b[0m\u001b[0m\n",
      "\u001b[0;32m~/anaconda3/lib/python3.7/site-packages/gensim/models/utils_any2vec.py\u001b[0m in \u001b[0;36m_load_word2vec_format\u001b[0;34m(cls, fname, fvocab, binary, encoding, unicode_errors, limit, datatype)\u001b[0m\n\u001b[1;32m    383\u001b[0m                 \u001b[0;32mwith\u001b[0m \u001b[0mutils\u001b[0m\u001b[0;34m.\u001b[0m\u001b[0mignore_deprecation_warning\u001b[0m\u001b[0;34m(\u001b[0m\u001b[0;34m)\u001b[0m\u001b[0;34m:\u001b[0m\u001b[0;34m\u001b[0m\u001b[0;34m\u001b[0m\u001b[0m\n\u001b[1;32m    384\u001b[0m                     \u001b[0;31m# TODO use frombuffer or something similar\u001b[0m\u001b[0;34m\u001b[0m\u001b[0;34m\u001b[0m\u001b[0;34m\u001b[0m\u001b[0m\n\u001b[0;32m--> 385\u001b[0;31m                     \u001b[0mweights\u001b[0m \u001b[0;34m=\u001b[0m \u001b[0mfromstring\u001b[0m\u001b[0;34m(\u001b[0m\u001b[0mfin\u001b[0m\u001b[0;34m.\u001b[0m\u001b[0mread\u001b[0m\u001b[0;34m(\u001b[0m\u001b[0mbinary_len\u001b[0m\u001b[0;34m)\u001b[0m\u001b[0;34m,\u001b[0m \u001b[0mdtype\u001b[0m\u001b[0;34m=\u001b[0m\u001b[0mREAL\u001b[0m\u001b[0;34m)\u001b[0m\u001b[0;34m.\u001b[0m\u001b[0mastype\u001b[0m\u001b[0;34m(\u001b[0m\u001b[0mdatatype\u001b[0m\u001b[0;34m)\u001b[0m\u001b[0;34m\u001b[0m\u001b[0;34m\u001b[0m\u001b[0m\n\u001b[0m\u001b[1;32m    386\u001b[0m                 \u001b[0madd_word\u001b[0m\u001b[0;34m(\u001b[0m\u001b[0mword\u001b[0m\u001b[0;34m,\u001b[0m \u001b[0mweights\u001b[0m\u001b[0;34m)\u001b[0m\u001b[0;34m\u001b[0m\u001b[0;34m\u001b[0m\u001b[0m\n\u001b[1;32m    387\u001b[0m         \u001b[0;32melse\u001b[0m\u001b[0;34m:\u001b[0m\u001b[0;34m\u001b[0m\u001b[0;34m\u001b[0m\u001b[0m\n",
      "\u001b[0;32m~/anaconda3/lib/python3.7/gzip.py\u001b[0m in \u001b[0;36mread\u001b[0;34m(self, size)\u001b[0m\n\u001b[1;32m    274\u001b[0m             \u001b[0;32mimport\u001b[0m \u001b[0merrno\u001b[0m\u001b[0;34m\u001b[0m\u001b[0;34m\u001b[0m\u001b[0m\n\u001b[1;32m    275\u001b[0m             \u001b[0;32mraise\u001b[0m \u001b[0mOSError\u001b[0m\u001b[0;34m(\u001b[0m\u001b[0merrno\u001b[0m\u001b[0;34m.\u001b[0m\u001b[0mEBADF\u001b[0m\u001b[0;34m,\u001b[0m \u001b[0;34m\"read() on write-only GzipFile object\"\u001b[0m\u001b[0;34m)\u001b[0m\u001b[0;34m\u001b[0m\u001b[0;34m\u001b[0m\u001b[0m\n\u001b[0;32m--> 276\u001b[0;31m         \u001b[0;32mreturn\u001b[0m \u001b[0mself\u001b[0m\u001b[0;34m.\u001b[0m\u001b[0m_buffer\u001b[0m\u001b[0;34m.\u001b[0m\u001b[0mread\u001b[0m\u001b[0;34m(\u001b[0m\u001b[0msize\u001b[0m\u001b[0;34m)\u001b[0m\u001b[0;34m\u001b[0m\u001b[0;34m\u001b[0m\u001b[0m\n\u001b[0m\u001b[1;32m    277\u001b[0m \u001b[0;34m\u001b[0m\u001b[0m\n\u001b[1;32m    278\u001b[0m     \u001b[0;32mdef\u001b[0m \u001b[0mread1\u001b[0m\u001b[0;34m(\u001b[0m\u001b[0mself\u001b[0m\u001b[0;34m,\u001b[0m \u001b[0msize\u001b[0m\u001b[0;34m=\u001b[0m\u001b[0;34m-\u001b[0m\u001b[0;36m1\u001b[0m\u001b[0;34m)\u001b[0m\u001b[0;34m:\u001b[0m\u001b[0;34m\u001b[0m\u001b[0;34m\u001b[0m\u001b[0m\n",
      "\u001b[0;32m~/anaconda3/lib/python3.7/_compression.py\u001b[0m in \u001b[0;36mreadinto\u001b[0;34m(self, b)\u001b[0m\n\u001b[1;32m     66\u001b[0m     \u001b[0;32mdef\u001b[0m \u001b[0mreadinto\u001b[0m\u001b[0;34m(\u001b[0m\u001b[0mself\u001b[0m\u001b[0;34m,\u001b[0m \u001b[0mb\u001b[0m\u001b[0;34m)\u001b[0m\u001b[0;34m:\u001b[0m\u001b[0;34m\u001b[0m\u001b[0;34m\u001b[0m\u001b[0m\n\u001b[1;32m     67\u001b[0m         \u001b[0;32mwith\u001b[0m \u001b[0mmemoryview\u001b[0m\u001b[0;34m(\u001b[0m\u001b[0mb\u001b[0m\u001b[0;34m)\u001b[0m \u001b[0;32mas\u001b[0m \u001b[0mview\u001b[0m\u001b[0;34m,\u001b[0m \u001b[0mview\u001b[0m\u001b[0;34m.\u001b[0m\u001b[0mcast\u001b[0m\u001b[0;34m(\u001b[0m\u001b[0;34m\"B\"\u001b[0m\u001b[0;34m)\u001b[0m \u001b[0;32mas\u001b[0m \u001b[0mbyte_view\u001b[0m\u001b[0;34m:\u001b[0m\u001b[0;34m\u001b[0m\u001b[0;34m\u001b[0m\u001b[0m\n\u001b[0;32m---> 68\u001b[0;31m             \u001b[0mdata\u001b[0m \u001b[0;34m=\u001b[0m \u001b[0mself\u001b[0m\u001b[0;34m.\u001b[0m\u001b[0mread\u001b[0m\u001b[0;34m(\u001b[0m\u001b[0mlen\u001b[0m\u001b[0;34m(\u001b[0m\u001b[0mbyte_view\u001b[0m\u001b[0;34m)\u001b[0m\u001b[0;34m)\u001b[0m\u001b[0;34m\u001b[0m\u001b[0;34m\u001b[0m\u001b[0m\n\u001b[0m\u001b[1;32m     69\u001b[0m             \u001b[0mbyte_view\u001b[0m\u001b[0;34m[\u001b[0m\u001b[0;34m:\u001b[0m\u001b[0mlen\u001b[0m\u001b[0;34m(\u001b[0m\u001b[0mdata\u001b[0m\u001b[0;34m)\u001b[0m\u001b[0;34m]\u001b[0m \u001b[0;34m=\u001b[0m \u001b[0mdata\u001b[0m\u001b[0;34m\u001b[0m\u001b[0;34m\u001b[0m\u001b[0m\n\u001b[1;32m     70\u001b[0m         \u001b[0;32mreturn\u001b[0m \u001b[0mlen\u001b[0m\u001b[0;34m(\u001b[0m\u001b[0mdata\u001b[0m\u001b[0;34m)\u001b[0m\u001b[0;34m\u001b[0m\u001b[0;34m\u001b[0m\u001b[0m\n",
      "\u001b[0;32m~/anaconda3/lib/python3.7/gzip.py\u001b[0m in \u001b[0;36mread\u001b[0;34m(self, size)\u001b[0m\n\u001b[1;32m    469\u001b[0m             \u001b[0mbuf\u001b[0m \u001b[0;34m=\u001b[0m \u001b[0mself\u001b[0m\u001b[0;34m.\u001b[0m\u001b[0m_fp\u001b[0m\u001b[0;34m.\u001b[0m\u001b[0mread\u001b[0m\u001b[0;34m(\u001b[0m\u001b[0mio\u001b[0m\u001b[0;34m.\u001b[0m\u001b[0mDEFAULT_BUFFER_SIZE\u001b[0m\u001b[0;34m)\u001b[0m\u001b[0;34m\u001b[0m\u001b[0;34m\u001b[0m\u001b[0m\n\u001b[1;32m    470\u001b[0m \u001b[0;34m\u001b[0m\u001b[0m\n\u001b[0;32m--> 471\u001b[0;31m             \u001b[0muncompress\u001b[0m \u001b[0;34m=\u001b[0m \u001b[0mself\u001b[0m\u001b[0;34m.\u001b[0m\u001b[0m_decompressor\u001b[0m\u001b[0;34m.\u001b[0m\u001b[0mdecompress\u001b[0m\u001b[0;34m(\u001b[0m\u001b[0mbuf\u001b[0m\u001b[0;34m,\u001b[0m \u001b[0msize\u001b[0m\u001b[0;34m)\u001b[0m\u001b[0;34m\u001b[0m\u001b[0;34m\u001b[0m\u001b[0m\n\u001b[0m\u001b[1;32m    472\u001b[0m             \u001b[0;32mif\u001b[0m \u001b[0mself\u001b[0m\u001b[0;34m.\u001b[0m\u001b[0m_decompressor\u001b[0m\u001b[0;34m.\u001b[0m\u001b[0munconsumed_tail\u001b[0m \u001b[0;34m!=\u001b[0m \u001b[0;34mb\"\"\u001b[0m\u001b[0;34m:\u001b[0m\u001b[0;34m\u001b[0m\u001b[0;34m\u001b[0m\u001b[0m\n\u001b[1;32m    473\u001b[0m                 \u001b[0mself\u001b[0m\u001b[0;34m.\u001b[0m\u001b[0m_fp\u001b[0m\u001b[0;34m.\u001b[0m\u001b[0mprepend\u001b[0m\u001b[0;34m(\u001b[0m\u001b[0mself\u001b[0m\u001b[0;34m.\u001b[0m\u001b[0m_decompressor\u001b[0m\u001b[0;34m.\u001b[0m\u001b[0munconsumed_tail\u001b[0m\u001b[0;34m)\u001b[0m\u001b[0;34m\u001b[0m\u001b[0;34m\u001b[0m\u001b[0m\n",
      "\u001b[0;31mKeyboardInterrupt\u001b[0m: "
     ]
    }
   ],
   "source": [
    "# model for contractions function\n",
    "model = api.load(\"word2vec-google-news-300\")"
   ]
  },
  {
   "cell_type": "code",
   "execution_count": 55,
   "metadata": {},
   "outputs": [],
   "source": [
    "cont = Contractions(kv_model=model)"
   ]
  },
  {
   "cell_type": "code",
   "execution_count": 56,
   "metadata": {},
   "outputs": [],
   "source": [
    "# prevents loading on first expand_texts call\n",
    "cont.load_models()"
   ]
  },
  {
   "cell_type": "code",
   "execution_count": 263,
   "metadata": {},
   "outputs": [],
   "source": [
    "# expand contractions\n",
    "data = list(cont.expand_texts(data,precise=True))"
   ]
  },
  {
   "cell_type": "markdown",
   "metadata": {},
   "source": [
    "#### Tokenize"
   ]
  },
  {
   "cell_type": "code",
   "execution_count": 269,
   "metadata": {},
   "outputs": [],
   "source": [
    "def tokenize(sentences):\n",
    "    for sentence in sentences:\n",
    "        yield(gensim.utils.simple_preprocess(str(sentence), deacc=True))  # deacc=True removes punctuations"
   ]
  },
  {
   "cell_type": "code",
   "execution_count": 272,
   "metadata": {},
   "outputs": [],
   "source": [
    "token_sentences = list(tokenize(data))"
   ]
  },
  {
   "cell_type": "markdown",
   "metadata": {},
   "source": [
    "#### Building Bigrams and Trigrams"
   ]
  },
  {
   "cell_type": "code",
   "execution_count": 926,
   "metadata": {},
   "outputs": [],
   "source": [
    "bigram = gensim.models.Phrases(token_sentences, min_count=5,threshold=100)\n",
    "trigram = gensim.models.Phrases(bigram[token_sentences],threshold=100)"
   ]
  },
  {
   "cell_type": "code",
   "execution_count": 927,
   "metadata": {},
   "outputs": [],
   "source": [
    "bigram_mod = gensim.models.phrases.Phraser(bigram)\n",
    "trigram_mod = gensim.models.phrases.Phraser(trigram)"
   ]
  },
  {
   "cell_type": "code",
   "execution_count": 928,
   "metadata": {},
   "outputs": [],
   "source": [
    "# necessary functions\n",
    "def remove_stopwords(texts):\n",
    "    return [[word for word in simple_preprocess(str(doc)) if word not in stop_words] for doc in texts]\n",
    "\n",
    "def make_bigrams(texts):\n",
    "    return [bigram_mod[doc] for doc in texts]\n",
    "\n",
    "def make_trigrams(texts):\n",
    "    return [trigram_mod[bigram_mod[doc]] for doc in texts]\n",
    "\n",
    "def lemmatization(texts,allowed_postags=['NOUN', 'ADJ', 'PROPN']):\n",
    "        texts_out = []\n",
    "        for sent in texts:\n",
    "            doc = nlp(\" \".join(sent)) \n",
    "            texts_out.append([token.lemma_ for token in doc if token.pos_ in allowed_postags])\n",
    "        return texts_out  "
   ]
  },
  {
   "cell_type": "code",
   "execution_count": 1083,
   "metadata": {},
   "outputs": [],
   "source": [
    "# remove stopwords\n",
    "nostops = remove_stopwords(token_sentences)"
   ]
  },
  {
   "cell_type": "code",
   "execution_count": 1084,
   "metadata": {},
   "outputs": [],
   "source": [
    "# make bigrams and trigrams\n",
    "bigrams = make_bigrams(nostops)\n",
    "trigrams = make_trigrams(nostops)"
   ]
  },
  {
   "cell_type": "code",
   "execution_count": 1085,
   "metadata": {},
   "outputs": [],
   "source": [
    "nlp = spacy.load('en', disable=['parser','ner'])"
   ]
  },
  {
   "cell_type": "code",
   "execution_count": 1086,
   "metadata": {},
   "outputs": [],
   "source": [
    "# lemmatize\n",
    "lemmatized = lemmatization(trigrams)"
   ]
  },
  {
   "cell_type": "code",
   "execution_count": 1087,
   "metadata": {},
   "outputs": [
    {
     "name": "stdout",
     "output_type": "stream",
     "text": [
      "[[(0, 1), (1, 1), (2, 1), (3, 1), (4, 1), (5, 1), (6, 1), (7, 1), (8, 1), (9, 1), (10, 1), (11, 1), (12, 2), (13, 1), (14, 1), (15, 1), (16, 1), (17, 1), (18, 1), (19, 1), (20, 1)]]\n"
     ]
    }
   ],
   "source": [
    "# Create Dictionary\n",
    "id2word = corpora.Dictionary(lemmatized)\n",
    "\n",
    "# Create Corpus\n",
    "texts = lemmatized\n",
    "corpus = [id2word.doc2bow(text) for text in texts]\n",
    "\n",
    "# mapping (word_id, word_frequency)\n",
    "print(corpus[:1])"
   ]
  },
  {
   "cell_type": "code",
   "execution_count": 1088,
   "metadata": {},
   "outputs": [
    {
     "data": {
      "text/plain": [
       "'bernie'"
      ]
     },
     "execution_count": 1088,
     "metadata": {},
     "output_type": "execute_result"
    }
   ],
   "source": [
    "id2word[0] # dictionary usage"
   ]
  },
  {
   "cell_type": "markdown",
   "metadata": {},
   "source": [
    "### Train the Model\n",
    "\n",
    "Training the LDA model. The number of topics was chosen based on a balance between maximizing the coherence, and eyeballing topics such that they make sense."
   ]
  },
  {
   "cell_type": "code",
   "execution_count": 1101,
   "metadata": {},
   "outputs": [],
   "source": [
    "lda_model = gensim.models.ldamodel.LdaModel(corpus=corpus,\n",
    "                                           id2word=id2word,\n",
    "                                           num_topics=6,\n",
    "                                           random_state=200,\n",
    "                                           update_every=1,\n",
    "                                           chunksize=100,\n",
    "                                           passes=15,\n",
    "                                           alpha='auto',\n",
    "                                           per_word_topics=True)"
   ]
  },
  {
   "cell_type": "code",
   "execution_count": 1115,
   "metadata": {},
   "outputs": [
    {
     "name": "stdout",
     "output_type": "stream",
     "text": [
      "[(0,\n",
      "  '0.027*\"war\" + 0.023*\"wealth\" + 0.015*\"military\" + 0.014*\"afghanistan\" + '\n",
      "  '0.011*\"iraq\" + 0.011*\"world\" + 0.010*\"ally\" + 0.010*\"cannot_afford\" + '\n",
      "  '0.009*\"troop\" + 0.009*\"street\"'),\n",
      " (1,\n",
      "  '0.048*\"people\" + 0.025*\"country\" + 0.023*\"president\" + 0.015*\"way\" + '\n",
      "  '0.015*\"year\" + 0.012*\"right\" + 0.012*\"america\" + 0.012*\"american\" + '\n",
      "  '0.011*\"fact\" + 0.009*\"plan\"'),\n",
      " (2,\n",
      "  '0.029*\"job\" + 0.023*\"worker\" + 0.021*\"company\" + 0.017*\"top\" + '\n",
      "  '0.014*\"government\" + 0.014*\"republicans\" + 0.011*\"fight\" + 0.009*\"choice\" + '\n",
      "  '0.009*\"implication\" + 0.009*\"democratic\"'),\n",
      " (3,\n",
      "  '0.027*\"issue\" + 0.027*\"world\" + 0.023*\"job\" + 0.014*\"agreement\" + '\n",
      "  '0.013*\"member\" + 0.012*\"long\" + 0.011*\"climate\" + 0.011*\"climate_change\" + '\n",
      "  '0.010*\"new\" + 0.010*\"mother\"'),\n",
      " (4,\n",
      "  '0.021*\"college\" + 0.020*\"majority\" + 0.019*\"future\" + 0.018*\"education\" + '\n",
      "  '0.013*\"law\" + 0.013*\"race\" + 0.013*\"teacher\" + 0.012*\"kid\" + '\n",
      "  '0.012*\"making_sure\" + 0.011*\"easy\"'),\n",
      " (5,\n",
      "  '0.043*\"union\" + 0.010*\"proud\" + 0.009*\"delegate\" + 0.009*\"movement\" + '\n",
      "  '0.009*\"name\" + 0.009*\"strong\" + 0.008*\"leader\" + 0.008*\"month\" + '\n",
      "  '0.008*\"poll\" + 0.008*\"arena\"')]\n"
     ]
    }
   ],
   "source": [
    "# print the topics and 10 most associated words\n",
    "pprint(lda_model.print_topics())"
   ]
  },
  {
   "cell_type": "markdown",
   "metadata": {},
   "source": [
    "##### Topic 1: Military\n",
    "war, wealth, military, afghanistan, iraq, world, ally, cannot afford, troop, street\n",
    "\n",
    "##### Topic 2: The American People\n",
    "people, country, president, way, year, right, america, american, fact, plan\n",
    "\n",
    "##### Topic 3: Jobs\n",
    "job, worker, company, top, government, republicans, fight, choice, implication, democratic\n",
    "\n",
    "##### Topic 4: Global Issues\n",
    "issue, world, job, agreement, member, long, climate, climate change, new, mother\n",
    "\n",
    "##### Topic 5: The Future of Education\n",
    "college, majority, future, education, law, race, teacher, kid, making sure, easy\n",
    "\n",
    "##### Topic 6: The Need to Vote\n",
    "union, proud, delegate, movement, name, strong, leader, month, poll, arena"
   ]
  },
  {
   "cell_type": "code",
   "execution_count": 1103,
   "metadata": {},
   "outputs": [
    {
     "name": "stdout",
     "output_type": "stream",
     "text": [
      "Perplexity:  -7.483680466877554\n"
     ]
    }
   ],
   "source": [
    "# Compute Perplexity\n",
    "print('Perplexity: ', lda_model.log_perplexity(corpus))"
   ]
  },
  {
   "cell_type": "code",
   "execution_count": 1104,
   "metadata": {},
   "outputs": [
    {
     "name": "stdout",
     "output_type": "stream",
     "text": [
      "Coherence Score:  0.4144044396626301\n"
     ]
    }
   ],
   "source": [
    "# Compute Coherence\n",
    "coherence_model = CoherenceModel(model=lda_model, texts=lemmatized, dictionary=id2word,coherence='c_v')\n",
    "coherence_lda = coherence_model.get_coherence()\n",
    "print('Coherence Score: ', coherence_lda)"
   ]
  },
  {
   "cell_type": "markdown",
   "metadata": {},
   "source": [
    "#### Visualization"
   ]
  },
  {
   "cell_type": "code",
   "execution_count": 1105,
   "metadata": {},
   "outputs": [],
   "source": [
    "pyLDAvis.enable_notebook()"
   ]
  },
  {
   "cell_type": "code",
   "execution_count": 1106,
   "metadata": {},
   "outputs": [],
   "source": [
    "vis = pyLDAvis.gensim.prepare(lda_model, corpus, id2word)"
   ]
  },
  {
   "cell_type": "code",
   "execution_count": 1107,
   "metadata": {},
   "outputs": [
    {
     "name": "stdout",
     "output_type": "stream",
     "text": [
      "\n",
      "Note: if you're in the IPython notebook, pyLDAvis.show() is not the best command\n",
      "      to use. Consider using pyLDAvis.display(), or pyLDAvis.enable_notebook().\n",
      "      See more information at http://pyLDAvis.github.io/quickstart.html .\n",
      "\n",
      "You must interrupt the kernel to end this command\n",
      "\n",
      "Serving to http://127.0.0.1:8889/    [Ctrl-C to exit]\n"
     ]
    },
    {
     "name": "stderr",
     "output_type": "stream",
     "text": [
      "127.0.0.1 - - [10/Mar/2020 12:31:53] \"GET / HTTP/1.1\" 200 -\n",
      "127.0.0.1 - - [10/Mar/2020 12:31:53] \"GET /LDAvis.css HTTP/1.1\" 200 -\n",
      "127.0.0.1 - - [10/Mar/2020 12:31:53] \"GET /d3.js HTTP/1.1\" 200 -\n",
      "127.0.0.1 - - [10/Mar/2020 12:31:53] \"GET /LDAvis.js HTTP/1.1\" 200 -\n"
     ]
    },
    {
     "name": "stdout",
     "output_type": "stream",
     "text": [
      "\n",
      "stopping Server...\n"
     ]
    }
   ],
   "source": [
    "# opens new pop up, pyLDAvis was written for IPython \n",
    "# and does not display well in jupyter notebook\n",
    "viz = pyLDAvis.show(vis)"
   ]
  },
  {
   "cell_type": "markdown",
   "metadata": {},
   "source": [
    "Next steps:\n",
    "\n",
    "Find a way to associate the words of each individual speaker with the topics defined here.\n",
    "\n",
    "Ideas:\n",
    "\n",
    "(1) Look for the frequency of the strongest words per topic\n",
    "\n",
    "(2) Turn this into a supervised classification problem"
   ]
  },
  {
   "cell_type": "markdown",
   "metadata": {},
   "source": [
    "### Things that could be improved\n",
    "\n",
    "If I wanted to keep more of the data, I could potentially analyze the number of works spoken for those missing speaking_time entries and estimate how much times is taken up by those sections using the average words spoken.\n",
    "\n",
    "No need to stitch together passages or remove speeches less than 2 seconds. Unimportant content can be dropped with stopwords.\n",
    "\n",
    "Keep moderator questions. If I kept moderator questions, I could ask more questions about whether the candidate avoided the question."
   ]
  },
  {
   "cell_type": "code",
   "execution_count": null,
   "metadata": {},
   "outputs": [],
   "source": []
  }
 ],
 "metadata": {
  "kernelspec": {
   "display_name": "Python 3",
   "language": "python",
   "name": "python3"
  },
  "language_info": {
   "codemirror_mode": {
    "name": "ipython",
    "version": 3
   },
   "file_extension": ".py",
   "mimetype": "text/x-python",
   "name": "python",
   "nbconvert_exporter": "python",
   "pygments_lexer": "ipython3",
   "version": "3.7.6"
  }
 },
 "nbformat": 4,
 "nbformat_minor": 4
}
