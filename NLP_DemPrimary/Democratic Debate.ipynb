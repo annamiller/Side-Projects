{
 "cells": [
  {
   "cell_type": "markdown",
   "metadata": {},
   "source": [
    "### Imports"
   ]
  },
  {
   "cell_type": "code",
   "execution_count": 1,
   "metadata": {},
   "outputs": [
    {
     "name": "stderr",
     "output_type": "stream",
     "text": [
      "[nltk_data] Downloading package stopwords to /home/anna/nltk_data...\n",
      "[nltk_data]   Package stopwords is already up-to-date!\n"
     ]
    }
   ],
   "source": [
    "%matplotlib inline\n",
    "import matplotlib.pyplot as plt\n",
    "import seaborn as sns\n",
    "import pandas as pd\n",
    "import numpy as np\n",
    "import re\n",
    "from pprint import pprint\n",
    "sns.set()\n",
    "\n",
    "# Natural Language Toolkit\n",
    "import nltk\n",
    "nltk.download('stopwords')\n",
    "\n",
    "# A package to process word contractions\n",
    "from pycontractions import Contractions\n",
    "import gensim.downloader as api\n",
    "\n",
    "\n",
    "import gensim\n",
    "import gensim.corpora as corpora\n",
    "from gensim.utils import simple_preprocess\n",
    "from gensim.models import CoherenceModel\n",
    "import spacy\n",
    "\n",
    "# plotting tools\n",
    "import pyLDAvis\n",
    "import pyLDAvis.gensim\n",
    "\n",
    "import warnings\n",
    "warnings.filterwarnings('ignore')"
   ]
  },
  {
   "cell_type": "code",
   "execution_count": 2,
   "metadata": {},
   "outputs": [],
   "source": [
    "# load the data\n",
    "df = pd.read_csv('debate_transcripts_v2_2020-02-23.csv',encoding='cp1252')"
   ]
  },
  {
   "cell_type": "markdown",
   "metadata": {},
   "source": [
    "I'd like to answer the question, who spent the most time talking about each subject during the democratic primary debates."
   ]
  },
  {
   "cell_type": "markdown",
   "metadata": {},
   "source": [
    "### Exploring the Data"
   ]
  },
  {
   "cell_type": "code",
   "execution_count": 3,
   "metadata": {},
   "outputs": [
    {
     "data": {
      "text/plain": [
       "(5333, 5)"
      ]
     },
     "execution_count": 3,
     "metadata": {},
     "output_type": "execute_result"
    }
   ],
   "source": [
    "df.shape"
   ]
  },
  {
   "cell_type": "code",
   "execution_count": 4,
   "metadata": {},
   "outputs": [
    {
     "data": {
      "text/html": [
       "<div>\n",
       "<style scoped>\n",
       "    .dataframe tbody tr th:only-of-type {\n",
       "        vertical-align: middle;\n",
       "    }\n",
       "\n",
       "    .dataframe tbody tr th {\n",
       "        vertical-align: top;\n",
       "    }\n",
       "\n",
       "    .dataframe thead th {\n",
       "        text-align: right;\n",
       "    }\n",
       "</style>\n",
       "<table border=\"1\" class=\"dataframe\">\n",
       "  <thead>\n",
       "    <tr style=\"text-align: right;\">\n",
       "      <th></th>\n",
       "      <th>debate_name</th>\n",
       "      <th>debate_section</th>\n",
       "      <th>speaker</th>\n",
       "      <th>speech</th>\n",
       "      <th>speaking_time_seconds</th>\n",
       "    </tr>\n",
       "  </thead>\n",
       "  <tbody>\n",
       "    <tr>\n",
       "      <th>0</th>\n",
       "      <td>New Hampshire Democratic Debate Transcript</td>\n",
       "      <td>Part 1</td>\n",
       "      <td>George S.</td>\n",
       "      <td>Candidates, welcome. Vice President Biden, the...</td>\n",
       "      <td>18.0</td>\n",
       "    </tr>\n",
       "    <tr>\n",
       "      <th>1</th>\n",
       "      <td>New Hampshire Democratic Debate Transcript</td>\n",
       "      <td>Part 1</td>\n",
       "      <td>Joe Biden</td>\n",
       "      <td>Oh, they didn’t miss anything. It’s a long rac...</td>\n",
       "      <td>36.0</td>\n",
       "    </tr>\n",
       "    <tr>\n",
       "      <th>2</th>\n",
       "      <td>New Hampshire Democratic Debate Transcript</td>\n",
       "      <td>Part 1</td>\n",
       "      <td>George S.</td>\n",
       "      <td>Why are Senator Sanders and Mayor Buttigieg to...</td>\n",
       "      <td>4.0</td>\n",
       "    </tr>\n",
       "    <tr>\n",
       "      <th>3</th>\n",
       "      <td>New Hampshire Democratic Debate Transcript</td>\n",
       "      <td>Part 1</td>\n",
       "      <td>Joe Biden</td>\n",
       "      <td>Well, you know that with regard to Senator San...</td>\n",
       "      <td>41.0</td>\n",
       "    </tr>\n",
       "    <tr>\n",
       "      <th>4</th>\n",
       "      <td>New Hampshire Democratic Debate Transcript</td>\n",
       "      <td>Part 1</td>\n",
       "      <td>George S.</td>\n",
       "      <td>Senator Sanders, let me give you the chance to...</td>\n",
       "      <td>21.0</td>\n",
       "    </tr>\n",
       "    <tr>\n",
       "      <th>5</th>\n",
       "      <td>New Hampshire Democratic Debate Transcript</td>\n",
       "      <td>Part 1</td>\n",
       "      <td>Bernie Sanders</td>\n",
       "      <td>Because Donald Trump lies all the time. It doe...</td>\n",
       "      <td>41.0</td>\n",
       "    </tr>\n",
       "    <tr>\n",
       "      <th>6</th>\n",
       "      <td>New Hampshire Democratic Debate Transcript</td>\n",
       "      <td>Part 1</td>\n",
       "      <td>Bernie Sanders</td>\n",
       "      <td>I believe that the way we beat Trump is by hav...</td>\n",
       "      <td>39.0</td>\n",
       "    </tr>\n",
       "    <tr>\n",
       "      <th>7</th>\n",
       "      <td>New Hampshire Democratic Debate Transcript</td>\n",
       "      <td>Part 1</td>\n",
       "      <td>George S.</td>\n",
       "      <td>But Senator, let me follow up there and then w...</td>\n",
       "      <td>12.0</td>\n",
       "    </tr>\n",
       "    <tr>\n",
       "      <th>8</th>\n",
       "      <td>New Hampshire Democratic Debate Transcript</td>\n",
       "      <td>Part 1</td>\n",
       "      <td>Bernie Sanders</td>\n",
       "      <td>That’s true. And that’s the disappointment and...</td>\n",
       "      <td>23.0</td>\n",
       "    </tr>\n",
       "    <tr>\n",
       "      <th>9</th>\n",
       "      <td>New Hampshire Democratic Debate Transcript</td>\n",
       "      <td>Part 1</td>\n",
       "      <td>George S.</td>\n",
       "      <td>Before I move on to Mayor Buttigieg, let me ju...</td>\n",
       "      <td>11.0</td>\n",
       "    </tr>\n",
       "  </tbody>\n",
       "</table>\n",
       "</div>"
      ],
      "text/plain": [
       "                                  debate_name debate_section         speaker  \\\n",
       "0  New Hampshire Democratic Debate Transcript         Part 1       George S.   \n",
       "1  New Hampshire Democratic Debate Transcript         Part 1       Joe Biden   \n",
       "2  New Hampshire Democratic Debate Transcript         Part 1       George S.   \n",
       "3  New Hampshire Democratic Debate Transcript         Part 1       Joe Biden   \n",
       "4  New Hampshire Democratic Debate Transcript         Part 1       George S.   \n",
       "5  New Hampshire Democratic Debate Transcript         Part 1  Bernie Sanders   \n",
       "6  New Hampshire Democratic Debate Transcript         Part 1  Bernie Sanders   \n",
       "7  New Hampshire Democratic Debate Transcript         Part 1       George S.   \n",
       "8  New Hampshire Democratic Debate Transcript         Part 1  Bernie Sanders   \n",
       "9  New Hampshire Democratic Debate Transcript         Part 1       George S.   \n",
       "\n",
       "                                              speech  speaking_time_seconds  \n",
       "0  Candidates, welcome. Vice President Biden, the...                   18.0  \n",
       "1  Oh, they didn’t miss anything. It’s a long rac...                   36.0  \n",
       "2  Why are Senator Sanders and Mayor Buttigieg to...                    4.0  \n",
       "3  Well, you know that with regard to Senator San...                   41.0  \n",
       "4  Senator Sanders, let me give you the chance to...                   21.0  \n",
       "5  Because Donald Trump lies all the time. It doe...                   41.0  \n",
       "6  I believe that the way we beat Trump is by hav...                   39.0  \n",
       "7  But Senator, let me follow up there and then w...                   12.0  \n",
       "8  That’s true. And that’s the disappointment and...                   23.0  \n",
       "9  Before I move on to Mayor Buttigieg, let me ju...                   11.0  "
      ]
     },
     "execution_count": 4,
     "metadata": {},
     "output_type": "execute_result"
    }
   ],
   "source": [
    "# prints top 10 entries\n",
    "df.head(10)"
   ]
  },
  {
   "cell_type": "markdown",
   "metadata": {},
   "source": [
    "Here we look for missing entries. Since I'm asking the question, who spent the most time on what topics, it is necessary that speaking_time is filled in."
   ]
  },
  {
   "cell_type": "code",
   "execution_count": 5,
   "metadata": {},
   "outputs": [
    {
     "data": {
      "text/plain": [
       "debate_name                0\n",
       "debate_section             0\n",
       "speaker                    0\n",
       "speech                     0\n",
       "speaking_time_seconds    513\n",
       "dtype: int64"
      ]
     },
     "execution_count": 5,
     "metadata": {},
     "output_type": "execute_result"
    }
   ],
   "source": [
    "# now to look for missing entries\n",
    "df.isna().sum(axis=0)"
   ]
  },
  {
   "cell_type": "markdown",
   "metadata": {},
   "source": [
    "There are 513 missing values. Since I want to ask which candidate spent the most time talking about which topics, I cannot use these rows and they should be removed. Now let's take a look at the remaining distribution."
   ]
  },
  {
   "cell_type": "code",
   "execution_count": 6,
   "metadata": {},
   "outputs": [
    {
     "data": {
      "text/plain": [
       "<matplotlib.axes._subplots.AxesSubplot at 0x7ffa2cacab90>"
      ]
     },
     "execution_count": 6,
     "metadata": {},
     "output_type": "execute_result"
    },
    {
     "data": {
      "image/png": "[encoded data removed]",
      "text/plain": [
       "<Figure size 432x288 with 1 Axes>"
      ]
     },
     "metadata": {},
     "output_type": "display_data"
    }
   ],
   "source": [
    "# check who has missing time\n",
    "df[df.isna().any(axis=1)]['speaker'].value_counts().plot(kind='bar')"
   ]
  },
  {
   "cell_type": "markdown",
   "metadata": {},
   "source": [
    "A significant fraction of these entries come from moderators/anchors: Chuck Todd, Lester Holt, Rachel Maddow, etc. Removing these entries should have little effect on the data, except in the cases of Elizabeth Warren and Tulsi Gabbard.\n",
    "\n",
    "The next question to answer is why don't these entries have speaking time.\n"
   ]
  },
  {
   "cell_type": "code",
   "execution_count": 7,
   "metadata": {},
   "outputs": [
    {
     "data": {
      "text/plain": [
       "153     We have much more today coming up, but we have...\n",
       "322     Candidates. Thank you. Thanks for a great deba...\n",
       "669     Candidates, thank you very, very much. That co...\n",
       "826     We’re going to take a short break and we will be…\n",
       "1030    We are going to take a very short break. That ...\n",
       "                              ...                        \n",
       "4807    But I got my chance. It was a 50 dollar a seme...\n",
       "4808    We would like to thank all of the candidates t...\n",
       "4809    We certainly hope you will join us then. But f...\n",
       "5075                      Mayor Buttigieg, your thoughts.\n",
       "5332    For now, for all of us at NBC News, I’m Lester...\n",
       "Name: speech, Length: 513, dtype: object"
      ]
     },
     "execution_count": 7,
     "metadata": {},
     "output_type": "execute_result"
    }
   ],
   "source": [
    "# Looking at NaN speech\n",
    "df[df.isna().any(axis=1)]['speech']"
   ]
  },
  {
   "cell_type": "markdown",
   "metadata": {},
   "source": [
    "It appears that a significant portion of these entries are due to commercial breaks and are safe to remove."
   ]
  },
  {
   "cell_type": "code",
   "execution_count": 8,
   "metadata": {},
   "outputs": [],
   "source": [
    "# drop the NaN entries\n",
    "df.dropna(inplace=True)"
   ]
  },
  {
   "cell_type": "code",
   "execution_count": 9,
   "metadata": {},
   "outputs": [
    {
     "data": {
      "text/plain": [
       "debate_name              0\n",
       "debate_section           0\n",
       "speaker                  0\n",
       "speech                   0\n",
       "speaking_time_seconds    0\n",
       "dtype: int64"
      ]
     },
     "execution_count": 9,
     "metadata": {},
     "output_type": "execute_result"
    }
   ],
   "source": [
    "df.isna().sum() # all clear!"
   ]
  },
  {
   "cell_type": "markdown",
   "metadata": {},
   "source": [
    "The next question is what do we do with the moderator questions?\n",
    "For simplicity, I'm going to throw out everyone I don't care about. Here, I'm going to focus on candidates who made it to the first primary vote:\n",
    "\n",
    "Bernie Sanders, Elizabeth Warren, Amy Klobuchar,Pete Buttigieg, \n",
    "Joe Biden,Tulsi Gabbard, Michael Bloomberg"
   ]
  },
  {
   "cell_type": "code",
   "execution_count": 10,
   "metadata": {},
   "outputs": [
    {
     "name": "stdout",
     "output_type": "stream",
     "text": [
      "['A. Cooper', 'Abby Phillips', 'Adam Sexton', 'Amna Nawaz', 'Amy Klobuchar', 'Amy Walter', 'Anderson Cooper', 'Andrea Mitchell', 'Andrew Yang', 'Announcer', 'Ashley Parker', 'Audience', 'B. Pfannenstiel', 'Bennett', 'Bernie Sanders', 'Beto O’Rourke', 'Bill de Blasio', 'Brianne P.', 'Chuck Todd', 'Cory Booker', 'Crowd', 'Dana Bash', 'David Muir', 'Devin Dwyer', 'Diana', 'Don Lemon', 'Elizabeth Warren', 'Eric Stalwell', 'Eric Swalwell', 'Erin Burnett', 'Female', 'George S.', 'Hallie Jackson', 'Helen', 'J. Hickenlooper', 'Jake Tapper', 'Jay Inslee', 'Joe Biden', 'John Delaney', 'John H.', 'John Hickenloop', 'John King', 'Jon Ralston', 'Jorge Ramos', 'Jose D.B.', 'Judy Woodruff', 'Julian Castro', 'Kamala Harris', 'Kirseten Gillibrand', 'Kirsten Gillibrand', 'Kristen Welker', 'Lester Holt', 'Linsey Davis', 'Male', 'Marc Lacey', 'Marianne Williamson', 'Michael Bennet', 'Michael Bloomberg', 'Moderator', 'Moderator 1', 'Moderator 2', 'Moderator 4', 'Monica Hernandez', 'N. Henderson', 'Pete Buttigieg', 'Rachel Maddow', 'Rachel Scott', 'Savanagh G.', 'Sec. Castro', 'Speaker 1', 'Speaker 12', 'Speaker 13', 'Speaker 2', 'Speaker 3', 'Speaker 4', 'Speaker 5', 'Speaker 6', 'Speaker 7', 'Speaker 8', 'Speaker 9', 'Stephanie Sy', 'Steve Bullock', 'Steve Kornacki', 'Tim Alberta', 'Tim Ryan', 'Tom Steyer', 'Tulsi Gabbard', 'Vanessa Hauc', 'Voiceover', 'Wolf Blitzer', 'Yamiche A.']\n"
     ]
    }
   ],
   "source": [
    "print(sorted(set(df['speaker'])))"
   ]
  },
  {
   "cell_type": "code",
   "execution_count": 11,
   "metadata": {},
   "outputs": [],
   "source": [
    "# select for the people we want\n",
    "speakers = ['Amy Klobuchar','Bernie Sanders', 'Elizabeth Warren','Joe Biden','Michael Bloomberg','Pete Buttigieg','Tulsi Gabbard']"
   ]
  },
  {
   "cell_type": "code",
   "execution_count": 12,
   "metadata": {},
   "outputs": [],
   "source": [
    "df = df[df.speaker.isin(speakers)] # only keep the relevant candidates"
   ]
  },
  {
   "cell_type": "code",
   "execution_count": 13,
   "metadata": {},
   "outputs": [],
   "source": [
    "df.reset_index(inplace=True,drop=True) # resets the index now that we've dropped columns"
   ]
  },
  {
   "cell_type": "code",
   "execution_count": 14,
   "metadata": {},
   "outputs": [
    {
     "data": {
      "text/html": [
       "<div>\n",
       "<style scoped>\n",
       "    .dataframe tbody tr th:only-of-type {\n",
       "        vertical-align: middle;\n",
       "    }\n",
       "\n",
       "    .dataframe tbody tr th {\n",
       "        vertical-align: top;\n",
       "    }\n",
       "\n",
       "    .dataframe thead th {\n",
       "        text-align: right;\n",
       "    }\n",
       "</style>\n",
       "<table border=\"1\" class=\"dataframe\">\n",
       "  <thead>\n",
       "    <tr style=\"text-align: right;\">\n",
       "      <th></th>\n",
       "      <th>debate_name</th>\n",
       "      <th>debate_section</th>\n",
       "      <th>speaker</th>\n",
       "      <th>speech</th>\n",
       "      <th>speaking_time_seconds</th>\n",
       "    </tr>\n",
       "  </thead>\n",
       "  <tbody>\n",
       "    <tr>\n",
       "      <th>0</th>\n",
       "      <td>New Hampshire Democratic Debate Transcript</td>\n",
       "      <td>Part 1</td>\n",
       "      <td>Joe Biden</td>\n",
       "      <td>Oh, they didn’t miss anything. It’s a long rac...</td>\n",
       "      <td>36.0</td>\n",
       "    </tr>\n",
       "    <tr>\n",
       "      <th>1</th>\n",
       "      <td>New Hampshire Democratic Debate Transcript</td>\n",
       "      <td>Part 1</td>\n",
       "      <td>Joe Biden</td>\n",
       "      <td>Well, you know that with regard to Senator San...</td>\n",
       "      <td>41.0</td>\n",
       "    </tr>\n",
       "    <tr>\n",
       "      <th>2</th>\n",
       "      <td>New Hampshire Democratic Debate Transcript</td>\n",
       "      <td>Part 1</td>\n",
       "      <td>Bernie Sanders</td>\n",
       "      <td>Because Donald Trump lies all the time. It doe...</td>\n",
       "      <td>41.0</td>\n",
       "    </tr>\n",
       "    <tr>\n",
       "      <th>3</th>\n",
       "      <td>New Hampshire Democratic Debate Transcript</td>\n",
       "      <td>Part 1</td>\n",
       "      <td>Bernie Sanders</td>\n",
       "      <td>I believe that the way we beat Trump is by hav...</td>\n",
       "      <td>39.0</td>\n",
       "    </tr>\n",
       "    <tr>\n",
       "      <th>4</th>\n",
       "      <td>New Hampshire Democratic Debate Transcript</td>\n",
       "      <td>Part 1</td>\n",
       "      <td>Bernie Sanders</td>\n",
       "      <td>That’s true. And that’s the disappointment and...</td>\n",
       "      <td>23.0</td>\n",
       "    </tr>\n",
       "  </tbody>\n",
       "</table>\n",
       "</div>"
      ],
      "text/plain": [
       "                                  debate_name debate_section         speaker  \\\n",
       "0  New Hampshire Democratic Debate Transcript         Part 1       Joe Biden   \n",
       "1  New Hampshire Democratic Debate Transcript         Part 1       Joe Biden   \n",
       "2  New Hampshire Democratic Debate Transcript         Part 1  Bernie Sanders   \n",
       "3  New Hampshire Democratic Debate Transcript         Part 1  Bernie Sanders   \n",
       "4  New Hampshire Democratic Debate Transcript         Part 1  Bernie Sanders   \n",
       "\n",
       "                                              speech  speaking_time_seconds  \n",
       "0  Oh, they didn’t miss anything. It’s a long rac...                   36.0  \n",
       "1  Well, you know that with regard to Senator San...                   41.0  \n",
       "2  Because Donald Trump lies all the time. It doe...                   41.0  \n",
       "3  I believe that the way we beat Trump is by hav...                   39.0  \n",
       "4  That’s true. And that’s the disappointment and...                   23.0  "
      ]
     },
     "execution_count": 14,
     "metadata": {},
     "output_type": "execute_result"
    }
   ],
   "source": [
    "df.head()"
   ]
  },
  {
   "cell_type": "markdown",
   "metadata": {},
   "source": [
    "Now that we have our chosen candidates, I want to ensure that I use data from candidates who have enough time to actually say something. Candidates can and do get interupted by both moderators and other candidates."
   ]
  },
  {
   "cell_type": "code",
   "execution_count": 15,
   "metadata": {},
   "outputs": [
    {
     "data": {
      "text/plain": [
       "<matplotlib.axes._subplots.AxesSubplot at 0x7ffa2c7fba50>"
      ]
     },
     "execution_count": 15,
     "metadata": {},
     "output_type": "execute_result"
    },
    {
     "data": {
      "image/png": "[encoded data removed]",
      "text/plain": [
       "<Figure size 432x288 with 1 Axes>"
      ]
     },
     "metadata": {},
     "output_type": "display_data"
    }
   ],
   "source": [
    "df['speaking_time_seconds'].hist()"
   ]
  },
  {
   "cell_type": "markdown",
   "metadata": {},
   "source": [
    "There are a lot of entries with < 10 seconds. Now let's look at those entries to see when topics start appearing. I start with a lower threshold of 2 seconds, and an upper threshold of 5 seconds. I realized that many of these entries ended with a dash '-', indicating that the speaker got cutoff or interrupted."
   ]
  },
  {
   "cell_type": "code",
   "execution_count": 16,
   "metadata": {},
   "outputs": [
    {
     "data": {
      "text/plain": [
       "717                             I want to give a reality-\n",
       "773     What we owe to those survivors is to actually ...\n",
       "783     We’ve got to attack the corruption and repeal ...\n",
       "793           That is why we need a political revolution-\n",
       "805     I’d like to ask our other candidates this ques...\n",
       "812        … why it is that we have had laws on the book-\n",
       "850     You’ve got to take on the greed and the profit...\n",
       "867     … had to fight against people in his own admin...\n",
       "1177    And it’s not nearly enough. [crosstalk 00:16:1...\n",
       "1215    Donald Trump wants to use these people as poli...\n",
       "1230                 And when 90% of Americans to happen-\n",
       "1282    And I truly believe that if we’re going to mov...\n",
       "1323    Four little girls in Birmingham, Alabama lost ...\n",
       "1474    I reject the premise that there’s only one or ...\n",
       "1476    We need a political revolution. People have go...\n",
       "1486    If the government wants to do that, if people ...\n",
       "1532                        That’s just not true. People-\n",
       "1599    It just takes us a long time. Unfortunately or...\n",
       "1742    But you’re still raising those taxes and when ...\n",
       "1761    We don’t want someone that looks at just plans...\n",
       "1784    I would add one more thing, I have been in the...\n",
       "1796    Well I would say for anybody who ran for presi...\n",
       "1806                                       Everybody can-\n",
       "1834                  I’m running because so many people-\n",
       "Name: speech, dtype: object"
      ]
     },
     "execution_count": 16,
     "metadata": {},
     "output_type": "execute_result"
    }
   ],
   "source": [
    "selector = (df['speaking_time_seconds']<5) & (df['speaking_time_seconds']>2)\n",
    "df[selector]['speech'][df[selector]['speech'].str.endswith(\"-\")]"
   ]
  },
  {
   "cell_type": "markdown",
   "metadata": {},
   "source": [
    "Exploring this data, we can see a good example of a speaker getting interrupted, Pete Buttigieg. The indicies are 773-775, and it is just him talking while getting interrupted. The person who interrupted him got removed by dropping the NaN values.\n",
    "\n",
    "The key to linking statements should be if the same speaker is speaking in adjacent indicies (or maybe) every other, and the previous statement ends with '-' and the next statement starts with '...', stitch them together."
   ]
  },
  {
   "cell_type": "code",
   "execution_count": 17,
   "metadata": {},
   "outputs": [
    {
     "name": "stdout",
     "output_type": "stream",
     "text": [
      "What we owe to those survivors is to actually deliver a solution. I’m glad you offered up-\n",
      "… that analogy to healthcare because this is really important. We are at the cusp of building a new American majority, to actually do things that congressmen and senators have been talking about with almost no impact for my entire-\n",
      "… adult life. No, this is really important, okay? On guns, we are this close to an assault weapons ban. That would be huge.\n"
     ]
    }
   ],
   "source": [
    "print(df.loc[773]['speech'])\n",
    "print(df.loc[774]['speech'])\n",
    "print(df.loc[775]['speech'])"
   ]
  },
  {
   "cell_type": "markdown",
   "metadata": {},
   "source": [
    "Define a merge function. Which would merge statements like above."
   ]
  },
  {
   "cell_type": "code",
   "execution_count": 18,
   "metadata": {},
   "outputs": [],
   "source": [
    "def merge_speaking(df,indicies):\n",
    "    '''\n",
    "    df: a copy of the supplied dataframe \n",
    "    indicies: a list of that want to add together, accesible by iloc\n",
    "    '''\n",
    "    clean_strs = ''\n",
    "    total_time = 0\n",
    "    \n",
    "    for i in indicies:\n",
    "\n",
    "        # clean the strings\n",
    "        tmp = (re.sub('-$','',df.loc[i]['speech']))\n",
    "        tmp = re.sub('^\\u2026','',tmp)\n",
    "        total_time = total_time + df.loc[i]['speaking_time_seconds']\n",
    "        clean_strs = clean_strs + tmp\n",
    "    \n",
    "    # drop the extra rows\n",
    "    df = df.drop(indicies[1:])\n",
    "    df.loc[indicies[0],'speech'] = clean_strs\n",
    "    df.loc[indicies[0],'speaking_time_seconds'] = total_time\n",
    "    return df\n",
    "        "
   ]
  },
  {
   "cell_type": "code",
   "execution_count": 19,
   "metadata": {},
   "outputs": [
    {
     "name": "stdout",
     "output_type": "stream",
     "text": [
      "What we owe to those survivors is to actually deliver a solution. I’m glad you offered up that analogy to healthcare because this is really important. We are at the cusp of building a new American majority, to actually do things that congressmen and senators have been talking about with almost no impact for my entire adult life. No, this is really important, okay? On guns, we are this close to an assault weapons ban. That would be huge.\n"
     ]
    }
   ],
   "source": [
    "# Test case\n",
    "merge = [773,774,775]\n",
    "p = merge_speaking(df,merge)\n",
    "print(p.loc[773]['speech']) #it worked!"
   ]
  },
  {
   "cell_type": "markdown",
   "metadata": {},
   "source": [
    "Define a function to identify which indicies need to be merged."
   ]
  },
  {
   "cell_type": "code",
   "execution_count": 20,
   "metadata": {},
   "outputs": [],
   "source": [
    "def get_merge_indicies(df,speaker):\n",
    "    indices = []\n",
    "    tmp = []\n",
    "    interrupted = False\n",
    "    for i,row in df[df['speaker']==speaker].iterrows():\n",
    "        if (not interrupted) and (row['speech'].endswith('-')):\n",
    "            interrupted = True\n",
    "            tmp.append(i)\n",
    "\n",
    "        elif interrupted and row['speech'].startswith('\\u2026'):\n",
    "            tmp.append(i)\n",
    "            if not row['speech'].endswith('-'):\n",
    "                indices.append(tmp)\n",
    "                tmp = []\n",
    "                interrupted = False\n",
    "        else:\n",
    "            interrupted = False\n",
    "            if len(tmp) > 0:\n",
    "                if len(tmp) > 1:\n",
    "                    indices.append(tmp)\n",
    "                tmp = []\n",
    "    \n",
    "    return indices"
   ]
  },
  {
   "cell_type": "code",
   "execution_count": 21,
   "metadata": {},
   "outputs": [],
   "source": [
    "# get the indices which need appending\n",
    "all_indices = []\n",
    "for speaker in speakers:\n",
    "    speaker_indices = get_merge_indicies(df,speaker)\n",
    "    all_indices.append(speaker_indices)"
   ]
  },
  {
   "cell_type": "code",
   "execution_count": 22,
   "metadata": {},
   "outputs": [],
   "source": [
    "for idxs in all_indices:\n",
    "    for merge in idxs:\n",
    "        df = merge_speaking(df,merge)"
   ]
  },
  {
   "cell_type": "markdown",
   "metadata": {},
   "source": [
    "Let's look at whether anything of substance is said in less than one second now that the interrupting segments are merged."
   ]
  },
  {
   "cell_type": "code",
   "execution_count": 23,
   "metadata": {},
   "outputs": [
    {
     "data": {
      "text/plain": [
       "27                                 70 is the new 50.\n",
       "30                            George, George, can I…\n",
       "53                                    Let’s do that.\n",
       "66                                              Yes.\n",
       "95                          Let’s get that straight.\n",
       "                            ...                     \n",
       "1758                                  May I respond?\n",
       "1766    Can I respond to the Vice President, please?\n",
       "1789                                           Just-\n",
       "1797                             You know what Pete?\n",
       "1824                                      Thank you.\n",
       "Name: speech, Length: 113, dtype: object"
      ]
     },
     "execution_count": 23,
     "metadata": {},
     "output_type": "execute_result"
    }
   ],
   "source": [
    "selector = df['speaking_time_seconds'] < 1\n",
    "df[selector]['speech']"
   ]
  },
  {
   "cell_type": "markdown",
   "metadata": {},
   "source": [
    "Looks like anything left are short, cute sentences that don't have much content. These can be safely removed as they aren't long enough for topics."
   ]
  },
  {
   "cell_type": "code",
   "execution_count": 24,
   "metadata": {},
   "outputs": [],
   "source": [
    "df = df[~selector]"
   ]
  },
  {
   "cell_type": "markdown",
   "metadata": {},
   "source": [
    "Now, two seconds..."
   ]
  },
  {
   "cell_type": "code",
   "execution_count": 25,
   "metadata": {},
   "outputs": [
    {
     "data": {
      "text/plain": [
       "5                                                I’m not.\n",
       "41                   I wasn’t able to hear that question.\n",
       "50                                           There we go.\n",
       "93           We ought to be able to sue the gun industry.\n",
       "113                     I don’t think that’s quite right.\n",
       "                              ...                        \n",
       "1811                                   Play by the rules.\n",
       "1813                   Not necessarily. Not till there’s-\n",
       "1814                                Let the process work.\n",
       "1817                                                 Yes.\n",
       "1818    … who has the most votes should become the nom...\n",
       "Name: speech, Length: 138, dtype: object"
      ]
     },
     "execution_count": 25,
     "metadata": {},
     "output_type": "execute_result"
    }
   ],
   "source": [
    "selector = (df['speaking_time_seconds'] <2)\n",
    "df[selector]['speech']"
   ]
  },
  {
   "cell_type": "markdown",
   "metadata": {},
   "source": [
    "Seems like it's okay to remove these too. I see one passage talking about election policy, but I'm looking for larger political topics."
   ]
  },
  {
   "cell_type": "code",
   "execution_count": 26,
   "metadata": {},
   "outputs": [],
   "source": [
    "df = df[~selector]"
   ]
  },
  {
   "cell_type": "code",
   "execution_count": 27,
   "metadata": {},
   "outputs": [],
   "source": [
    "df.reset_index(inplace=True,drop=True) # resets the index now that we've dropped columns"
   ]
  },
  {
   "cell_type": "code",
   "execution_count": 28,
   "metadata": {},
   "outputs": [
    {
     "data": {
      "text/html": [
       "<div>\n",
       "<style scoped>\n",
       "    .dataframe tbody tr th:only-of-type {\n",
       "        vertical-align: middle;\n",
       "    }\n",
       "\n",
       "    .dataframe tbody tr th {\n",
       "        vertical-align: top;\n",
       "    }\n",
       "\n",
       "    .dataframe thead th {\n",
       "        text-align: right;\n",
       "    }\n",
       "</style>\n",
       "<table border=\"1\" class=\"dataframe\">\n",
       "  <thead>\n",
       "    <tr style=\"text-align: right;\">\n",
       "      <th></th>\n",
       "      <th>debate_name</th>\n",
       "      <th>debate_section</th>\n",
       "      <th>speaker</th>\n",
       "      <th>speech</th>\n",
       "      <th>speaking_time_seconds</th>\n",
       "    </tr>\n",
       "  </thead>\n",
       "  <tbody>\n",
       "    <tr>\n",
       "      <th>0</th>\n",
       "      <td>New Hampshire Democratic Debate Transcript</td>\n",
       "      <td>Part 1</td>\n",
       "      <td>Joe Biden</td>\n",
       "      <td>Oh, they didn’t miss anything. It’s a long rac...</td>\n",
       "      <td>36.0</td>\n",
       "    </tr>\n",
       "    <tr>\n",
       "      <th>1</th>\n",
       "      <td>New Hampshire Democratic Debate Transcript</td>\n",
       "      <td>Part 1</td>\n",
       "      <td>Joe Biden</td>\n",
       "      <td>Well, you know that with regard to Senator San...</td>\n",
       "      <td>41.0</td>\n",
       "    </tr>\n",
       "    <tr>\n",
       "      <th>2</th>\n",
       "      <td>New Hampshire Democratic Debate Transcript</td>\n",
       "      <td>Part 1</td>\n",
       "      <td>Bernie Sanders</td>\n",
       "      <td>Because Donald Trump lies all the time. It doe...</td>\n",
       "      <td>41.0</td>\n",
       "    </tr>\n",
       "    <tr>\n",
       "      <th>3</th>\n",
       "      <td>New Hampshire Democratic Debate Transcript</td>\n",
       "      <td>Part 1</td>\n",
       "      <td>Bernie Sanders</td>\n",
       "      <td>I believe that the way we beat Trump is by hav...</td>\n",
       "      <td>39.0</td>\n",
       "    </tr>\n",
       "    <tr>\n",
       "      <th>4</th>\n",
       "      <td>New Hampshire Democratic Debate Transcript</td>\n",
       "      <td>Part 1</td>\n",
       "      <td>Bernie Sanders</td>\n",
       "      <td>That’s true. And that’s the disappointment and...</td>\n",
       "      <td>23.0</td>\n",
       "    </tr>\n",
       "    <tr>\n",
       "      <th>...</th>\n",
       "      <td>...</td>\n",
       "      <td>...</td>\n",
       "      <td>...</td>\n",
       "      <td>...</td>\n",
       "      <td>...</td>\n",
       "    </tr>\n",
       "    <tr>\n",
       "      <th>1520</th>\n",
       "      <td>Democratic Debate Transcript: Las Vegas, Nevad...</td>\n",
       "      <td>Part 2</td>\n",
       "      <td>Joe Biden</td>\n",
       "      <td>Lastly, I think it’s important that on day one...</td>\n",
       "      <td>13.0</td>\n",
       "    </tr>\n",
       "    <tr>\n",
       "      <th>1521</th>\n",
       "      <td>Democratic Debate Transcript: Las Vegas, Nevad...</td>\n",
       "      <td>Part 2</td>\n",
       "      <td>Joe Biden</td>\n",
       "      <td>Had, in fact, that immigration bill passed the...</td>\n",
       "      <td>5.0</td>\n",
       "    </tr>\n",
       "    <tr>\n",
       "      <th>1522</th>\n",
       "      <td>Democratic Debate Transcript: Las Vegas, Nevad...</td>\n",
       "      <td>Part 2</td>\n",
       "      <td>Bernie Sanders</td>\n",
       "      <td>Unfortunately Rulac, among other groups, Latin...</td>\n",
       "      <td>17.0</td>\n",
       "    </tr>\n",
       "    <tr>\n",
       "      <th>1523</th>\n",
       "      <td>Democratic Debate Transcript: Las Vegas, Nevad...</td>\n",
       "      <td>Part 2</td>\n",
       "      <td>Bernie Sanders</td>\n",
       "      <td>But where we don’t agree, I think, is why we a...</td>\n",
       "      <td>24.0</td>\n",
       "    </tr>\n",
       "    <tr>\n",
       "      <th>1524</th>\n",
       "      <td>Democratic Debate Transcript: Las Vegas, Nevad...</td>\n",
       "      <td>Part 2</td>\n",
       "      <td>Bernie Sanders</td>\n",
       "      <td>Bottom line here, real change never takes plac...</td>\n",
       "      <td>19.0</td>\n",
       "    </tr>\n",
       "  </tbody>\n",
       "</table>\n",
       "<p>1525 rows × 5 columns</p>\n",
       "</div>"
      ],
      "text/plain": [
       "                                            debate_name debate_section  \\\n",
       "0            New Hampshire Democratic Debate Transcript         Part 1   \n",
       "1            New Hampshire Democratic Debate Transcript         Part 1   \n",
       "2            New Hampshire Democratic Debate Transcript         Part 1   \n",
       "3            New Hampshire Democratic Debate Transcript         Part 1   \n",
       "4            New Hampshire Democratic Debate Transcript         Part 1   \n",
       "...                                                 ...            ...   \n",
       "1520  Democratic Debate Transcript: Las Vegas, Nevad...         Part 2   \n",
       "1521  Democratic Debate Transcript: Las Vegas, Nevad...         Part 2   \n",
       "1522  Democratic Debate Transcript: Las Vegas, Nevad...         Part 2   \n",
       "1523  Democratic Debate Transcript: Las Vegas, Nevad...         Part 2   \n",
       "1524  Democratic Debate Transcript: Las Vegas, Nevad...         Part 2   \n",
       "\n",
       "             speaker                                             speech  \\\n",
       "0          Joe Biden  Oh, they didn’t miss anything. It’s a long rac...   \n",
       "1          Joe Biden  Well, you know that with regard to Senator San...   \n",
       "2     Bernie Sanders  Because Donald Trump lies all the time. It doe...   \n",
       "3     Bernie Sanders  I believe that the way we beat Trump is by hav...   \n",
       "4     Bernie Sanders  That’s true. And that’s the disappointment and...   \n",
       "...              ...                                                ...   \n",
       "1520       Joe Biden  Lastly, I think it’s important that on day one...   \n",
       "1521       Joe Biden  Had, in fact, that immigration bill passed the...   \n",
       "1522  Bernie Sanders  Unfortunately Rulac, among other groups, Latin...   \n",
       "1523  Bernie Sanders  But where we don’t agree, I think, is why we a...   \n",
       "1524  Bernie Sanders  Bottom line here, real change never takes plac...   \n",
       "\n",
       "      speaking_time_seconds  \n",
       "0                      36.0  \n",
       "1                      41.0  \n",
       "2                      41.0  \n",
       "3                      39.0  \n",
       "4                      23.0  \n",
       "...                     ...  \n",
       "1520                   13.0  \n",
       "1521                    5.0  \n",
       "1522                   17.0  \n",
       "1523                   24.0  \n",
       "1524                   19.0  \n",
       "\n",
       "[1525 rows x 5 columns]"
      ]
     },
     "execution_count": 28,
     "metadata": {},
     "output_type": "execute_result"
    }
   ],
   "source": [
    "df"
   ]
  },
  {
   "cell_type": "code",
   "execution_count": 29,
   "metadata": {},
   "outputs": [
    {
     "data": {
      "text/plain": [
       "'… getting rid of the oil giveaways …'"
      ]
     },
     "execution_count": 29,
     "metadata": {},
     "output_type": "execute_result"
    }
   ],
   "source": [
    "selector = df['speaking_time_seconds']<3\n",
    "df[selector]['speech'].iloc[10]"
   ]
  },
  {
   "cell_type": "markdown",
   "metadata": {},
   "source": [
    "I'm starting to see words like 'oil' and 'immigration'. These statements need to be kept.\n",
    "\n",
    "#### If I were to do this project over, I might not have done this. This feels like manually pre-processing the data too much before I see the results"
   ]
  },
  {
   "cell_type": "markdown",
   "metadata": {},
   "source": [
    "### Topic Modeling\n",
    "\n",
    "Topic Modeling is a technique to extract hidden topics from a large body of text. The challenge presents itself with how to extract a good number of topics. Ones which are distinct and meaningful.\n",
    "\n",
    "There are a couple topic modelling algorithms, but I will focus this work on Latent Dirichlet Allocation (LDA). LDA interprets a document as a collection of topics at some proportion. The topics are considered a collection of dominant keywords at some proportion.\n",
    "\n",
    "good explanation of LDA: http://vanatteveldt.com/wp-content/uploads/2_lda.pdf"
   ]
  },
  {
   "cell_type": "markdown",
   "metadata": {},
   "source": [
    "### Preprocessing the Data\n",
    "\n",
    "The preprocessing of data involves:\n",
    "\n",
    "#### Tokenization: \n",
    "Sentences are split into individual lists of words.\n",
    "\n",
    "#### Removeal of Stopwords:\n",
    "Stopwords are words which have no meaning by themselves. They are words like 'of', 'is', 'the', etc. There is no common database for all stopwords. When testing topic modelling, stopwords can also include words which yield low quality topics.\n",
    "\n",
    "#### Lemmatization:\n",
    "Converts words into their root form, or lemma. It converts the words 'runs' and 'running' to their lemma, 'run'. It also handles tense. Words like 'went', 'goes', and 'gone' will be converted to their lemma, 'go'.\n",
    "\n",
    "#### Bigrams and Trigrams:\n",
    "Bigrams and trigrams. These are series of two or three words which appear next to each other."
   ]
  },
  {
   "cell_type": "markdown",
   "metadata": {},
   "source": [
    "#### Choosing Stopwords\n",
    "\n",
    "I am using a list provided by the natural language processing toolkit (nltk).\n",
    "\n",
    "Extended stop words are words I've chosen to remove, in addition to the standard dictionary I'm using. These words are chosen in order to create higher quality topics."
   ]
  },
  {
   "cell_type": "code",
   "execution_count": 30,
   "metadata": {},
   "outputs": [],
   "source": [
    "# stopwords filter out words which make the topics have low quality\n",
    "from nltk.corpus import stopwords"
   ]
  },
  {
   "cell_type": "code",
   "execution_count": 31,
   "metadata": {},
   "outputs": [],
   "source": [
    "# load the stopwords and add some of my own\n",
    "stop_words = stopwords.words('english')\n",
    "stop_words.extend(['from', 'subject', 're', 'edu', 'use','question','time','things','thing','com'])"
   ]
  },
  {
   "cell_type": "markdown",
   "metadata": {},
   "source": [
    "#### Tokenization\n",
    "Here I need to break up the setences into a list of individual words. This means I need to expand contractions, remove puncuation, and remove weird characters in the text."
   ]
  },
  {
   "cell_type": "code",
   "execution_count": 32,
   "metadata": {},
   "outputs": [],
   "source": [
    "data = df.speech.tolist()\n",
    "# remove ellipses\n",
    "data = [re.sub('\\u2026', '', response) for response in data]   "
   ]
  },
  {
   "cell_type": "markdown",
   "metadata": {},
   "source": [
    "Next we need to remove things like '[crosstalk ##:##:##]' or '[inaudible ##:##:##]'"
   ]
  },
  {
   "cell_type": "code",
   "execution_count": 33,
   "metadata": {},
   "outputs": [],
   "source": [
    "data = [re.sub('.crosstalk [0-9][0-9]:[0-9][0-9]:[0-9][0-9]..','',response) for response in data]\n",
    "data = [re.sub('.inaudible [0-9][0-9]:[0-9][0-9]:[0-9][0-9]..','',response) for response in data]"
   ]
  },
  {
   "cell_type": "code",
   "execution_count": 34,
   "metadata": {},
   "outputs": [],
   "source": [
    "# cp1252 to unicode encoding for the apostrophe\n",
    "data = [re.sub(\"\\u2019\",\"\\u0027\",response) for response in data]"
   ]
  },
  {
   "cell_type": "markdown",
   "metadata": {},
   "source": [
    "##### Expand contractions\n",
    "\n",
    "Words like 'don't' will be converted into its uncontracted form: 'do' and 'not'\n",
    "\n",
    "Here I am using a package called pycontractions."
   ]
  },
  {
   "cell_type": "code",
   "execution_count": 36,
   "metadata": {},
   "outputs": [],
   "source": [
    "# model for contractions function\n",
    "# from disk, takes awhile to load\n",
    "model = gensim.models.KeyedVectors.load_word2vec_format('GoogleNews-vectors-negative300.bin', binary=True) \n",
    "\n",
    "# not from disk \n",
    "#model = api.load(\"word2vec-google-news-300\")"
   ]
  },
  {
   "cell_type": "code",
   "execution_count": 37,
   "metadata": {},
   "outputs": [],
   "source": [
    "cont = Contractions(kv_model=model)"
   ]
  },
  {
   "cell_type": "code",
   "execution_count": 47,
   "metadata": {},
   "outputs": [],
   "source": [
    "# prevents loading on first expand_texts call\n",
    "cont.load_models()"
   ]
  },
  {
   "cell_type": "code",
   "execution_count": 38,
   "metadata": {},
   "outputs": [],
   "source": [
    "# expand contractions, takes awhile\n",
    "data = list(cont.expand_texts(data,precise=True))"
   ]
  },
  {
   "cell_type": "code",
   "execution_count": 39,
   "metadata": {},
   "outputs": [],
   "source": [
    "# freeing up memory\n",
    "%reset_selective -f \"^model$\"\n",
    "%reset_selective -f \"^cont$\""
   ]
  },
  {
   "cell_type": "markdown",
   "metadata": {},
   "source": [
    "#### Tokenize"
   ]
  },
  {
   "cell_type": "code",
   "execution_count": 43,
   "metadata": {},
   "outputs": [],
   "source": [
    "def tokenize(sentences):\n",
    "    # lowercase, tokenizes, de-accents\n",
    "    return [gensim.utils.simple_preprocess(str(sentence), deacc=True) for sentence in sentences]\n",
    "    \n",
    "   # for sentence in sentences:\n",
    "        # lowercase, tokenizes, de-accents   \n",
    "    #    yield(gensim.utils.simple_preprocess(str(sentence), deacc=True))  # deacc=True removes punctuations"
   ]
  },
  {
   "cell_type": "code",
   "execution_count": 44,
   "metadata": {},
   "outputs": [],
   "source": [
    "token_sentences = list(tokenize(data))"
   ]
  },
  {
   "cell_type": "markdown",
   "metadata": {},
   "source": [
    "#### Building Bigrams and Trigrams"
   ]
  },
  {
   "cell_type": "code",
   "execution_count": 46,
   "metadata": {},
   "outputs": [],
   "source": [
    "bigram = gensim.models.Phrases(token_sentences, min_count=5,threshold=100)\n",
    "trigram = gensim.models.Phrases(bigram[token_sentences],threshold=100)"
   ]
  },
  {
   "cell_type": "code",
   "execution_count": 47,
   "metadata": {},
   "outputs": [],
   "source": [
    "bigram_mod = gensim.models.phrases.Phraser(bigram)\n",
    "trigram_mod = gensim.models.phrases.Phraser(trigram)"
   ]
  },
  {
   "cell_type": "markdown",
   "metadata": {},
   "source": [
    "While playing around with the models, I noticed that none of the n-grams were all the important to the topics. Creating n-grams seems to make it harder for topic modelling as it increases the vocabulary. The number of topics may need to increase as well."
   ]
  },
  {
   "cell_type": "code",
   "execution_count": 55,
   "metadata": {},
   "outputs": [],
   "source": [
    "# necessary functions -- borrowed functions\n",
    "\n",
    "def remove_stopwords(docs):\n",
    "    return [[word for word in simple_preprocess(str(doc)) if word not in stop_words] for doc in docs]\n",
    "\n",
    "def make_bigrams(docs):\n",
    "    return [bigram_mod[doc] for doc in docs]\n",
    "\n",
    "def make_trigrams(docs):\n",
    "    return [trigram_mod[bigram_mod[doc]] for doc in docs]\n",
    "\n",
    "def lemmatization(docs,allowed_postags=['NOUN', 'ADJ', 'PROPN']):\n",
    "        docs_out = []\n",
    "        for doc in docs:\n",
    "            joined_doc = nlp(\" \".join(doc)) \n",
    "            docs_out.append([token.lemma_ for token in joined_doc if token.pos_ in allowed_postags])\n",
    "        return docs_out  "
   ]
  },
  {
   "cell_type": "code",
   "execution_count": 49,
   "metadata": {},
   "outputs": [],
   "source": [
    "# remove stopwords\n",
    "nostops = remove_stopwords(token_sentences)"
   ]
  },
  {
   "cell_type": "code",
   "execution_count": 52,
   "metadata": {},
   "outputs": [],
   "source": [
    "# make bigrams and trigrams\n",
    "bigrams = make_bigrams(nostops)\n",
    "trigrams = make_trigrams(nostops)"
   ]
  },
  {
   "cell_type": "code",
   "execution_count": 53,
   "metadata": {},
   "outputs": [],
   "source": [
    "# loads spaCy model by name\n",
    "nlp = spacy.load('en', disable=['parser','ner'])"
   ]
  },
  {
   "cell_type": "markdown",
   "metadata": {},
   "source": [
    "Here I use spaCy package for lemmatization. I also remove words which are not nouns, adjectives, and pronouns."
   ]
  },
  {
   "cell_type": "code",
   "execution_count": 56,
   "metadata": {},
   "outputs": [],
   "source": [
    "# lemmatize - trigrams\n",
    "lemmatized = lemmatization(nostops)"
   ]
  },
  {
   "cell_type": "code",
   "execution_count": 57,
   "metadata": {},
   "outputs": [],
   "source": [
    "# Create Dictionary\n",
    "id2word = corpora.Dictionary(lemmatized)\n",
    "\n",
    "# Create Corpus\n",
    "corpus = [id2word.doc2bow(doc) for doc in lemmatized]\n",
    "\n",
    "# mapping (word_id, word_frequency)"
   ]
  },
  {
   "cell_type": "code",
   "execution_count": 58,
   "metadata": {},
   "outputs": [
    {
     "data": {
      "text/plain": [
       "'bernie'"
      ]
     },
     "execution_count": 58,
     "metadata": {},
     "output_type": "execute_result"
    }
   ],
   "source": [
    "id2word[0] # dictionary usage"
   ]
  },
  {
   "cell_type": "markdown",
   "metadata": {},
   "source": [
    "### Metrics\n",
    "There are two metrics generally used to evaluate the model in order to get an idea of how good the topic model is: perplexity and coherence.\n",
    "\n",
    "Perplexity is a measure for how surprised a model is of a held-out data set. It is defined as $2^{H(\\tilde{p},q)}$, where $H(\\tilde{p},q)$ is the cross-entropy between, our sampled distribution, $\\tilde{p}$, and our model, $q$. Using perplexity as the sole metric does not necessarily lead to human-interprettable results.\n",
    "\n",
    "Topic coherence attempts to incorporate human judgement. It measures the degree of semantic similarity between words in a topic. In other words, 'how much of word A has to do with word B?'.\n",
    "\n",
    "### Parameters Tuning\n",
    "There are 3 paramters we can tune in an LDA model: the number of topics, alpha, and beta. Alpha is document-topic denisity. A higher alpha means documents are made up of more topics. Beta is topic-word density. A lower beta topics consist of a few words in the corpus."
   ]
  },
  {
   "cell_type": "code",
   "execution_count": 59,
   "metadata": {},
   "outputs": [],
   "source": [
    "# Helper function to Compute Coherence\n",
    "\n",
    "def compute_coherence_test(train, validation, num_topics, alpha='auto', eta=None):\n",
    "    lda_model = gensim.models.LdaMulticore(corpus=train,\n",
    "                                           id2word=id2word,\n",
    "                                           num_topics=num_topics, #6\n",
    "                                           random_state=200,\n",
    "                                           #update_every=1,\n",
    "                                           chunksize=100,\n",
    "                                           passes=15, #15\n",
    "                                           eta = eta,\n",
    "                                           alpha=alpha,\n",
    "                                           per_word_topics=True)\n",
    "\n",
    "    coherence_model = CoherenceModel(model=lda_model, texts=validation, dictionary=id2word,coherence='c_v')\n",
    "    coherence_lda = coherence_model.get_coherence()\n",
    "    return coherence_lda#, lda_model"
   ]
  },
  {
   "cell_type": "code",
   "execution_count": 60,
   "metadata": {},
   "outputs": [],
   "source": [
    "# Setting up search space\n",
    "\n",
    "# Topics range\n",
    "min_topics = 4\n",
    "max_topics = 12\n",
    "step_size = 1\n",
    "topics_range = range(min_topics, max_topics, step_size)\n",
    "\n",
    "# Alpha\n",
    "alphas = list(np.arange(0.01, 1, 0.3))\n",
    "alphas.append('symmetric')\n",
    "alphas.append('asymmetric')\n",
    "\n",
    "# Beta\n",
    "betas = list(np.arange(0.01, 1, 0.3))\n",
    "betas.append('symmetric')"
   ]
  },
  {
   "cell_type": "code",
   "execution_count": 73,
   "metadata": {},
   "outputs": [],
   "source": [
    "# splitting into train and validation set\n",
    "num_of_docs = len(corpus)\n",
    "num_train_docs = int(num_of_docs*0.75)\n",
    "\n",
    "train = corpus[:num_train_docs]\n",
    "#validate = lemmatized[num_train_docs:]\n",
    "validate = lemmatized"
   ]
  },
  {
   "cell_type": "code",
   "execution_count": 74,
   "metadata": {},
   "outputs": [
    {
     "name": "stdout",
     "output_type": "stream",
     "text": [
      "Completed Run Topics:  4\n",
      "Completed Run Topics:  5\n",
      "Completed Run Topics:  6\n",
      "Completed Run Topics:  7\n",
      "Completed Run Topics:  8\n",
      "Completed Run Topics:  9\n"
     ]
    }
   ],
   "source": [
    "results = {'Topics': [],\n",
    "                 'Alpha': [],\n",
    "                 'Beta': [],\n",
    "                 'Coherence': []\n",
    "                }\n",
    "\n",
    "for topics in topics_range:\n",
    "    for alpha in alphas:\n",
    "        for beta in betas:\n",
    "            cs = compute_coherence_test(train, validate, num_topics = topics, alpha = alpha, eta = beta)\n",
    "            \n",
    "            results['Topics'].append(topics)\n",
    "            results['Alpha'].append(alpha)\n",
    "            results['Beta'].append(beta)\n",
    "            results['Coherence'].append(cs)\n",
    "            \n",
    "    print('Completed Run Topics: ', topics)"
   ]
  },
  {
   "cell_type": "code",
   "execution_count": 75,
   "metadata": {},
   "outputs": [
    {
     "data": {
      "text/plain": [
       "[0.442225003692154,\n",
       " 0.448699657349049,\n",
       " 0.4707237985377888,\n",
       " 0.39646727297576245,\n",
       " 0.45014286591046543,\n",
       " 0.4930002181480859,\n",
       " 0.47786496097111697,\n",
       " 0.4931632614835752,\n",
       " 0.46734554966128233,\n",
       " 0.46282910319996745,\n",
       " 0.46970134420764875,\n",
       " 0.4349953260885123,\n",
       " 0.4902945818029541,\n",
       " 0.5258517363544649,\n",
       " 0.427332154984134,\n",
       " 0.46400141553520935,\n",
       " 0.4391217424546405,\n",
       " 0.4816520735074857,\n",
       " 0.4955050700825824,\n",
       " 0.4259995820315488,\n",
       " 0.46293954772415585,\n",
       " 0.4754247549270407,\n",
       " 0.48498420013026194,\n",
       " 0.4212917725548455,\n",
       " 0.4311113188258583,\n",
       " 0.4715747816166212,\n",
       " 0.46370449314381246,\n",
       " 0.5003339028245599,\n",
       " 0.444348394935705,\n",
       " 0.47523794015343607,\n",
       " 0.45670163034847766,\n",
       " 0.38552227923844434,\n",
       " 0.42626685803505915,\n",
       " 0.3957136803239926,\n",
       " 0.4027361192957688,\n",
       " 0.4846329875535937,\n",
       " 0.45671554560216576,\n",
       " 0.4910151796035497,\n",
       " 0.45531193428937955,\n",
       " 0.44530734285860046,\n",
       " 0.4879990840370798,\n",
       " 0.4281540156777023,\n",
       " 0.48159070530854775,\n",
       " 0.4417901077771241,\n",
       " 0.4185817172274759,\n",
       " 0.48096685871029166,\n",
       " 0.42945543592224833,\n",
       " 0.4173677700135318,\n",
       " 0.4040962733314902,\n",
       " 0.43495511477819493,\n",
       " 0.47775951208537837,\n",
       " 0.41170393494555685,\n",
       " 0.4717127235082158,\n",
       " 0.41948857985074356,\n",
       " 0.4169233221035432,\n",
       " 0.4699824323231465,\n",
       " 0.4238300810740839,\n",
       " 0.42712095384878734,\n",
       " 0.41825068789440295,\n",
       " 0.4513868115518875,\n",
       " 0.41364317357663954,\n",
       " 0.3867349611678362,\n",
       " 0.42532643078421967,\n",
       " 0.46544029688334,\n",
       " 0.39255324254645546,\n",
       " 0.509033806540751,\n",
       " 0.4706221488359655,\n",
       " 0.4711224587657204,\n",
       " 0.44922485707964066,\n",
       " 0.43360802570637463,\n",
       " 0.5271847835972208,\n",
       " 0.44576019680978307,\n",
       " 0.46236523178732986,\n",
       " 0.4233798941973476,\n",
       " 0.4284289859712729,\n",
       " 0.5186641914168658,\n",
       " 0.42431705178437,\n",
       " 0.4343286053212967,\n",
       " 0.4090890969710775,\n",
       " 0.4670778642980143,\n",
       " 0.4525116385492371,\n",
       " 0.46231378841573595,\n",
       " 0.47267386748520424,\n",
       " 0.46908877450715164,\n",
       " 0.46218126754413597,\n",
       " 0.4260180059769869,\n",
       " 0.4854152277992287,\n",
       " 0.45114085212214783,\n",
       " 0.40582973808659356,\n",
       " 0.4327351727161362,\n",
       " 0.48456906601328253,\n",
       " 0.43169140226683794,\n",
       " 0.42464704482081167,\n",
       " 0.41808535308286326,\n",
       " 0.43630244792739736,\n",
       " 0.5089786973264895,\n",
       " 0.48419427951421623,\n",
       " 0.4779093385323086,\n",
       " 0.4058326237103239,\n",
       " 0.4609606286972268,\n",
       " 0.46481948749543495,\n",
       " 0.523206755447177,\n",
       " 0.45575929957426226,\n",
       " 0.4158781019799817,\n",
       " 0.4887693466864876,\n",
       " 0.49085020768947824,\n",
       " 0.46017578853470914,\n",
       " 0.43013841398314795,\n",
       " 0.4124183314556493,\n",
       " 0.4690824807682098,\n",
       " 0.49721825222149085,\n",
       " 0.42312287534142945,\n",
       " 0.4475888091527782,\n",
       " 0.4613768754454139,\n",
       " 0.44303907363595874,\n",
       " 0.5019274947448833,\n",
       " 0.45221288841312113,\n",
       " 0.47765673641675327,\n",
       " 0.4168449588701453,\n",
       " 0.42396593571028257,\n",
       " 0.43641080769069307,\n",
       " 0.4516069947939361,\n",
       " 0.45644530972362113,\n",
       " 0.4578742639520952,\n",
       " 0.4492307500359083,\n",
       " 0.47294698826689685,\n",
       " 0.5273146026170576,\n",
       " 0.4551589597051293,\n",
       " 0.45866276277327567,\n",
       " 0.49507571792767396,\n",
       " 0.47907114887632485,\n",
       " 0.5159325407986893,\n",
       " 0.5014527681668397,\n",
       " 0.4613746878809134,\n",
       " 0.4788684189849135,\n",
       " 0.48481592459574924,\n",
       " 0.4840357708151908,\n",
       " 0.49145379127147926,\n",
       " 0.44603744002558365,\n",
       " 0.43910318444086716,\n",
       " 0.4772094027433273,\n",
       " 0.4398850973592038,\n",
       " 0.4458081552763824,\n",
       " 0.4562981424611011,\n",
       " 0.4019460484219004,\n",
       " 0.4586456439360376,\n",
       " 0.5333975753325793,\n",
       " 0.4824507909780936,\n",
       " 0.4035478795376416,\n",
       " 0.4864141348972121,\n",
       " 0.42952533610239874,\n",
       " 0.41134935591518884,\n",
       " 0.49929574382467007,\n",
       " 0.44569846342579894,\n",
       " 0.3985600966970744,\n",
       " 0.4789893220679857,\n",
       " 0.49437639335443656,\n",
       " 0.5030899124640954,\n",
       " 0.47857564047525564,\n",
       " 0.47828841443831405,\n",
       " 0.4602933542138518,\n",
       " 0.4412686876323788,\n",
       " 0.47618938823985424,\n",
       " 0.441714175447764,\n",
       " 0.4625826435536589,\n",
       " 0.4449485634622323,\n",
       " 0.43407178905473587,\n",
       " 0.4780447484453213,\n",
       " 0.4862780122856545,\n",
       " 0.4484849867352524,\n",
       " 0.474460177329455,\n",
       " 0.43955035722258207,\n",
       " 0.4702915722656518,\n",
       " 0.46506066646222144,\n",
       " 0.4591877217104454,\n",
       " 0.4545384239185103,\n",
       " 0.4505271422310188,\n",
       " 0.4236434278840726,\n",
       " 0.3882764009736286,\n",
       " 0.44126222518054614]"
      ]
     },
     "execution_count": 75,
     "metadata": {},
     "output_type": "execute_result"
    }
   ],
   "source": [
    "results['Coherence']"
   ]
  },
  {
   "cell_type": "code",
   "execution_count": 131,
   "metadata": {},
   "outputs": [
    {
     "data": {
      "text/plain": [
       "[<matplotlib.lines.Line2D at 0x7ffa1b5d1fd0>]"
      ]
     },
     "execution_count": 131,
     "metadata": {},
     "output_type": "execute_result"
    },
    {
     "data": {
      "image/png": "[encoded data removed]",
      "text/plain": [
       "<Figure size 432x288 with 1 Axes>"
      ]
     },
     "metadata": {},
     "output_type": "display_data"
    }
   ],
   "source": [
    "plt.plot(results['Topics'][5::30],results['Coherence'][5::30])"
   ]
  },
  {
   "cell_type": "code",
   "execution_count": 144,
   "metadata": {},
   "outputs": [
    {
     "name": "stdout",
     "output_type": "stream",
     "text": [
      "Topics:  8 alpha:  0.31 beta:  0.31 coherence:  0.5273146026170576\n"
     ]
    }
   ],
   "source": [
    "print('Topics: ',results['Topics'][126],\n",
    "      'alpha: ', results['Alpha'][126],\n",
    "'beta: ',results['Beta'][126],\n",
    "'coherence: ',results['Coherence'][126])"
   ]
  },
  {
   "cell_type": "code",
   "execution_count": 145,
   "metadata": {},
   "outputs": [
    {
     "name": "stdout",
     "output_type": "stream",
     "text": [
      "Topics:  6 alpha:  0.61 beta:  0.01 coherence:  0.5271847835972208\n"
     ]
    }
   ],
   "source": [
    "print('Topics: ',results['Topics'][70],\n",
    "      'alpha: ', results['Alpha'][70],\n",
    "'beta: ',results['Beta'][70],\n",
    "'coherence: ',results['Coherence'][70])"
   ]
  },
  {
   "cell_type": "code",
   "execution_count": 152,
   "metadata": {},
   "outputs": [
    {
     "name": "stdout",
     "output_type": "stream",
     "text": [
      "Topics:  8 alpha:  asymmetric beta:  0.31 coherence:  0.5333975753325793\n"
     ]
    }
   ],
   "source": [
    "print('Topics: ',results['Topics'][146],\n",
    "      'alpha: ', results['Alpha'][146],\n",
    "'beta: ',results['Beta'][146],\n",
    "'coherence: ',results['Coherence'][146])"
   ]
  },
  {
   "cell_type": "markdown",
   "metadata": {},
   "source": [
    "It appears the optimal topic range is somewhere between 6-8 topics."
   ]
  },
  {
   "cell_type": "markdown",
   "metadata": {},
   "source": [
    "### Train the Model\n",
    "\n",
    "Training the LDA model. The model parameters were tuned based on a balance between maximizing the coherence, and eyeballing topics such that they make sense.\n",
    "\n",
    "Here I played around with the suggested parameters. I found eta = 0.01 allowed for too much overlap of words, but eta close to one did not allow for enough over lap. So words like 'people' which are spoken very often, get placed into one category. That category then dominates."
   ]
  },
  {
   "cell_type": "code",
   "execution_count": 385,
   "metadata": {},
   "outputs": [],
   "source": [
    "lda_model = gensim.models.ldamodel.LdaModel(corpus=train,\n",
    "                                           id2word=id2word,\n",
    "                                           num_topics=6, #6\n",
    "                                           random_state=200,\n",
    "                                           update_every=1,\n",
    "                                           chunksize=100,\n",
    "                                           passes=20, #15\n",
    "                                           eta = 0.31, # 4\n",
    "                                           alpha=0.4, #31\n",
    "                                           per_word_topics=True)"
   ]
  },
  {
   "cell_type": "code",
   "execution_count": 386,
   "metadata": {},
   "outputs": [
    {
     "name": "stdout",
     "output_type": "stream",
     "text": [
      "0.42342622279445385\n"
     ]
    }
   ],
   "source": [
    "# using validation set doesn't work because of unseen words?\n",
    "coherence_model = CoherenceModel(model=lda_model, texts=validate, dictionary=id2word,coherence='c_v')\n",
    "coherence_lda = coherence_model.get_coherence()\n",
    "print(coherence_lda)"
   ]
  },
  {
   "cell_type": "code",
   "execution_count": 387,
   "metadata": {},
   "outputs": [
    {
     "name": "stdout",
     "output_type": "stream",
     "text": [
      "[(0,\n",
      "  '0.025*\"plan\" + 0.023*\"year\" + 0.021*\"insurance\" + 0.019*\"people\" + '\n",
      "  '0.015*\"medicare\" + 0.015*\"school\" + 0.014*\"health\" + 0.014*\"care\" + '\n",
      "  '0.013*\"healthcare\" + 0.013*\"public\"'),\n",
      " (1,\n",
      "  '0.051*\"people\" + 0.025*\"country\" + 0.020*\"america\" + 0.015*\"american\" + '\n",
      "  '0.013*\"system\" + 0.012*\"big\" + 0.010*\"way\" + 0.009*\"trump\" + 0.009*\"money\" '\n",
      "  '+ 0.008*\"company\"'),\n",
      " (2,\n",
      "  '0.031*\"world\" + 0.020*\"trade\" + 0.019*\"climate\" + 0.017*\"worker\" + '\n",
      "  '0.017*\"nuclear\" + 0.016*\"deal\" + 0.015*\"change\" + 0.014*\"job\" + '\n",
      "  '0.014*\"agreement\" + 0.010*\"china\"'),\n",
      " (3,\n",
      "  '0.051*\"president\" + 0.017*\"united\" + 0.015*\"country\" + 0.015*\"states\" + '\n",
      "  '0.015*\"war\" + 0.012*\"trump\" + 0.012*\"year\" + 0.011*\"congress\" + '\n",
      "  '0.011*\"military\" + 0.010*\"way\"'),\n",
      " (4,\n",
      "  '0.011*\"record\" + 0.009*\"court\" + 0.008*\"committee\" + 0.008*\"general\" + '\n",
      "  '0.008*\"son\" + 0.007*\"justice\" + 0.006*\"constitutional\" + 0.006*\"side\" + '\n",
      "  '0.006*\"brother\" + 0.006*\"john\"'),\n",
      " (5,\n",
      "  '0.020*\"woman\" + 0.017*\"number\" + 0.014*\"sure\" + 0.014*\"bill\" + 0.014*\"able\" '\n",
      "  '+ 0.014*\"people\" + 0.011*\"border\" + 0.010*\"black\" + 0.010*\"state\" + '\n",
      "  '0.008*\"immigration\"')]\n"
     ]
    }
   ],
   "source": [
    "# print the topics and 10 most associated words\n",
    "pprint(lda_model.print_topics())"
   ]
  },
  {
   "cell_type": "markdown",
   "metadata": {},
   "source": [
    "##### Topic 0: Healthcare\n",
    "plan, year, insurance, people, medicare, school health, care, healthcare, public\n",
    "\n",
    "##### Topic 1: Americans\n",
    "people, country, america, american, system, big, way, trump, money, company\n",
    "\n",
    "##### Topic 2: Global Issues\n",
    "world, trade, climate, worker, numclear, deal, change, job, agreement, china\n",
    "\n",
    "##### Topic 3: The President\n",
    "president, united, country, states, war, trump, year, congress, military, way\n",
    "\n",
    "##### Topic 4: Judicial System\n",
    "record, court, committee, general, son, justice, constitutinal, side, brother, john\n",
    "\n",
    "##### Topic 5: Social Justice Issues\n",
    "woman, number, sure, bill, able, people, border, black, state, immigration"
   ]
  },
  {
   "cell_type": "markdown",
   "metadata": {},
   "source": [
    "#### Visualization\n",
    "\n",
    "This is a visualization tool for LDA. It displays a two-dimensional principle component analysis (PCA) plot of the topics. I used this to prevent topics from having severe overlap. This method has its limitations as projecting a high dimensional space onto two dimensions can make separated topics appear to heavily over lap.\n",
    "\n",
    "This tool pops open a new interactive window and does not display in this notebook."
   ]
  },
  {
   "cell_type": "code",
   "execution_count": 410,
   "metadata": {},
   "outputs": [],
   "source": [
    "pyLDAvis.enable_notebook()"
   ]
  },
  {
   "cell_type": "code",
   "execution_count": 411,
   "metadata": {},
   "outputs": [],
   "source": [
    "vis = pyLDAvis.gensim.prepare(lda_model, corpus, id2word)"
   ]
  },
  {
   "cell_type": "code",
   "execution_count": 412,
   "metadata": {},
   "outputs": [
    {
     "name": "stdout",
     "output_type": "stream",
     "text": [
      "\n",
      "Note: if you're in the IPython notebook, pyLDAvis.show() is not the best command\n",
      "      to use. Consider using pyLDAvis.display(), or pyLDAvis.enable_notebook().\n",
      "      See more information at http://pyLDAvis.github.io/quickstart.html .\n",
      "\n",
      "You must interrupt the kernel to end this command\n",
      "\n",
      "Serving to http://127.0.0.1:8891/    [Ctrl-C to exit]\n"
     ]
    },
    {
     "name": "stderr",
     "output_type": "stream",
     "text": [
      "127.0.0.1 - - [20/Mar/2020 19:06:04] \"GET / HTTP/1.1\" 200 -\n",
      "127.0.0.1 - - [20/Mar/2020 19:06:04] \"GET /LDAvis.css HTTP/1.1\" 200 -\n",
      "127.0.0.1 - - [20/Mar/2020 19:06:04] \"GET /d3.js HTTP/1.1\" 200 -\n",
      "127.0.0.1 - - [20/Mar/2020 19:06:04] \"GET /LDAvis.js HTTP/1.1\" 200 -\n"
     ]
    },
    {
     "name": "stdout",
     "output_type": "stream",
     "text": [
      "\n",
      "stopping Server...\n"
     ]
    }
   ],
   "source": [
    "viz = pyLDAvis.show(vis)"
   ]
  },
  {
   "cell_type": "markdown",
   "metadata": {},
   "source": [
    "Now we turn back to evaluating speakers. What speaker talks the most about which topic? To determine this, I will use the ldamodel to find a probability distribution for each response. I will label the document by a single topic, the one which has the highest probability. This, of course, is a simplified view of what is going on, as each response can contain one or more of these topics. "
   ]
  },
  {
   "cell_type": "code",
   "execution_count": 391,
   "metadata": {},
   "outputs": [],
   "source": [
    "# Define a function to get the associated topic probabilities\n",
    "def get_doc_topics(bow,lda_model):\n",
    "    '''\n",
    "    Takes doc text in bag-of-words form and a trained lda_model\n",
    "    to return the probabilities that each document belongs to a\n",
    "    specific topic.\n",
    "    '''\n",
    "    doc_topics = []\n",
    "    for doc in bow:\n",
    "        doc_topics.append(np.array(lda_model.get_document_topics(doc)))\n",
    "    return doc_topics"
   ]
  },
  {
   "cell_type": "code",
   "execution_count": 392,
   "metadata": {},
   "outputs": [],
   "source": [
    "doc_topics = get_doc_topics(corpus,lda_model)"
   ]
  },
  {
   "cell_type": "code",
   "execution_count": 393,
   "metadata": {},
   "outputs": [],
   "source": [
    "highest_prob = []\n",
    "for doc in doc_topics:    \n",
    "    highest_prob.append(doc[np.argmax(doc[:,1])][0])"
   ]
  },
  {
   "cell_type": "code",
   "execution_count": 394,
   "metadata": {},
   "outputs": [],
   "source": [
    "df['Topic'] = highest_prob"
   ]
  },
  {
   "cell_type": "code",
   "execution_count": 395,
   "metadata": {},
   "outputs": [],
   "source": [
    "# creating sub dataframes\n",
    "biden = df[df['speaker'] == 'Joe Biden']\n",
    "sanders = df[df['speaker'] == 'Bernie Sanders']\n",
    "klobuchar = df[df['speaker'] == 'Amy Klobuchar']\n",
    "warren = df[df['speaker'] == 'Elizabeth Warren']\n",
    "buttigieg = df[df['speaker'] == 'Pete Buttigieg']\n",
    "gabbard = df[df['speaker'] == 'Tulsi Gabbard']\n",
    "bloomberg = df[df['speaker'] == 'Michael Bloomberg']"
   ]
  },
  {
   "cell_type": "code",
   "execution_count": 403,
   "metadata": {
    "scrolled": true
   },
   "outputs": [
    {
     "data": {
      "text/plain": [
       "array([[<matplotlib.axes._subplots.AxesSubplot object at 0x7ffa0784cfd0>]],\n",
       "      dtype=object)"
      ]
     },
     "execution_count": 403,
     "metadata": {},
     "output_type": "execute_result"
    },
    {
     "data": {
      "image/png": "[encoded data removed]",
      "text/plain": [
       "<Figure size 432x288 with 1 Axes>"
      ]
     },
     "metadata": {},
     "output_type": "display_data"
    }
   ],
   "source": [
    "biden.hist(column='Topic',bins=6,range=(-0.5,5.5),density=True)"
   ]
  },
  {
   "cell_type": "code",
   "execution_count": 404,
   "metadata": {},
   "outputs": [
    {
     "data": {
      "text/plain": [
       "array([[<matplotlib.axes._subplots.AxesSubplot object at 0x7ffa07a29890>]],\n",
       "      dtype=object)"
      ]
     },
     "execution_count": 404,
     "metadata": {},
     "output_type": "execute_result"
    },
    {
     "data": {
      "image/png": "[encoded data removed]",
      "text/plain": [
       "<Figure size 432x288 with 1 Axes>"
      ]
     },
     "metadata": {},
     "output_type": "display_data"
    }
   ],
   "source": [
    "sanders.hist(column='Topic',bins=6,range=(-0.5,5.5),density=True)"
   ]
  },
  {
   "cell_type": "code",
   "execution_count": 405,
   "metadata": {},
   "outputs": [
    {
     "data": {
      "text/plain": [
       "array([[<matplotlib.axes._subplots.AxesSubplot object at 0x7ffa07bafcd0>]],\n",
       "      dtype=object)"
      ]
     },
     "execution_count": 405,
     "metadata": {},
     "output_type": "execute_result"
    },
    {
     "data": {
      "image/png": "[encoded data removed]",
      "text/plain": [
       "<Figure size 432x288 with 1 Axes>"
      ]
     },
     "metadata": {},
     "output_type": "display_data"
    }
   ],
   "source": [
    "klobuchar.hist(column='Topic',bins=6,range=(-0.5,5.5),density=True)"
   ]
  },
  {
   "cell_type": "code",
   "execution_count": 406,
   "metadata": {},
   "outputs": [
    {
     "data": {
      "text/plain": [
       "array([[<matplotlib.axes._subplots.AxesSubplot object at 0x7ffa07a9ac50>]],\n",
       "      dtype=object)"
      ]
     },
     "execution_count": 406,
     "metadata": {},
     "output_type": "execute_result"
    },
    {
     "data": {
      "image/png": "[encoded data removed]",
      "text/plain": [
       "<Figure size 432x288 with 1 Axes>"
      ]
     },
     "metadata": {},
     "output_type": "display_data"
    }
   ],
   "source": [
    "warren.hist(column='Topic',bins=6,range=(-0.5,5.5),density=True)"
   ]
  },
  {
   "cell_type": "code",
   "execution_count": 407,
   "metadata": {},
   "outputs": [
    {
     "data": {
      "text/plain": [
       "array([[<matplotlib.axes._subplots.AxesSubplot object at 0x7ffa07c667d0>]],\n",
       "      dtype=object)"
      ]
     },
     "execution_count": 407,
     "metadata": {},
     "output_type": "execute_result"
    },
    {
     "data": {
      "image/png": "[encoded data removed]",
      "text/plain": [
       "<Figure size 432x288 with 1 Axes>"
      ]
     },
     "metadata": {},
     "output_type": "display_data"
    }
   ],
   "source": [
    "buttigieg.hist(column='Topic',bins=6,range=(-0.5,5.5),density=True)"
   ]
  },
  {
   "cell_type": "code",
   "execution_count": 408,
   "metadata": {},
   "outputs": [
    {
     "data": {
      "text/plain": [
       "array([[<matplotlib.axes._subplots.AxesSubplot object at 0x7ffa07a53d50>]],\n",
       "      dtype=object)"
      ]
     },
     "execution_count": 408,
     "metadata": {},
     "output_type": "execute_result"
    },
    {
     "data": {
      "image/png": "[encoded data removed]",
      "text/plain": [
       "<Figure size 432x288 with 1 Axes>"
      ]
     },
     "metadata": {},
     "output_type": "display_data"
    }
   ],
   "source": [
    "gabbard.hist(column='Topic',bins=6,range=(-0.5,5.5),density=True)"
   ]
  },
  {
   "cell_type": "code",
   "execution_count": 409,
   "metadata": {},
   "outputs": [
    {
     "data": {
      "text/plain": [
       "array([[<matplotlib.axes._subplots.AxesSubplot object at 0x7ffa0799e950>]],\n",
       "      dtype=object)"
      ]
     },
     "execution_count": 409,
     "metadata": {},
     "output_type": "execute_result"
    },
    {
     "data": {
      "image/png": "[encoded data removed]",
      "text/plain": [
       "<Figure size 432x288 with 1 Axes>"
      ]
     },
     "metadata": {},
     "output_type": "display_data"
    }
   ],
   "source": [
    "bloomberg.hist(column='Topic',bins=6,range=(-0.5,5.5),density=True)"
   ]
  },
  {
   "cell_type": "markdown",
   "metadata": {},
   "source": [
    "It is clear that most candidates loop in discussion about the American people or the country. This makes sense. They are, after all, attempting to run to be president of the United States.\n",
    "\n",
    "We can also see, that both Warren and Bernie spend a large portion of their responses talking about health care than the other candidates. Tulsi Gabbard's main focus appears to be guns."
   ]
  },
  {
   "cell_type": "markdown",
   "metadata": {},
   "source": [
    "### TO DOs\n",
    "\n",
    "- Loop in time\n",
    "- Finish explanation of LDA and the parameters"
   ]
  },
  {
   "cell_type": "markdown",
   "metadata": {},
   "source": [
    "### Things that could be improved\n",
    "\n",
    "I went into this project knowing virtually nothing about NLP, so I'm sure there's a lot which could be improved beyond what I list here.\n",
    "\n",
    "- If I wanted to keep more of the data, I could potentially analyze the number of works spoken for those missing speaking_time entries and estimate how much times is taken up by those sections using the average words spoken.\n",
    "\n",
    "- I removed short segments based on eye-balling the topics. I could have looked at the distribution of words for all time segments, after removing stop words, and see when words related to policy show up.\n",
    "\n",
    "- Keep moderator questions. If I kept moderator questions, I could ask more questions about whether the candidate avoided the question.\n",
    "\n",
    "- Allow for multiple topic statements.\n",
    "\n",
    "- Improve topic model coherence due with regulation? https://www.researchgate.net/publication/260639294_Improving_Topic_Coherence_with_Regularized_Topic_Models\n",
    "\n",
    "- k-fold cross-validation?"
   ]
  },
  {
   "cell_type": "code",
   "execution_count": 413,
   "metadata": {},
   "outputs": [
    {
     "data": {
      "text/html": [
       "<div>\n",
       "<style scoped>\n",
       "    .dataframe tbody tr th:only-of-type {\n",
       "        vertical-align: middle;\n",
       "    }\n",
       "\n",
       "    .dataframe tbody tr th {\n",
       "        vertical-align: top;\n",
       "    }\n",
       "\n",
       "    .dataframe thead th {\n",
       "        text-align: right;\n",
       "    }\n",
       "</style>\n",
       "<table border=\"1\" class=\"dataframe\">\n",
       "  <thead>\n",
       "    <tr style=\"text-align: right;\">\n",
       "      <th></th>\n",
       "      <th>debate_name</th>\n",
       "      <th>debate_section</th>\n",
       "      <th>speaker</th>\n",
       "      <th>speech</th>\n",
       "      <th>speaking_time_seconds</th>\n",
       "      <th>Topic</th>\n",
       "    </tr>\n",
       "  </thead>\n",
       "  <tbody>\n",
       "    <tr>\n",
       "      <th>0</th>\n",
       "      <td>New Hampshire Democratic Debate Transcript</td>\n",
       "      <td>Part 1</td>\n",
       "      <td>Joe Biden</td>\n",
       "      <td>Oh, they didn’t miss anything. It’s a long rac...</td>\n",
       "      <td>36.0</td>\n",
       "      <td>1.0</td>\n",
       "    </tr>\n",
       "    <tr>\n",
       "      <th>1</th>\n",
       "      <td>New Hampshire Democratic Debate Transcript</td>\n",
       "      <td>Part 1</td>\n",
       "      <td>Joe Biden</td>\n",
       "      <td>Well, you know that with regard to Senator San...</td>\n",
       "      <td>41.0</td>\n",
       "      <td>3.0</td>\n",
       "    </tr>\n",
       "    <tr>\n",
       "      <th>12</th>\n",
       "      <td>New Hampshire Democratic Debate Transcript</td>\n",
       "      <td>Part 1</td>\n",
       "      <td>Joe Biden</td>\n",
       "      <td>Look, Bernie says that you have to bring peopl...</td>\n",
       "      <td>54.0</td>\n",
       "      <td>0.0</td>\n",
       "    </tr>\n",
       "    <tr>\n",
       "      <th>13</th>\n",
       "      <td>New Hampshire Democratic Debate Transcript</td>\n",
       "      <td>Part 1</td>\n",
       "      <td>Joe Biden</td>\n",
       "      <td>I think that was on CBS. He said, ” We’ll find...</td>\n",
       "      <td>25.0</td>\n",
       "      <td>0.0</td>\n",
       "    </tr>\n",
       "    <tr>\n",
       "      <th>15</th>\n",
       "      <td>New Hampshire Democratic Debate Transcript</td>\n",
       "      <td>Part 1</td>\n",
       "      <td>Joe Biden</td>\n",
       "      <td>30 second-</td>\n",
       "      <td>2.0</td>\n",
       "      <td>0.0</td>\n",
       "    </tr>\n",
       "    <tr>\n",
       "      <th>...</th>\n",
       "      <td>...</td>\n",
       "      <td>...</td>\n",
       "      <td>...</td>\n",
       "      <td>...</td>\n",
       "      <td>...</td>\n",
       "      <td>...</td>\n",
       "    </tr>\n",
       "    <tr>\n",
       "      <th>1517</th>\n",
       "      <td>Democratic Debate Transcript: Las Vegas, Nevad...</td>\n",
       "      <td>Part 2</td>\n",
       "      <td>Joe Biden</td>\n",
       "      <td>Look, I’m running because so many people are b...</td>\n",
       "      <td>23.0</td>\n",
       "      <td>3.0</td>\n",
       "    </tr>\n",
       "    <tr>\n",
       "      <th>1518</th>\n",
       "      <td>Democratic Debate Transcript: Las Vegas, Nevad...</td>\n",
       "      <td>Part 2</td>\n",
       "      <td>Joe Biden</td>\n",
       "      <td>Right here in Nevada the site of the most sign...</td>\n",
       "      <td>18.0</td>\n",
       "      <td>1.0</td>\n",
       "    </tr>\n",
       "    <tr>\n",
       "      <th>1519</th>\n",
       "      <td>Democratic Debate Transcript: Las Vegas, Nevad...</td>\n",
       "      <td>Part 2</td>\n",
       "      <td>Joe Biden</td>\n",
       "      <td>With regard to healthcare, it also is somethin...</td>\n",
       "      <td>8.0</td>\n",
       "      <td>0.0</td>\n",
       "    </tr>\n",
       "    <tr>\n",
       "      <th>1520</th>\n",
       "      <td>Democratic Debate Transcript: Las Vegas, Nevad...</td>\n",
       "      <td>Part 2</td>\n",
       "      <td>Joe Biden</td>\n",
       "      <td>Lastly, I think it’s important that on day one...</td>\n",
       "      <td>13.0</td>\n",
       "      <td>5.0</td>\n",
       "    </tr>\n",
       "    <tr>\n",
       "      <th>1521</th>\n",
       "      <td>Democratic Debate Transcript: Las Vegas, Nevad...</td>\n",
       "      <td>Part 2</td>\n",
       "      <td>Joe Biden</td>\n",
       "      <td>Had, in fact, that immigration bill passed the...</td>\n",
       "      <td>5.0</td>\n",
       "      <td>5.0</td>\n",
       "    </tr>\n",
       "  </tbody>\n",
       "</table>\n",
       "<p>332 rows × 6 columns</p>\n",
       "</div>"
      ],
      "text/plain": [
       "                                            debate_name debate_section  \\\n",
       "0            New Hampshire Democratic Debate Transcript         Part 1   \n",
       "1            New Hampshire Democratic Debate Transcript         Part 1   \n",
       "12           New Hampshire Democratic Debate Transcript         Part 1   \n",
       "13           New Hampshire Democratic Debate Transcript         Part 1   \n",
       "15           New Hampshire Democratic Debate Transcript         Part 1   \n",
       "...                                                 ...            ...   \n",
       "1517  Democratic Debate Transcript: Las Vegas, Nevad...         Part 2   \n",
       "1518  Democratic Debate Transcript: Las Vegas, Nevad...         Part 2   \n",
       "1519  Democratic Debate Transcript: Las Vegas, Nevad...         Part 2   \n",
       "1520  Democratic Debate Transcript: Las Vegas, Nevad...         Part 2   \n",
       "1521  Democratic Debate Transcript: Las Vegas, Nevad...         Part 2   \n",
       "\n",
       "        speaker                                             speech  \\\n",
       "0     Joe Biden  Oh, they didn’t miss anything. It’s a long rac...   \n",
       "1     Joe Biden  Well, you know that with regard to Senator San...   \n",
       "12    Joe Biden  Look, Bernie says that you have to bring peopl...   \n",
       "13    Joe Biden  I think that was on CBS. He said, ” We’ll find...   \n",
       "15    Joe Biden                                         30 second-   \n",
       "...         ...                                                ...   \n",
       "1517  Joe Biden  Look, I’m running because so many people are b...   \n",
       "1518  Joe Biden  Right here in Nevada the site of the most sign...   \n",
       "1519  Joe Biden  With regard to healthcare, it also is somethin...   \n",
       "1520  Joe Biden  Lastly, I think it’s important that on day one...   \n",
       "1521  Joe Biden  Had, in fact, that immigration bill passed the...   \n",
       "\n",
       "      speaking_time_seconds  Topic  \n",
       "0                      36.0    1.0  \n",
       "1                      41.0    3.0  \n",
       "12                     54.0    0.0  \n",
       "13                     25.0    0.0  \n",
       "15                      2.0    0.0  \n",
       "...                     ...    ...  \n",
       "1517                   23.0    3.0  \n",
       "1518                   18.0    1.0  \n",
       "1519                    8.0    0.0  \n",
       "1520                   13.0    5.0  \n",
       "1521                    5.0    5.0  \n",
       "\n",
       "[332 rows x 6 columns]"
      ]
     },
     "execution_count": 413,
     "metadata": {},
     "output_type": "execute_result"
    }
   ],
   "source": [
    "biden"
   ]
  },
  {
   "cell_type": "code",
   "execution_count": 415,
   "metadata": {},
   "outputs": [
    {
     "data": {
      "text/html": [
       "<div>\n",
       "<style scoped>\n",
       "    .dataframe tbody tr th:only-of-type {\n",
       "        vertical-align: middle;\n",
       "    }\n",
       "\n",
       "    .dataframe tbody tr th {\n",
       "        vertical-align: top;\n",
       "    }\n",
       "\n",
       "    .dataframe thead th {\n",
       "        text-align: right;\n",
       "    }\n",
       "</style>\n",
       "<table border=\"1\" class=\"dataframe\">\n",
       "  <thead>\n",
       "    <tr style=\"text-align: right;\">\n",
       "      <th></th>\n",
       "      <th>debate_name</th>\n",
       "      <th>debate_section</th>\n",
       "      <th>speaker</th>\n",
       "      <th>speech</th>\n",
       "      <th>speaking_time_seconds</th>\n",
       "      <th>Topic</th>\n",
       "    </tr>\n",
       "  </thead>\n",
       "  <tbody>\n",
       "    <tr>\n",
       "      <th>0</th>\n",
       "      <td>New Hampshire Democratic Debate Transcript</td>\n",
       "      <td>Part 1</td>\n",
       "      <td>Joe Biden</td>\n",
       "      <td>Oh, they didn’t miss anything. It’s a long rac...</td>\n",
       "      <td>36.0</td>\n",
       "      <td>1.0</td>\n",
       "    </tr>\n",
       "    <tr>\n",
       "      <th>1</th>\n",
       "      <td>New Hampshire Democratic Debate Transcript</td>\n",
       "      <td>Part 1</td>\n",
       "      <td>Joe Biden</td>\n",
       "      <td>Well, you know that with regard to Senator San...</td>\n",
       "      <td>41.0</td>\n",
       "      <td>3.0</td>\n",
       "    </tr>\n",
       "    <tr>\n",
       "      <th>12</th>\n",
       "      <td>New Hampshire Democratic Debate Transcript</td>\n",
       "      <td>Part 1</td>\n",
       "      <td>Joe Biden</td>\n",
       "      <td>Look, Bernie says that you have to bring peopl...</td>\n",
       "      <td>54.0</td>\n",
       "      <td>0.0</td>\n",
       "    </tr>\n",
       "    <tr>\n",
       "      <th>13</th>\n",
       "      <td>New Hampshire Democratic Debate Transcript</td>\n",
       "      <td>Part 1</td>\n",
       "      <td>Joe Biden</td>\n",
       "      <td>I think that was on CBS. He said, ” We’ll find...</td>\n",
       "      <td>25.0</td>\n",
       "      <td>0.0</td>\n",
       "    </tr>\n",
       "    <tr>\n",
       "      <th>15</th>\n",
       "      <td>New Hampshire Democratic Debate Transcript</td>\n",
       "      <td>Part 1</td>\n",
       "      <td>Joe Biden</td>\n",
       "      <td>30 second-</td>\n",
       "      <td>2.0</td>\n",
       "      <td>0.0</td>\n",
       "    </tr>\n",
       "    <tr>\n",
       "      <th>16</th>\n",
       "      <td>New Hampshire Democratic Debate Transcript</td>\n",
       "      <td>Part 1</td>\n",
       "      <td>Joe Biden</td>\n",
       "      <td>30 second response. My proposal gives you a ch...</td>\n",
       "      <td>40.0</td>\n",
       "      <td>0.0</td>\n",
       "    </tr>\n",
       "    <tr>\n",
       "      <th>22</th>\n",
       "      <td>New Hampshire Democratic Debate Transcript</td>\n",
       "      <td>Part 1</td>\n",
       "      <td>Joe Biden</td>\n",
       "      <td>The politics of the past I think were not all ...</td>\n",
       "      <td>34.0</td>\n",
       "      <td>5.0</td>\n",
       "    </tr>\n",
       "    <tr>\n",
       "      <th>23</th>\n",
       "      <td>New Hampshire Democratic Debate Transcript</td>\n",
       "      <td>Part 1</td>\n",
       "      <td>Joe Biden</td>\n",
       "      <td>… Happened, what is it that he wants to do awa...</td>\n",
       "      <td>15.0</td>\n",
       "      <td>1.0</td>\n",
       "    </tr>\n",
       "    <tr>\n",
       "      <th>37</th>\n",
       "      <td>New Hampshire Democratic Debate Transcript</td>\n",
       "      <td>Part 1</td>\n",
       "      <td>Joe Biden</td>\n",
       "      <td>I thank my colleague for saying that. It is a ...</td>\n",
       "      <td>52.0</td>\n",
       "      <td>3.0</td>\n",
       "    </tr>\n",
       "    <tr>\n",
       "      <th>53</th>\n",
       "      <td>New Hampshire Democratic Debate Transcript</td>\n",
       "      <td>Part 1</td>\n",
       "      <td>Joe Biden</td>\n",
       "      <td>No. And the reason I wouldn’t have ordered the...</td>\n",
       "      <td>32.0</td>\n",
       "      <td>3.0</td>\n",
       "    </tr>\n",
       "    <tr>\n",
       "      <th>54</th>\n",
       "      <td>New Hampshire Democratic Debate Transcript</td>\n",
       "      <td>Part 1</td>\n",
       "      <td>Joe Biden</td>\n",
       "      <td>And secondly, you saw what happened when that ...</td>\n",
       "      <td>31.0</td>\n",
       "      <td>3.0</td>\n",
       "    </tr>\n",
       "    <tr>\n",
       "      <th>61</th>\n",
       "      <td>New Hampshire Democratic Debate Transcript</td>\n",
       "      <td>Part 1</td>\n",
       "      <td>Joe Biden</td>\n",
       "      <td>I’m not sure what she, if she wants to pull al...</td>\n",
       "      <td>8.0</td>\n",
       "      <td>3.0</td>\n",
       "    </tr>\n",
       "    <tr>\n",
       "      <th>63</th>\n",
       "      <td>New Hampshire Democratic Debate Transcript</td>\n",
       "      <td>Part 1</td>\n",
       "      <td>Joe Biden</td>\n",
       "      <td>Number two, close your eye, everybody. Remembe...</td>\n",
       "      <td>20.0</td>\n",
       "      <td>5.0</td>\n",
       "    </tr>\n",
       "    <tr>\n",
       "      <th>68</th>\n",
       "      <td>New Hampshire Democratic Debate Transcript</td>\n",
       "      <td>Part 1</td>\n",
       "      <td>Joe Biden</td>\n",
       "      <td>The other thing I want to point out too is tha...</td>\n",
       "      <td>36.0</td>\n",
       "      <td>2.0</td>\n",
       "    </tr>\n",
       "    <tr>\n",
       "      <th>69</th>\n",
       "      <td>New Hampshire Democratic Debate Transcript</td>\n",
       "      <td>Part 1</td>\n",
       "      <td>Joe Biden</td>\n",
       "      <td>That’s not what I said, I was part of the reas...</td>\n",
       "      <td>42.0</td>\n",
       "      <td>2.0</td>\n",
       "    </tr>\n",
       "    <tr>\n",
       "      <th>81</th>\n",
       "      <td>New Hampshire Democratic Debate Transcript</td>\n",
       "      <td>Part 2</td>\n",
       "      <td>Joe Biden</td>\n",
       "      <td>Here’s the deal. The biggest mistake that Bern...</td>\n",
       "      <td>38.0</td>\n",
       "      <td>1.0</td>\n",
       "    </tr>\n",
       "    <tr>\n",
       "      <th>82</th>\n",
       "      <td>New Hampshire Democratic Debate Transcript</td>\n",
       "      <td>Part 2</td>\n",
       "      <td>Joe Biden</td>\n",
       "      <td>I come from a state that’s a major gun owning ...</td>\n",
       "      <td>48.0</td>\n",
       "      <td>1.0</td>\n",
       "    </tr>\n",
       "    <tr>\n",
       "      <th>86</th>\n",
       "      <td>New Hampshire Democratic Debate Transcript</td>\n",
       "      <td>Part 2</td>\n",
       "      <td>Joe Biden</td>\n",
       "      <td>If you say the rest of what I said. I said tha...</td>\n",
       "      <td>48.0</td>\n",
       "      <td>4.0</td>\n",
       "    </tr>\n",
       "    <tr>\n",
       "      <th>87</th>\n",
       "      <td>New Hampshire Democratic Debate Transcript</td>\n",
       "      <td>Part 2</td>\n",
       "      <td>Joe Biden</td>\n",
       "      <td>Yes. Look, here’s the deal. Litmus test on abo...</td>\n",
       "      <td>52.0</td>\n",
       "      <td>5.0</td>\n",
       "    </tr>\n",
       "    <tr>\n",
       "      <th>92</th>\n",
       "      <td>New Hampshire Democratic Debate Transcript</td>\n",
       "      <td>Part 2</td>\n",
       "      <td>Joe Biden</td>\n",
       "      <td>I agree with Ruth Bader Ginsburg. That’s who I...</td>\n",
       "      <td>47.0</td>\n",
       "      <td>4.0</td>\n",
       "    </tr>\n",
       "    <tr>\n",
       "      <th>93</th>\n",
       "      <td>New Hampshire Democratic Debate Transcript</td>\n",
       "      <td>Part 2</td>\n",
       "      <td>Joe Biden</td>\n",
       "      <td>That’s why it’s so important we must win back ...</td>\n",
       "      <td>39.0</td>\n",
       "      <td>5.0</td>\n",
       "    </tr>\n",
       "    <tr>\n",
       "      <th>102</th>\n",
       "      <td>New Hampshire Democratic Debate Transcript</td>\n",
       "      <td>Part 2</td>\n",
       "      <td>Joe Biden</td>\n",
       "      <td>I’m asking you to join me and join in the supp...</td>\n",
       "      <td>11.0</td>\n",
       "      <td>5.0</td>\n",
       "    </tr>\n",
       "    <tr>\n",
       "      <th>103</th>\n",
       "      <td>New Hampshire Democratic Debate Transcript</td>\n",
       "      <td>Part 2</td>\n",
       "      <td>Joe Biden</td>\n",
       "      <td>This is not about polls. I’m not talking about...</td>\n",
       "      <td>4.0</td>\n",
       "      <td>1.0</td>\n",
       "    </tr>\n",
       "    <tr>\n",
       "      <th>117</th>\n",
       "      <td>New Hampshire Democratic Debate Transcript</td>\n",
       "      <td>Part 2</td>\n",
       "      <td>Joe Biden</td>\n",
       "      <td>Okay, thank you.</td>\n",
       "      <td>3.0</td>\n",
       "      <td>0.0</td>\n",
       "    </tr>\n",
       "    <tr>\n",
       "      <th>162</th>\n",
       "      <td>January Iowa Democratic Debate Transcript</td>\n",
       "      <td>Entire Debate</td>\n",
       "      <td>Joe Biden</td>\n",
       "      <td>I was part of that deal to get the nuclear agr...</td>\n",
       "      <td>56.0</td>\n",
       "      <td>2.0</td>\n",
       "    </tr>\n",
       "    <tr>\n",
       "      <th>185</th>\n",
       "      <td>January Iowa Democratic Debate Transcript</td>\n",
       "      <td>Entire Debate</td>\n",
       "      <td>Joe Biden</td>\n",
       "      <td>No, not now. I wouldn’t meet with him without ...</td>\n",
       "      <td>36.0</td>\n",
       "      <td>2.0</td>\n",
       "    </tr>\n",
       "    <tr>\n",
       "      <th>186</th>\n",
       "      <td>January Iowa Democratic Debate Transcript</td>\n",
       "      <td>Entire Debate</td>\n",
       "      <td>Joe Biden</td>\n",
       "      <td>And when China said to me, when Xi Jinping sai...</td>\n",
       "      <td>38.0</td>\n",
       "      <td>2.0</td>\n",
       "    </tr>\n",
       "    <tr>\n",
       "      <th>374</th>\n",
       "      <td>December Democratic Debate Transcript: Sixth D...</td>\n",
       "      <td>Democratic Debate Part 1</td>\n",
       "      <td>Joe Biden</td>\n",
       "      <td>Bibi Netanyahu and I know one another well. He...</td>\n",
       "      <td>18.0</td>\n",
       "      <td>4.0</td>\n",
       "    </tr>\n",
       "    <tr>\n",
       "      <th>616</th>\n",
       "      <td>October Democratic Debate Transcript: 4th Deba...</td>\n",
       "      <td>Entire Debate</td>\n",
       "      <td>Joe Biden</td>\n",
       "      <td>This president on three occasions, three occas...</td>\n",
       "      <td>32.0</td>\n",
       "      <td>4.0</td>\n",
       "    </tr>\n",
       "    <tr>\n",
       "      <th>726</th>\n",
       "      <td>October Democratic Debate Transcript: 4th Deba...</td>\n",
       "      <td>Entire Debate</td>\n",
       "      <td>Joe Biden</td>\n",
       "      <td>I would not get in a Court [pecking 02:23:13]....</td>\n",
       "      <td>10.0</td>\n",
       "      <td>4.0</td>\n",
       "    </tr>\n",
       "  </tbody>\n",
       "</table>\n",
       "</div>"
      ],
      "text/plain": [
       "                                           debate_name  \\\n",
       "0           New Hampshire Democratic Debate Transcript   \n",
       "1           New Hampshire Democratic Debate Transcript   \n",
       "12          New Hampshire Democratic Debate Transcript   \n",
       "13          New Hampshire Democratic Debate Transcript   \n",
       "15          New Hampshire Democratic Debate Transcript   \n",
       "16          New Hampshire Democratic Debate Transcript   \n",
       "22          New Hampshire Democratic Debate Transcript   \n",
       "23          New Hampshire Democratic Debate Transcript   \n",
       "37          New Hampshire Democratic Debate Transcript   \n",
       "53          New Hampshire Democratic Debate Transcript   \n",
       "54          New Hampshire Democratic Debate Transcript   \n",
       "61          New Hampshire Democratic Debate Transcript   \n",
       "63          New Hampshire Democratic Debate Transcript   \n",
       "68          New Hampshire Democratic Debate Transcript   \n",
       "69          New Hampshire Democratic Debate Transcript   \n",
       "81          New Hampshire Democratic Debate Transcript   \n",
       "82          New Hampshire Democratic Debate Transcript   \n",
       "86          New Hampshire Democratic Debate Transcript   \n",
       "87          New Hampshire Democratic Debate Transcript   \n",
       "92          New Hampshire Democratic Debate Transcript   \n",
       "93          New Hampshire Democratic Debate Transcript   \n",
       "102         New Hampshire Democratic Debate Transcript   \n",
       "103         New Hampshire Democratic Debate Transcript   \n",
       "117         New Hampshire Democratic Debate Transcript   \n",
       "162          January Iowa Democratic Debate Transcript   \n",
       "185          January Iowa Democratic Debate Transcript   \n",
       "186          January Iowa Democratic Debate Transcript   \n",
       "374  December Democratic Debate Transcript: Sixth D...   \n",
       "616  October Democratic Debate Transcript: 4th Deba...   \n",
       "726  October Democratic Debate Transcript: 4th Deba...   \n",
       "\n",
       "               debate_section    speaker  \\\n",
       "0                      Part 1  Joe Biden   \n",
       "1                      Part 1  Joe Biden   \n",
       "12                     Part 1  Joe Biden   \n",
       "13                     Part 1  Joe Biden   \n",
       "15                     Part 1  Joe Biden   \n",
       "16                     Part 1  Joe Biden   \n",
       "22                     Part 1  Joe Biden   \n",
       "23                     Part 1  Joe Biden   \n",
       "37                     Part 1  Joe Biden   \n",
       "53                     Part 1  Joe Biden   \n",
       "54                     Part 1  Joe Biden   \n",
       "61                     Part 1  Joe Biden   \n",
       "63                     Part 1  Joe Biden   \n",
       "68                     Part 1  Joe Biden   \n",
       "69                     Part 1  Joe Biden   \n",
       "81                     Part 2  Joe Biden   \n",
       "82                     Part 2  Joe Biden   \n",
       "86                     Part 2  Joe Biden   \n",
       "87                     Part 2  Joe Biden   \n",
       "92                     Part 2  Joe Biden   \n",
       "93                     Part 2  Joe Biden   \n",
       "102                    Part 2  Joe Biden   \n",
       "103                    Part 2  Joe Biden   \n",
       "117                    Part 2  Joe Biden   \n",
       "162             Entire Debate  Joe Biden   \n",
       "185             Entire Debate  Joe Biden   \n",
       "186             Entire Debate  Joe Biden   \n",
       "374  Democratic Debate Part 1  Joe Biden   \n",
       "616             Entire Debate  Joe Biden   \n",
       "726             Entire Debate  Joe Biden   \n",
       "\n",
       "                                                speech  speaking_time_seconds  \\\n",
       "0    Oh, they didn’t miss anything. It’s a long rac...                   36.0   \n",
       "1    Well, you know that with regard to Senator San...                   41.0   \n",
       "12   Look, Bernie says that you have to bring peopl...                   54.0   \n",
       "13   I think that was on CBS. He said, ” We’ll find...                   25.0   \n",
       "15                                          30 second-                    2.0   \n",
       "16   30 second response. My proposal gives you a ch...                   40.0   \n",
       "22   The politics of the past I think were not all ...                   34.0   \n",
       "23   … Happened, what is it that he wants to do awa...                   15.0   \n",
       "37   I thank my colleague for saying that. It is a ...                   52.0   \n",
       "53   No. And the reason I wouldn’t have ordered the...                   32.0   \n",
       "54   And secondly, you saw what happened when that ...                   31.0   \n",
       "61   I’m not sure what she, if she wants to pull al...                    8.0   \n",
       "63   Number two, close your eye, everybody. Remembe...                   20.0   \n",
       "68   The other thing I want to point out too is tha...                   36.0   \n",
       "69   That’s not what I said, I was part of the reas...                   42.0   \n",
       "81   Here’s the deal. The biggest mistake that Bern...                   38.0   \n",
       "82   I come from a state that’s a major gun owning ...                   48.0   \n",
       "86   If you say the rest of what I said. I said tha...                   48.0   \n",
       "87   Yes. Look, here’s the deal. Litmus test on abo...                   52.0   \n",
       "92   I agree with Ruth Bader Ginsburg. That’s who I...                   47.0   \n",
       "93   That’s why it’s so important we must win back ...                   39.0   \n",
       "102  I’m asking you to join me and join in the supp...                   11.0   \n",
       "103  This is not about polls. I’m not talking about...                    4.0   \n",
       "117                                   Okay, thank you.                    3.0   \n",
       "162  I was part of that deal to get the nuclear agr...                   56.0   \n",
       "185  No, not now. I wouldn’t meet with him without ...                   36.0   \n",
       "186  And when China said to me, when Xi Jinping sai...                   38.0   \n",
       "374  Bibi Netanyahu and I know one another well. He...                   18.0   \n",
       "616  This president on three occasions, three occas...                   32.0   \n",
       "726  I would not get in a Court [pecking 02:23:13]....                   10.0   \n",
       "\n",
       "     Topic  \n",
       "0      1.0  \n",
       "1      3.0  \n",
       "12     0.0  \n",
       "13     0.0  \n",
       "15     0.0  \n",
       "16     0.0  \n",
       "22     5.0  \n",
       "23     1.0  \n",
       "37     3.0  \n",
       "53     3.0  \n",
       "54     3.0  \n",
       "61     3.0  \n",
       "63     5.0  \n",
       "68     2.0  \n",
       "69     2.0  \n",
       "81     1.0  \n",
       "82     1.0  \n",
       "86     4.0  \n",
       "87     5.0  \n",
       "92     4.0  \n",
       "93     5.0  \n",
       "102    5.0  \n",
       "103    1.0  \n",
       "117    0.0  \n",
       "162    2.0  \n",
       "185    2.0  \n",
       "186    2.0  \n",
       "374    4.0  \n",
       "616    4.0  \n",
       "726    4.0  "
      ]
     },
     "execution_count": 415,
     "metadata": {},
     "output_type": "execute_result"
    }
   ],
   "source": [
    "biden.groupby('Topic').head()"
   ]
  },
  {
   "cell_type": "code",
   "execution_count": null,
   "metadata": {},
   "outputs": [],
   "source": []
  }
 ],
 "metadata": {
  "kernelspec": {
   "display_name": "Python 3",
   "language": "python",
   "name": "python3"
  },
  "language_info": {
   "codemirror_mode": {
    "name": "ipython",
    "version": 3
   },
   "file_extension": ".py",
   "mimetype": "text/x-python",
   "name": "python",
   "nbconvert_exporter": "python",
   "pygments_lexer": "ipython3",
   "version": "3.7.6"
  }
 },
 "nbformat": 4,
 "nbformat_minor": 4
}
